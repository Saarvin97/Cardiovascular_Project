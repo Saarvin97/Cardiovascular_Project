{
 "cells": [
  {
   "cell_type": "markdown",
   "id": "2ddb806f",
   "metadata": {},
   "source": [
    "# BDC Project"
   ]
  },
  {
   "cell_type": "markdown",
   "id": "54cecfbf-3c79-4d08-b03b-ca24c69868cc",
   "metadata": {
    "jp-MarkdownHeadingCollapsed": true,
    "tags": []
   },
   "source": [
    "## Data Wrangling"
   ]
  },
  {
   "cell_type": "code",
   "execution_count": 1,
   "id": "86480bdf-b72d-475e-af3f-331624d553b1",
   "metadata": {
    "scrolled": true
   },
   "outputs": [
    {
     "data": {
      "text/html": [
       "<div>\n",
       "<style scoped>\n",
       "    .dataframe tbody tr th:only-of-type {\n",
       "        vertical-align: middle;\n",
       "    }\n",
       "\n",
       "    .dataframe tbody tr th {\n",
       "        vertical-align: top;\n",
       "    }\n",
       "\n",
       "    .dataframe thead th {\n",
       "        text-align: right;\n",
       "    }\n",
       "</style>\n",
       "<table border=\"1\" class=\"dataframe\">\n",
       "  <thead>\n",
       "    <tr style=\"text-align: right;\">\n",
       "      <th></th>\n",
       "      <th>id</th>\n",
       "      <th>age</th>\n",
       "      <th>gender</th>\n",
       "      <th>height</th>\n",
       "      <th>weight</th>\n",
       "      <th>ap_hi</th>\n",
       "      <th>ap_lo</th>\n",
       "      <th>cholesterol</th>\n",
       "      <th>gluc</th>\n",
       "      <th>smoke</th>\n",
       "      <th>alco</th>\n",
       "      <th>active</th>\n",
       "      <th>cardio</th>\n",
       "    </tr>\n",
       "  </thead>\n",
       "  <tbody>\n",
       "    <tr>\n",
       "      <th>0</th>\n",
       "      <td>0</td>\n",
       "      <td>18393</td>\n",
       "      <td>2</td>\n",
       "      <td>168</td>\n",
       "      <td>62.0</td>\n",
       "      <td>110</td>\n",
       "      <td>80</td>\n",
       "      <td>1</td>\n",
       "      <td>1</td>\n",
       "      <td>0</td>\n",
       "      <td>0</td>\n",
       "      <td>1</td>\n",
       "      <td>0</td>\n",
       "    </tr>\n",
       "    <tr>\n",
       "      <th>1</th>\n",
       "      <td>1</td>\n",
       "      <td>20228</td>\n",
       "      <td>1</td>\n",
       "      <td>156</td>\n",
       "      <td>85.0</td>\n",
       "      <td>140</td>\n",
       "      <td>90</td>\n",
       "      <td>3</td>\n",
       "      <td>1</td>\n",
       "      <td>0</td>\n",
       "      <td>0</td>\n",
       "      <td>1</td>\n",
       "      <td>1</td>\n",
       "    </tr>\n",
       "    <tr>\n",
       "      <th>2</th>\n",
       "      <td>2</td>\n",
       "      <td>18857</td>\n",
       "      <td>1</td>\n",
       "      <td>165</td>\n",
       "      <td>64.0</td>\n",
       "      <td>130</td>\n",
       "      <td>70</td>\n",
       "      <td>3</td>\n",
       "      <td>1</td>\n",
       "      <td>0</td>\n",
       "      <td>0</td>\n",
       "      <td>0</td>\n",
       "      <td>1</td>\n",
       "    </tr>\n",
       "    <tr>\n",
       "      <th>3</th>\n",
       "      <td>3</td>\n",
       "      <td>17623</td>\n",
       "      <td>2</td>\n",
       "      <td>169</td>\n",
       "      <td>82.0</td>\n",
       "      <td>150</td>\n",
       "      <td>100</td>\n",
       "      <td>1</td>\n",
       "      <td>1</td>\n",
       "      <td>0</td>\n",
       "      <td>0</td>\n",
       "      <td>1</td>\n",
       "      <td>1</td>\n",
       "    </tr>\n",
       "    <tr>\n",
       "      <th>4</th>\n",
       "      <td>4</td>\n",
       "      <td>17474</td>\n",
       "      <td>1</td>\n",
       "      <td>156</td>\n",
       "      <td>56.0</td>\n",
       "      <td>100</td>\n",
       "      <td>60</td>\n",
       "      <td>1</td>\n",
       "      <td>1</td>\n",
       "      <td>0</td>\n",
       "      <td>0</td>\n",
       "      <td>0</td>\n",
       "      <td>0</td>\n",
       "    </tr>\n",
       "    <tr>\n",
       "      <th>5</th>\n",
       "      <td>8</td>\n",
       "      <td>21914</td>\n",
       "      <td>1</td>\n",
       "      <td>151</td>\n",
       "      <td>67.0</td>\n",
       "      <td>120</td>\n",
       "      <td>80</td>\n",
       "      <td>2</td>\n",
       "      <td>2</td>\n",
       "      <td>0</td>\n",
       "      <td>0</td>\n",
       "      <td>0</td>\n",
       "      <td>0</td>\n",
       "    </tr>\n",
       "    <tr>\n",
       "      <th>6</th>\n",
       "      <td>9</td>\n",
       "      <td>22113</td>\n",
       "      <td>1</td>\n",
       "      <td>157</td>\n",
       "      <td>93.0</td>\n",
       "      <td>130</td>\n",
       "      <td>80</td>\n",
       "      <td>3</td>\n",
       "      <td>1</td>\n",
       "      <td>0</td>\n",
       "      <td>0</td>\n",
       "      <td>1</td>\n",
       "      <td>0</td>\n",
       "    </tr>\n",
       "    <tr>\n",
       "      <th>7</th>\n",
       "      <td>12</td>\n",
       "      <td>22584</td>\n",
       "      <td>2</td>\n",
       "      <td>178</td>\n",
       "      <td>95.0</td>\n",
       "      <td>130</td>\n",
       "      <td>90</td>\n",
       "      <td>3</td>\n",
       "      <td>3</td>\n",
       "      <td>0</td>\n",
       "      <td>0</td>\n",
       "      <td>1</td>\n",
       "      <td>1</td>\n",
       "    </tr>\n",
       "    <tr>\n",
       "      <th>8</th>\n",
       "      <td>13</td>\n",
       "      <td>17668</td>\n",
       "      <td>1</td>\n",
       "      <td>158</td>\n",
       "      <td>71.0</td>\n",
       "      <td>110</td>\n",
       "      <td>70</td>\n",
       "      <td>1</td>\n",
       "      <td>1</td>\n",
       "      <td>0</td>\n",
       "      <td>0</td>\n",
       "      <td>1</td>\n",
       "      <td>0</td>\n",
       "    </tr>\n",
       "    <tr>\n",
       "      <th>9</th>\n",
       "      <td>14</td>\n",
       "      <td>19834</td>\n",
       "      <td>1</td>\n",
       "      <td>164</td>\n",
       "      <td>68.0</td>\n",
       "      <td>110</td>\n",
       "      <td>60</td>\n",
       "      <td>1</td>\n",
       "      <td>1</td>\n",
       "      <td>0</td>\n",
       "      <td>0</td>\n",
       "      <td>0</td>\n",
       "      <td>0</td>\n",
       "    </tr>\n",
       "  </tbody>\n",
       "</table>\n",
       "</div>"
      ],
      "text/plain": [
       "   id    age  gender  height  weight  ap_hi  ap_lo  cholesterol  gluc  smoke  \\\n",
       "0   0  18393       2     168    62.0    110     80            1     1      0   \n",
       "1   1  20228       1     156    85.0    140     90            3     1      0   \n",
       "2   2  18857       1     165    64.0    130     70            3     1      0   \n",
       "3   3  17623       2     169    82.0    150    100            1     1      0   \n",
       "4   4  17474       1     156    56.0    100     60            1     1      0   \n",
       "5   8  21914       1     151    67.0    120     80            2     2      0   \n",
       "6   9  22113       1     157    93.0    130     80            3     1      0   \n",
       "7  12  22584       2     178    95.0    130     90            3     3      0   \n",
       "8  13  17668       1     158    71.0    110     70            1     1      0   \n",
       "9  14  19834       1     164    68.0    110     60            1     1      0   \n",
       "\n",
       "   alco  active  cardio  \n",
       "0     0       1       0  \n",
       "1     0       1       1  \n",
       "2     0       0       1  \n",
       "3     0       1       1  \n",
       "4     0       0       0  \n",
       "5     0       0       0  \n",
       "6     0       1       0  \n",
       "7     0       1       1  \n",
       "8     0       1       0  \n",
       "9     0       0       0  "
      ]
     },
     "execution_count": 1,
     "metadata": {},
     "output_type": "execute_result"
    }
   ],
   "source": [
    "#Import libraries and  Initialize Dataframe\n",
    "#Delimiter ';' needs to included in 'sep' parameter\n",
    "import pandas as pd\n",
    "import numpy as np\n",
    "cvd_df = pd.read_csv(\"cardio_train.csv\", sep = ';')\n",
    "\n",
    "#Preview first 10 rows of data\n",
    "cvd_df.head(10)"
   ]
  },
  {
   "cell_type": "code",
   "execution_count": 2,
   "id": "b8474897-84d7-43d8-9d5d-0d0af2bd3c8f",
   "metadata": {},
   "outputs": [
    {
     "data": {
      "text/html": [
       "<div>\n",
       "<style scoped>\n",
       "    .dataframe tbody tr th:only-of-type {\n",
       "        vertical-align: middle;\n",
       "    }\n",
       "\n",
       "    .dataframe tbody tr th {\n",
       "        vertical-align: top;\n",
       "    }\n",
       "\n",
       "    .dataframe thead th {\n",
       "        text-align: right;\n",
       "    }\n",
       "</style>\n",
       "<table border=\"1\" class=\"dataframe\">\n",
       "  <thead>\n",
       "    <tr style=\"text-align: right;\">\n",
       "      <th></th>\n",
       "      <th>age</th>\n",
       "      <th>gender</th>\n",
       "      <th>height</th>\n",
       "      <th>weight</th>\n",
       "      <th>ap_hi</th>\n",
       "      <th>ap_lo</th>\n",
       "      <th>cholesterol</th>\n",
       "      <th>gluc</th>\n",
       "      <th>smoke</th>\n",
       "      <th>alco</th>\n",
       "      <th>active</th>\n",
       "      <th>cardio</th>\n",
       "    </tr>\n",
       "    <tr>\n",
       "      <th>id</th>\n",
       "      <th></th>\n",
       "      <th></th>\n",
       "      <th></th>\n",
       "      <th></th>\n",
       "      <th></th>\n",
       "      <th></th>\n",
       "      <th></th>\n",
       "      <th></th>\n",
       "      <th></th>\n",
       "      <th></th>\n",
       "      <th></th>\n",
       "      <th></th>\n",
       "    </tr>\n",
       "  </thead>\n",
       "  <tbody>\n",
       "    <tr>\n",
       "      <th>0</th>\n",
       "      <td>18393</td>\n",
       "      <td>2</td>\n",
       "      <td>168</td>\n",
       "      <td>62.0</td>\n",
       "      <td>110</td>\n",
       "      <td>80</td>\n",
       "      <td>1</td>\n",
       "      <td>1</td>\n",
       "      <td>0</td>\n",
       "      <td>0</td>\n",
       "      <td>1</td>\n",
       "      <td>0</td>\n",
       "    </tr>\n",
       "    <tr>\n",
       "      <th>1</th>\n",
       "      <td>20228</td>\n",
       "      <td>1</td>\n",
       "      <td>156</td>\n",
       "      <td>85.0</td>\n",
       "      <td>140</td>\n",
       "      <td>90</td>\n",
       "      <td>3</td>\n",
       "      <td>1</td>\n",
       "      <td>0</td>\n",
       "      <td>0</td>\n",
       "      <td>1</td>\n",
       "      <td>1</td>\n",
       "    </tr>\n",
       "    <tr>\n",
       "      <th>2</th>\n",
       "      <td>18857</td>\n",
       "      <td>1</td>\n",
       "      <td>165</td>\n",
       "      <td>64.0</td>\n",
       "      <td>130</td>\n",
       "      <td>70</td>\n",
       "      <td>3</td>\n",
       "      <td>1</td>\n",
       "      <td>0</td>\n",
       "      <td>0</td>\n",
       "      <td>0</td>\n",
       "      <td>1</td>\n",
       "    </tr>\n",
       "    <tr>\n",
       "      <th>3</th>\n",
       "      <td>17623</td>\n",
       "      <td>2</td>\n",
       "      <td>169</td>\n",
       "      <td>82.0</td>\n",
       "      <td>150</td>\n",
       "      <td>100</td>\n",
       "      <td>1</td>\n",
       "      <td>1</td>\n",
       "      <td>0</td>\n",
       "      <td>0</td>\n",
       "      <td>1</td>\n",
       "      <td>1</td>\n",
       "    </tr>\n",
       "    <tr>\n",
       "      <th>4</th>\n",
       "      <td>17474</td>\n",
       "      <td>1</td>\n",
       "      <td>156</td>\n",
       "      <td>56.0</td>\n",
       "      <td>100</td>\n",
       "      <td>60</td>\n",
       "      <td>1</td>\n",
       "      <td>1</td>\n",
       "      <td>0</td>\n",
       "      <td>0</td>\n",
       "      <td>0</td>\n",
       "      <td>0</td>\n",
       "    </tr>\n",
       "    <tr>\n",
       "      <th>5</th>\n",
       "      <td>21914</td>\n",
       "      <td>1</td>\n",
       "      <td>151</td>\n",
       "      <td>67.0</td>\n",
       "      <td>120</td>\n",
       "      <td>80</td>\n",
       "      <td>2</td>\n",
       "      <td>2</td>\n",
       "      <td>0</td>\n",
       "      <td>0</td>\n",
       "      <td>0</td>\n",
       "      <td>0</td>\n",
       "    </tr>\n",
       "    <tr>\n",
       "      <th>6</th>\n",
       "      <td>22113</td>\n",
       "      <td>1</td>\n",
       "      <td>157</td>\n",
       "      <td>93.0</td>\n",
       "      <td>130</td>\n",
       "      <td>80</td>\n",
       "      <td>3</td>\n",
       "      <td>1</td>\n",
       "      <td>0</td>\n",
       "      <td>0</td>\n",
       "      <td>1</td>\n",
       "      <td>0</td>\n",
       "    </tr>\n",
       "    <tr>\n",
       "      <th>7</th>\n",
       "      <td>22584</td>\n",
       "      <td>2</td>\n",
       "      <td>178</td>\n",
       "      <td>95.0</td>\n",
       "      <td>130</td>\n",
       "      <td>90</td>\n",
       "      <td>3</td>\n",
       "      <td>3</td>\n",
       "      <td>0</td>\n",
       "      <td>0</td>\n",
       "      <td>1</td>\n",
       "      <td>1</td>\n",
       "    </tr>\n",
       "    <tr>\n",
       "      <th>8</th>\n",
       "      <td>17668</td>\n",
       "      <td>1</td>\n",
       "      <td>158</td>\n",
       "      <td>71.0</td>\n",
       "      <td>110</td>\n",
       "      <td>70</td>\n",
       "      <td>1</td>\n",
       "      <td>1</td>\n",
       "      <td>0</td>\n",
       "      <td>0</td>\n",
       "      <td>1</td>\n",
       "      <td>0</td>\n",
       "    </tr>\n",
       "    <tr>\n",
       "      <th>9</th>\n",
       "      <td>19834</td>\n",
       "      <td>1</td>\n",
       "      <td>164</td>\n",
       "      <td>68.0</td>\n",
       "      <td>110</td>\n",
       "      <td>60</td>\n",
       "      <td>1</td>\n",
       "      <td>1</td>\n",
       "      <td>0</td>\n",
       "      <td>0</td>\n",
       "      <td>0</td>\n",
       "      <td>0</td>\n",
       "    </tr>\n",
       "  </tbody>\n",
       "</table>\n",
       "</div>"
      ],
      "text/plain": [
       "      age  gender  height  weight  ap_hi  ap_lo  cholesterol  gluc  smoke  \\\n",
       "id                                                                          \n",
       "0   18393       2     168    62.0    110     80            1     1      0   \n",
       "1   20228       1     156    85.0    140     90            3     1      0   \n",
       "2   18857       1     165    64.0    130     70            3     1      0   \n",
       "3   17623       2     169    82.0    150    100            1     1      0   \n",
       "4   17474       1     156    56.0    100     60            1     1      0   \n",
       "5   21914       1     151    67.0    120     80            2     2      0   \n",
       "6   22113       1     157    93.0    130     80            3     1      0   \n",
       "7   22584       2     178    95.0    130     90            3     3      0   \n",
       "8   17668       1     158    71.0    110     70            1     1      0   \n",
       "9   19834       1     164    68.0    110     60            1     1      0   \n",
       "\n",
       "    alco  active  cardio  \n",
       "id                        \n",
       "0      0       1       0  \n",
       "1      0       1       1  \n",
       "2      0       0       1  \n",
       "3      0       1       1  \n",
       "4      0       0       0  \n",
       "5      0       0       0  \n",
       "6      0       1       0  \n",
       "7      0       1       1  \n",
       "8      0       1       0  \n",
       "9      0       0       0  "
      ]
     },
     "execution_count": 2,
     "metadata": {},
     "output_type": "execute_result"
    }
   ],
   "source": [
    "#1. Make the id values consistent and set column 'id' as index\n",
    "cvd_df['id'] = np.arange(len(cvd_df))\n",
    "cvd_df.set_index('id', inplace = True)\n",
    "cvd_df.head(10)"
   ]
  },
  {
   "cell_type": "code",
   "execution_count": 3,
   "id": "cf95fe95-f0a0-4094-928a-b7b55a5c2159",
   "metadata": {},
   "outputs": [
    {
     "data": {
      "text/html": [
       "<div>\n",
       "<style scoped>\n",
       "    .dataframe tbody tr th:only-of-type {\n",
       "        vertical-align: middle;\n",
       "    }\n",
       "\n",
       "    .dataframe tbody tr th {\n",
       "        vertical-align: top;\n",
       "    }\n",
       "\n",
       "    .dataframe thead th {\n",
       "        text-align: right;\n",
       "    }\n",
       "</style>\n",
       "<table border=\"1\" class=\"dataframe\">\n",
       "  <thead>\n",
       "    <tr style=\"text-align: right;\">\n",
       "      <th></th>\n",
       "      <th>age</th>\n",
       "      <th>gender</th>\n",
       "      <th>height</th>\n",
       "      <th>weight</th>\n",
       "      <th>systolic_bp</th>\n",
       "      <th>diastolic_bp</th>\n",
       "      <th>cholesterol</th>\n",
       "      <th>glucose</th>\n",
       "      <th>smoke</th>\n",
       "      <th>alcohol</th>\n",
       "      <th>physical_activity</th>\n",
       "      <th>cvd_presence</th>\n",
       "    </tr>\n",
       "    <tr>\n",
       "      <th>id</th>\n",
       "      <th></th>\n",
       "      <th></th>\n",
       "      <th></th>\n",
       "      <th></th>\n",
       "      <th></th>\n",
       "      <th></th>\n",
       "      <th></th>\n",
       "      <th></th>\n",
       "      <th></th>\n",
       "      <th></th>\n",
       "      <th></th>\n",
       "      <th></th>\n",
       "    </tr>\n",
       "  </thead>\n",
       "  <tbody>\n",
       "    <tr>\n",
       "      <th>0</th>\n",
       "      <td>18393</td>\n",
       "      <td>2</td>\n",
       "      <td>168</td>\n",
       "      <td>62.0</td>\n",
       "      <td>110</td>\n",
       "      <td>80</td>\n",
       "      <td>1</td>\n",
       "      <td>1</td>\n",
       "      <td>0</td>\n",
       "      <td>0</td>\n",
       "      <td>1</td>\n",
       "      <td>0</td>\n",
       "    </tr>\n",
       "    <tr>\n",
       "      <th>1</th>\n",
       "      <td>20228</td>\n",
       "      <td>1</td>\n",
       "      <td>156</td>\n",
       "      <td>85.0</td>\n",
       "      <td>140</td>\n",
       "      <td>90</td>\n",
       "      <td>3</td>\n",
       "      <td>1</td>\n",
       "      <td>0</td>\n",
       "      <td>0</td>\n",
       "      <td>1</td>\n",
       "      <td>1</td>\n",
       "    </tr>\n",
       "    <tr>\n",
       "      <th>2</th>\n",
       "      <td>18857</td>\n",
       "      <td>1</td>\n",
       "      <td>165</td>\n",
       "      <td>64.0</td>\n",
       "      <td>130</td>\n",
       "      <td>70</td>\n",
       "      <td>3</td>\n",
       "      <td>1</td>\n",
       "      <td>0</td>\n",
       "      <td>0</td>\n",
       "      <td>0</td>\n",
       "      <td>1</td>\n",
       "    </tr>\n",
       "    <tr>\n",
       "      <th>3</th>\n",
       "      <td>17623</td>\n",
       "      <td>2</td>\n",
       "      <td>169</td>\n",
       "      <td>82.0</td>\n",
       "      <td>150</td>\n",
       "      <td>100</td>\n",
       "      <td>1</td>\n",
       "      <td>1</td>\n",
       "      <td>0</td>\n",
       "      <td>0</td>\n",
       "      <td>1</td>\n",
       "      <td>1</td>\n",
       "    </tr>\n",
       "    <tr>\n",
       "      <th>4</th>\n",
       "      <td>17474</td>\n",
       "      <td>1</td>\n",
       "      <td>156</td>\n",
       "      <td>56.0</td>\n",
       "      <td>100</td>\n",
       "      <td>60</td>\n",
       "      <td>1</td>\n",
       "      <td>1</td>\n",
       "      <td>0</td>\n",
       "      <td>0</td>\n",
       "      <td>0</td>\n",
       "      <td>0</td>\n",
       "    </tr>\n",
       "  </tbody>\n",
       "</table>\n",
       "</div>"
      ],
      "text/plain": [
       "      age  gender  height  weight  systolic_bp  diastolic_bp  cholesterol  \\\n",
       "id                                                                          \n",
       "0   18393       2     168    62.0          110            80            1   \n",
       "1   20228       1     156    85.0          140            90            3   \n",
       "2   18857       1     165    64.0          130            70            3   \n",
       "3   17623       2     169    82.0          150           100            1   \n",
       "4   17474       1     156    56.0          100            60            1   \n",
       "\n",
       "    glucose  smoke  alcohol  physical_activity  cvd_presence  \n",
       "id                                                            \n",
       "0         1      0        0                  1             0  \n",
       "1         1      0        0                  1             1  \n",
       "2         1      0        0                  0             1  \n",
       "3         1      0        0                  1             1  \n",
       "4         1      0        0                  0             0  "
      ]
     },
     "execution_count": 3,
     "metadata": {},
     "output_type": "execute_result"
    }
   ],
   "source": [
    "#Convert column names to more readable and understandable names\n",
    "cvd_df.rename(columns = {'ap_hi':'systolic_bp', 'ap_lo':'diastolic_bp', 'gluc':'glucose', \n",
    "                         'alco':'alcohol', 'active':'physical_activity', \n",
    "                         'cardio':'cvd_presence'}, inplace = True)\n",
    "cvd_df.head()"
   ]
  },
  {
   "cell_type": "code",
   "execution_count": 4,
   "id": "41c75bb8-b2be-431a-af45-8367497d775d",
   "metadata": {},
   "outputs": [
    {
     "data": {
      "text/html": [
       "<div>\n",
       "<style scoped>\n",
       "    .dataframe tbody tr th:only-of-type {\n",
       "        vertical-align: middle;\n",
       "    }\n",
       "\n",
       "    .dataframe tbody tr th {\n",
       "        vertical-align: top;\n",
       "    }\n",
       "\n",
       "    .dataframe thead th {\n",
       "        text-align: right;\n",
       "    }\n",
       "</style>\n",
       "<table border=\"1\" class=\"dataframe\">\n",
       "  <thead>\n",
       "    <tr style=\"text-align: right;\">\n",
       "      <th></th>\n",
       "      <th>age</th>\n",
       "      <th>gender</th>\n",
       "      <th>height</th>\n",
       "      <th>weight</th>\n",
       "      <th>systolic_bp</th>\n",
       "      <th>diastolic_bp</th>\n",
       "      <th>cholesterol</th>\n",
       "      <th>glucose</th>\n",
       "      <th>smoke</th>\n",
       "      <th>alcohol</th>\n",
       "      <th>physical_activity</th>\n",
       "      <th>cvd_presence</th>\n",
       "    </tr>\n",
       "    <tr>\n",
       "      <th>id</th>\n",
       "      <th></th>\n",
       "      <th></th>\n",
       "      <th></th>\n",
       "      <th></th>\n",
       "      <th></th>\n",
       "      <th></th>\n",
       "      <th></th>\n",
       "      <th></th>\n",
       "      <th></th>\n",
       "      <th></th>\n",
       "      <th></th>\n",
       "      <th></th>\n",
       "    </tr>\n",
       "  </thead>\n",
       "  <tbody>\n",
       "    <tr>\n",
       "      <th>0</th>\n",
       "      <td>50</td>\n",
       "      <td>2</td>\n",
       "      <td>168</td>\n",
       "      <td>62.0</td>\n",
       "      <td>110</td>\n",
       "      <td>80</td>\n",
       "      <td>1</td>\n",
       "      <td>1</td>\n",
       "      <td>0</td>\n",
       "      <td>0</td>\n",
       "      <td>1</td>\n",
       "      <td>0</td>\n",
       "    </tr>\n",
       "    <tr>\n",
       "      <th>1</th>\n",
       "      <td>55</td>\n",
       "      <td>1</td>\n",
       "      <td>156</td>\n",
       "      <td>85.0</td>\n",
       "      <td>140</td>\n",
       "      <td>90</td>\n",
       "      <td>3</td>\n",
       "      <td>1</td>\n",
       "      <td>0</td>\n",
       "      <td>0</td>\n",
       "      <td>1</td>\n",
       "      <td>1</td>\n",
       "    </tr>\n",
       "    <tr>\n",
       "      <th>2</th>\n",
       "      <td>51</td>\n",
       "      <td>1</td>\n",
       "      <td>165</td>\n",
       "      <td>64.0</td>\n",
       "      <td>130</td>\n",
       "      <td>70</td>\n",
       "      <td>3</td>\n",
       "      <td>1</td>\n",
       "      <td>0</td>\n",
       "      <td>0</td>\n",
       "      <td>0</td>\n",
       "      <td>1</td>\n",
       "    </tr>\n",
       "    <tr>\n",
       "      <th>3</th>\n",
       "      <td>48</td>\n",
       "      <td>2</td>\n",
       "      <td>169</td>\n",
       "      <td>82.0</td>\n",
       "      <td>150</td>\n",
       "      <td>100</td>\n",
       "      <td>1</td>\n",
       "      <td>1</td>\n",
       "      <td>0</td>\n",
       "      <td>0</td>\n",
       "      <td>1</td>\n",
       "      <td>1</td>\n",
       "    </tr>\n",
       "    <tr>\n",
       "      <th>4</th>\n",
       "      <td>47</td>\n",
       "      <td>1</td>\n",
       "      <td>156</td>\n",
       "      <td>56.0</td>\n",
       "      <td>100</td>\n",
       "      <td>60</td>\n",
       "      <td>1</td>\n",
       "      <td>1</td>\n",
       "      <td>0</td>\n",
       "      <td>0</td>\n",
       "      <td>0</td>\n",
       "      <td>0</td>\n",
       "    </tr>\n",
       "  </tbody>\n",
       "</table>\n",
       "</div>"
      ],
      "text/plain": [
       "    age  gender  height  weight  systolic_bp  diastolic_bp  cholesterol  \\\n",
       "id                                                                        \n",
       "0    50       2     168    62.0          110            80            1   \n",
       "1    55       1     156    85.0          140            90            3   \n",
       "2    51       1     165    64.0          130            70            3   \n",
       "3    48       2     169    82.0          150           100            1   \n",
       "4    47       1     156    56.0          100            60            1   \n",
       "\n",
       "    glucose  smoke  alcohol  physical_activity  cvd_presence  \n",
       "id                                                            \n",
       "0         1      0        0                  1             0  \n",
       "1         1      0        0                  1             1  \n",
       "2         1      0        0                  0             1  \n",
       "3         1      0        0                  1             1  \n",
       "4         1      0        0                  0             0  "
      ]
     },
     "execution_count": 4,
     "metadata": {},
     "output_type": "execute_result"
    }
   ],
   "source": [
    "#Convert 'age' column from days to years format\n",
    "cvd_df['age'] = (cvd_df['age'])/365\n",
    "\n",
    "#Set data type as integer\n",
    "cvd_df['age'] = cvd_df['age'].astype('int')\n",
    "cvd_df.head()"
   ]
  },
  {
   "cell_type": "code",
   "execution_count": 5,
   "id": "da6cf1f1-da0b-47e3-99d8-970e9b0809c3",
   "metadata": {},
   "outputs": [
    {
     "data": {
      "text/plain": [
       "age                  0\n",
       "gender               0\n",
       "height               0\n",
       "weight               0\n",
       "systolic_bp          0\n",
       "diastolic_bp         0\n",
       "cholesterol          0\n",
       "glucose              0\n",
       "smoke                0\n",
       "alcohol              0\n",
       "physical_activity    0\n",
       "cvd_presence         0\n",
       "dtype: int64"
      ]
     },
     "execution_count": 5,
     "metadata": {},
     "output_type": "execute_result"
    }
   ],
   "source": [
    "#Check presence of null values\n",
    "cvd_df.isnull().sum()"
   ]
  },
  {
   "cell_type": "code",
   "execution_count": 6,
   "id": "792d88f1-0edb-4c91-9706-c91c79511610",
   "metadata": {},
   "outputs": [
    {
     "data": {
      "text/plain": [
       "age                    int32\n",
       "gender                 int64\n",
       "height                 int64\n",
       "weight               float64\n",
       "systolic_bp            int64\n",
       "diastolic_bp           int64\n",
       "cholesterol            int64\n",
       "glucose                int64\n",
       "smoke                  int64\n",
       "alcohol                int64\n",
       "physical_activity      int64\n",
       "cvd_presence           int64\n",
       "dtype: object"
      ]
     },
     "execution_count": 6,
     "metadata": {},
     "output_type": "execute_result"
    }
   ],
   "source": [
    "#Verify data types\n",
    "cvd_df.dtypes"
   ]
  },
  {
   "cell_type": "code",
   "execution_count": 7,
   "id": "c5c78195-1c0a-494e-a8ea-29d382f08383",
   "metadata": {},
   "outputs": [
    {
     "data": {
      "text/html": [
       "<div>\n",
       "<style scoped>\n",
       "    .dataframe tbody tr th:only-of-type {\n",
       "        vertical-align: middle;\n",
       "    }\n",
       "\n",
       "    .dataframe tbody tr th {\n",
       "        vertical-align: top;\n",
       "    }\n",
       "\n",
       "    .dataframe thead th {\n",
       "        text-align: right;\n",
       "    }\n",
       "</style>\n",
       "<table border=\"1\" class=\"dataframe\">\n",
       "  <thead>\n",
       "    <tr style=\"text-align: right;\">\n",
       "      <th></th>\n",
       "      <th>age</th>\n",
       "      <th>gender</th>\n",
       "      <th>height</th>\n",
       "      <th>weight</th>\n",
       "      <th>systolic_bp</th>\n",
       "      <th>diastolic_bp</th>\n",
       "      <th>cholesterol</th>\n",
       "      <th>glucose</th>\n",
       "      <th>smoke</th>\n",
       "      <th>alcohol</th>\n",
       "      <th>physical_activity</th>\n",
       "      <th>cvd_presence</th>\n",
       "    </tr>\n",
       "  </thead>\n",
       "  <tbody>\n",
       "    <tr>\n",
       "      <th>count</th>\n",
       "      <td>70000.000000</td>\n",
       "      <td>70000.000000</td>\n",
       "      <td>70000.000000</td>\n",
       "      <td>70000.000000</td>\n",
       "      <td>70000.000000</td>\n",
       "      <td>70000.000000</td>\n",
       "      <td>70000.000000</td>\n",
       "      <td>70000.000000</td>\n",
       "      <td>70000.000000</td>\n",
       "      <td>70000.000000</td>\n",
       "      <td>70000.000000</td>\n",
       "      <td>70000.000000</td>\n",
       "    </tr>\n",
       "    <tr>\n",
       "      <th>mean</th>\n",
       "      <td>52.840671</td>\n",
       "      <td>1.349571</td>\n",
       "      <td>164.359229</td>\n",
       "      <td>74.205690</td>\n",
       "      <td>128.817286</td>\n",
       "      <td>96.630414</td>\n",
       "      <td>1.366871</td>\n",
       "      <td>1.226457</td>\n",
       "      <td>0.088129</td>\n",
       "      <td>0.053771</td>\n",
       "      <td>0.803729</td>\n",
       "      <td>0.499700</td>\n",
       "    </tr>\n",
       "    <tr>\n",
       "      <th>std</th>\n",
       "      <td>6.766774</td>\n",
       "      <td>0.476838</td>\n",
       "      <td>8.210126</td>\n",
       "      <td>14.395757</td>\n",
       "      <td>154.011419</td>\n",
       "      <td>188.472530</td>\n",
       "      <td>0.680250</td>\n",
       "      <td>0.572270</td>\n",
       "      <td>0.283484</td>\n",
       "      <td>0.225568</td>\n",
       "      <td>0.397179</td>\n",
       "      <td>0.500003</td>\n",
       "    </tr>\n",
       "    <tr>\n",
       "      <th>min</th>\n",
       "      <td>29.000000</td>\n",
       "      <td>1.000000</td>\n",
       "      <td>55.000000</td>\n",
       "      <td>10.000000</td>\n",
       "      <td>-150.000000</td>\n",
       "      <td>-70.000000</td>\n",
       "      <td>1.000000</td>\n",
       "      <td>1.000000</td>\n",
       "      <td>0.000000</td>\n",
       "      <td>0.000000</td>\n",
       "      <td>0.000000</td>\n",
       "      <td>0.000000</td>\n",
       "    </tr>\n",
       "    <tr>\n",
       "      <th>25%</th>\n",
       "      <td>48.000000</td>\n",
       "      <td>1.000000</td>\n",
       "      <td>159.000000</td>\n",
       "      <td>65.000000</td>\n",
       "      <td>120.000000</td>\n",
       "      <td>80.000000</td>\n",
       "      <td>1.000000</td>\n",
       "      <td>1.000000</td>\n",
       "      <td>0.000000</td>\n",
       "      <td>0.000000</td>\n",
       "      <td>1.000000</td>\n",
       "      <td>0.000000</td>\n",
       "    </tr>\n",
       "    <tr>\n",
       "      <th>50%</th>\n",
       "      <td>53.000000</td>\n",
       "      <td>1.000000</td>\n",
       "      <td>165.000000</td>\n",
       "      <td>72.000000</td>\n",
       "      <td>120.000000</td>\n",
       "      <td>80.000000</td>\n",
       "      <td>1.000000</td>\n",
       "      <td>1.000000</td>\n",
       "      <td>0.000000</td>\n",
       "      <td>0.000000</td>\n",
       "      <td>1.000000</td>\n",
       "      <td>0.000000</td>\n",
       "    </tr>\n",
       "    <tr>\n",
       "      <th>75%</th>\n",
       "      <td>58.000000</td>\n",
       "      <td>2.000000</td>\n",
       "      <td>170.000000</td>\n",
       "      <td>82.000000</td>\n",
       "      <td>140.000000</td>\n",
       "      <td>90.000000</td>\n",
       "      <td>2.000000</td>\n",
       "      <td>1.000000</td>\n",
       "      <td>0.000000</td>\n",
       "      <td>0.000000</td>\n",
       "      <td>1.000000</td>\n",
       "      <td>1.000000</td>\n",
       "    </tr>\n",
       "    <tr>\n",
       "      <th>max</th>\n",
       "      <td>64.000000</td>\n",
       "      <td>2.000000</td>\n",
       "      <td>250.000000</td>\n",
       "      <td>200.000000</td>\n",
       "      <td>16020.000000</td>\n",
       "      <td>11000.000000</td>\n",
       "      <td>3.000000</td>\n",
       "      <td>3.000000</td>\n",
       "      <td>1.000000</td>\n",
       "      <td>1.000000</td>\n",
       "      <td>1.000000</td>\n",
       "      <td>1.000000</td>\n",
       "    </tr>\n",
       "  </tbody>\n",
       "</table>\n",
       "</div>"
      ],
      "text/plain": [
       "                age        gender        height        weight   systolic_bp  \\\n",
       "count  70000.000000  70000.000000  70000.000000  70000.000000  70000.000000   \n",
       "mean      52.840671      1.349571    164.359229     74.205690    128.817286   \n",
       "std        6.766774      0.476838      8.210126     14.395757    154.011419   \n",
       "min       29.000000      1.000000     55.000000     10.000000   -150.000000   \n",
       "25%       48.000000      1.000000    159.000000     65.000000    120.000000   \n",
       "50%       53.000000      1.000000    165.000000     72.000000    120.000000   \n",
       "75%       58.000000      2.000000    170.000000     82.000000    140.000000   \n",
       "max       64.000000      2.000000    250.000000    200.000000  16020.000000   \n",
       "\n",
       "       diastolic_bp   cholesterol       glucose         smoke       alcohol  \\\n",
       "count  70000.000000  70000.000000  70000.000000  70000.000000  70000.000000   \n",
       "mean      96.630414      1.366871      1.226457      0.088129      0.053771   \n",
       "std      188.472530      0.680250      0.572270      0.283484      0.225568   \n",
       "min      -70.000000      1.000000      1.000000      0.000000      0.000000   \n",
       "25%       80.000000      1.000000      1.000000      0.000000      0.000000   \n",
       "50%       80.000000      1.000000      1.000000      0.000000      0.000000   \n",
       "75%       90.000000      2.000000      1.000000      0.000000      0.000000   \n",
       "max    11000.000000      3.000000      3.000000      1.000000      1.000000   \n",
       "\n",
       "       physical_activity  cvd_presence  \n",
       "count       70000.000000  70000.000000  \n",
       "mean            0.803729      0.499700  \n",
       "std             0.397179      0.500003  \n",
       "min             0.000000      0.000000  \n",
       "25%             1.000000      0.000000  \n",
       "50%             1.000000      0.000000  \n",
       "75%             1.000000      1.000000  \n",
       "max             1.000000      1.000000  "
      ]
     },
     "execution_count": 7,
     "metadata": {},
     "output_type": "execute_result"
    }
   ],
   "source": [
    "#Check for outliers in Dataframe\n",
    "cvd_df.describe()"
   ]
  },
  {
   "cell_type": "code",
   "execution_count": 8,
   "id": "f26ee687-009a-418d-9f34-29f92408ecaa",
   "metadata": {},
   "outputs": [
    {
     "data": {
      "text/html": [
       "<div>\n",
       "<style scoped>\n",
       "    .dataframe tbody tr th:only-of-type {\n",
       "        vertical-align: middle;\n",
       "    }\n",
       "\n",
       "    .dataframe tbody tr th {\n",
       "        vertical-align: top;\n",
       "    }\n",
       "\n",
       "    .dataframe thead th {\n",
       "        text-align: right;\n",
       "    }\n",
       "</style>\n",
       "<table border=\"1\" class=\"dataframe\">\n",
       "  <thead>\n",
       "    <tr style=\"text-align: right;\">\n",
       "      <th></th>\n",
       "      <th>age</th>\n",
       "      <th>gender</th>\n",
       "      <th>height</th>\n",
       "      <th>weight</th>\n",
       "      <th>systolic_bp</th>\n",
       "      <th>diastolic_bp</th>\n",
       "      <th>cholesterol</th>\n",
       "      <th>glucose</th>\n",
       "      <th>smoke</th>\n",
       "      <th>alcohol</th>\n",
       "      <th>physical_activity</th>\n",
       "      <th>cvd_presence</th>\n",
       "    </tr>\n",
       "  </thead>\n",
       "  <tbody>\n",
       "    <tr>\n",
       "      <th>count</th>\n",
       "      <td>68503.000000</td>\n",
       "      <td>68503.000000</td>\n",
       "      <td>68503.000000</td>\n",
       "      <td>68503.000000</td>\n",
       "      <td>68503.000000</td>\n",
       "      <td>68503.000000</td>\n",
       "      <td>68503.000000</td>\n",
       "      <td>68503.000000</td>\n",
       "      <td>68503.000000</td>\n",
       "      <td>68503.000000</td>\n",
       "      <td>68503.000000</td>\n",
       "      <td>68503.000000</td>\n",
       "    </tr>\n",
       "    <tr>\n",
       "      <th>mean</th>\n",
       "      <td>52.832226</td>\n",
       "      <td>1.349941</td>\n",
       "      <td>164.411894</td>\n",
       "      <td>74.265052</td>\n",
       "      <td>126.670029</td>\n",
       "      <td>81.385180</td>\n",
       "      <td>1.365093</td>\n",
       "      <td>1.226238</td>\n",
       "      <td>0.088201</td>\n",
       "      <td>0.053720</td>\n",
       "      <td>0.803162</td>\n",
       "      <td>0.495920</td>\n",
       "    </tr>\n",
       "    <tr>\n",
       "      <th>std</th>\n",
       "      <td>6.764537</td>\n",
       "      <td>0.476954</td>\n",
       "      <td>8.152110</td>\n",
       "      <td>14.191982</td>\n",
       "      <td>16.737646</td>\n",
       "      <td>9.721315</td>\n",
       "      <td>0.679374</td>\n",
       "      <td>0.572242</td>\n",
       "      <td>0.283588</td>\n",
       "      <td>0.225467</td>\n",
       "      <td>0.397612</td>\n",
       "      <td>0.499987</td>\n",
       "    </tr>\n",
       "    <tr>\n",
       "      <th>min</th>\n",
       "      <td>29.000000</td>\n",
       "      <td>1.000000</td>\n",
       "      <td>55.000000</td>\n",
       "      <td>45.000000</td>\n",
       "      <td>60.000000</td>\n",
       "      <td>10.000000</td>\n",
       "      <td>1.000000</td>\n",
       "      <td>1.000000</td>\n",
       "      <td>0.000000</td>\n",
       "      <td>0.000000</td>\n",
       "      <td>0.000000</td>\n",
       "      <td>0.000000</td>\n",
       "    </tr>\n",
       "    <tr>\n",
       "      <th>25%</th>\n",
       "      <td>48.000000</td>\n",
       "      <td>1.000000</td>\n",
       "      <td>159.000000</td>\n",
       "      <td>65.000000</td>\n",
       "      <td>120.000000</td>\n",
       "      <td>80.000000</td>\n",
       "      <td>1.000000</td>\n",
       "      <td>1.000000</td>\n",
       "      <td>0.000000</td>\n",
       "      <td>0.000000</td>\n",
       "      <td>1.000000</td>\n",
       "      <td>0.000000</td>\n",
       "    </tr>\n",
       "    <tr>\n",
       "      <th>50%</th>\n",
       "      <td>53.000000</td>\n",
       "      <td>1.000000</td>\n",
       "      <td>165.000000</td>\n",
       "      <td>72.000000</td>\n",
       "      <td>120.000000</td>\n",
       "      <td>80.000000</td>\n",
       "      <td>1.000000</td>\n",
       "      <td>1.000000</td>\n",
       "      <td>0.000000</td>\n",
       "      <td>0.000000</td>\n",
       "      <td>1.000000</td>\n",
       "      <td>0.000000</td>\n",
       "    </tr>\n",
       "    <tr>\n",
       "      <th>75%</th>\n",
       "      <td>58.000000</td>\n",
       "      <td>2.000000</td>\n",
       "      <td>170.000000</td>\n",
       "      <td>82.000000</td>\n",
       "      <td>140.000000</td>\n",
       "      <td>90.000000</td>\n",
       "      <td>2.000000</td>\n",
       "      <td>1.000000</td>\n",
       "      <td>0.000000</td>\n",
       "      <td>0.000000</td>\n",
       "      <td>1.000000</td>\n",
       "      <td>1.000000</td>\n",
       "    </tr>\n",
       "    <tr>\n",
       "      <th>max</th>\n",
       "      <td>64.000000</td>\n",
       "      <td>2.000000</td>\n",
       "      <td>250.000000</td>\n",
       "      <td>200.000000</td>\n",
       "      <td>240.000000</td>\n",
       "      <td>182.000000</td>\n",
       "      <td>3.000000</td>\n",
       "      <td>3.000000</td>\n",
       "      <td>1.000000</td>\n",
       "      <td>1.000000</td>\n",
       "      <td>1.000000</td>\n",
       "      <td>1.000000</td>\n",
       "    </tr>\n",
       "  </tbody>\n",
       "</table>\n",
       "</div>"
      ],
      "text/plain": [
       "                age        gender        height        weight   systolic_bp  \\\n",
       "count  68503.000000  68503.000000  68503.000000  68503.000000  68503.000000   \n",
       "mean      52.832226      1.349941    164.411894     74.265052    126.670029   \n",
       "std        6.764537      0.476954      8.152110     14.191982     16.737646   \n",
       "min       29.000000      1.000000     55.000000     45.000000     60.000000   \n",
       "25%       48.000000      1.000000    159.000000     65.000000    120.000000   \n",
       "50%       53.000000      1.000000    165.000000     72.000000    120.000000   \n",
       "75%       58.000000      2.000000    170.000000     82.000000    140.000000   \n",
       "max       64.000000      2.000000    250.000000    200.000000    240.000000   \n",
       "\n",
       "       diastolic_bp   cholesterol       glucose         smoke       alcohol  \\\n",
       "count  68503.000000  68503.000000  68503.000000  68503.000000  68503.000000   \n",
       "mean      81.385180      1.365093      1.226238      0.088201      0.053720   \n",
       "std        9.721315      0.679374      0.572242      0.283588      0.225467   \n",
       "min       10.000000      1.000000      1.000000      0.000000      0.000000   \n",
       "25%       80.000000      1.000000      1.000000      0.000000      0.000000   \n",
       "50%       80.000000      1.000000      1.000000      0.000000      0.000000   \n",
       "75%       90.000000      2.000000      1.000000      0.000000      0.000000   \n",
       "max      182.000000      3.000000      3.000000      1.000000      1.000000   \n",
       "\n",
       "       physical_activity  cvd_presence  \n",
       "count       68503.000000  68503.000000  \n",
       "mean            0.803162      0.495920  \n",
       "std             0.397612      0.499987  \n",
       "min             0.000000      0.000000  \n",
       "25%             1.000000      0.000000  \n",
       "50%             1.000000      0.000000  \n",
       "75%             1.000000      1.000000  \n",
       "max             1.000000      1.000000  "
      ]
     },
     "execution_count": 8,
     "metadata": {},
     "output_type": "execute_result"
    }
   ],
   "source": [
    "#Remove outliers in 'systolic_bp' and set a range of values\n",
    "cvd_df = cvd_df[(cvd_df.systolic_bp >= 60) & (cvd_df.systolic_bp <= 240)]\n",
    "\n",
    "#Remove outliers in 'diastolic_bp' and set a range of values\n",
    "cvd_df = cvd_df[(cvd_df.diastolic_bp >= 10) & (cvd_df.diastolic_bp < 190)]\n",
    "\n",
    "#Remove outliers in 'weight' and set a range of values\n",
    "cvd_df = cvd_df[cvd_df.weight >= 45]\n",
    "\n",
    "#Re-check for outliers in the Dataframe\n",
    "cvd_df.describe()"
   ]
  },
  {
   "cell_type": "code",
   "execution_count": 9,
   "id": "5316fbc1-46ba-4f00-ad74-fc0148c7f331",
   "metadata": {},
   "outputs": [
    {
     "data": {
      "text/html": [
       "<div>\n",
       "<style scoped>\n",
       "    .dataframe tbody tr th:only-of-type {\n",
       "        vertical-align: middle;\n",
       "    }\n",
       "\n",
       "    .dataframe tbody tr th {\n",
       "        vertical-align: top;\n",
       "    }\n",
       "\n",
       "    .dataframe thead th {\n",
       "        text-align: right;\n",
       "    }\n",
       "</style>\n",
       "<table border=\"1\" class=\"dataframe\">\n",
       "  <thead>\n",
       "    <tr style=\"text-align: right;\">\n",
       "      <th></th>\n",
       "      <th>age</th>\n",
       "      <th>gender</th>\n",
       "      <th>height</th>\n",
       "      <th>weight</th>\n",
       "      <th>systolic_bp</th>\n",
       "      <th>diastolic_bp</th>\n",
       "      <th>cholesterol</th>\n",
       "      <th>glucose</th>\n",
       "      <th>smoke</th>\n",
       "      <th>alcohol</th>\n",
       "      <th>physical_activity</th>\n",
       "      <th>cvd_presence</th>\n",
       "    </tr>\n",
       "    <tr>\n",
       "      <th>id</th>\n",
       "      <th></th>\n",
       "      <th></th>\n",
       "      <th></th>\n",
       "      <th></th>\n",
       "      <th></th>\n",
       "      <th></th>\n",
       "      <th></th>\n",
       "      <th></th>\n",
       "      <th></th>\n",
       "      <th></th>\n",
       "      <th></th>\n",
       "      <th></th>\n",
       "    </tr>\n",
       "  </thead>\n",
       "  <tbody>\n",
       "    <tr>\n",
       "      <th>0</th>\n",
       "      <td>50</td>\n",
       "      <td>2</td>\n",
       "      <td>168</td>\n",
       "      <td>62.0</td>\n",
       "      <td>110</td>\n",
       "      <td>80</td>\n",
       "      <td>1</td>\n",
       "      <td>1</td>\n",
       "      <td>0</td>\n",
       "      <td>0</td>\n",
       "      <td>1</td>\n",
       "      <td>0</td>\n",
       "    </tr>\n",
       "    <tr>\n",
       "      <th>1</th>\n",
       "      <td>55</td>\n",
       "      <td>1</td>\n",
       "      <td>156</td>\n",
       "      <td>85.0</td>\n",
       "      <td>140</td>\n",
       "      <td>90</td>\n",
       "      <td>3</td>\n",
       "      <td>1</td>\n",
       "      <td>0</td>\n",
       "      <td>0</td>\n",
       "      <td>1</td>\n",
       "      <td>1</td>\n",
       "    </tr>\n",
       "    <tr>\n",
       "      <th>2</th>\n",
       "      <td>51</td>\n",
       "      <td>1</td>\n",
       "      <td>165</td>\n",
       "      <td>64.0</td>\n",
       "      <td>130</td>\n",
       "      <td>70</td>\n",
       "      <td>3</td>\n",
       "      <td>1</td>\n",
       "      <td>0</td>\n",
       "      <td>0</td>\n",
       "      <td>0</td>\n",
       "      <td>1</td>\n",
       "    </tr>\n",
       "    <tr>\n",
       "      <th>3</th>\n",
       "      <td>48</td>\n",
       "      <td>2</td>\n",
       "      <td>169</td>\n",
       "      <td>82.0</td>\n",
       "      <td>150</td>\n",
       "      <td>100</td>\n",
       "      <td>1</td>\n",
       "      <td>1</td>\n",
       "      <td>0</td>\n",
       "      <td>0</td>\n",
       "      <td>1</td>\n",
       "      <td>1</td>\n",
       "    </tr>\n",
       "    <tr>\n",
       "      <th>4</th>\n",
       "      <td>47</td>\n",
       "      <td>1</td>\n",
       "      <td>156</td>\n",
       "      <td>56.0</td>\n",
       "      <td>100</td>\n",
       "      <td>60</td>\n",
       "      <td>1</td>\n",
       "      <td>1</td>\n",
       "      <td>0</td>\n",
       "      <td>0</td>\n",
       "      <td>0</td>\n",
       "      <td>0</td>\n",
       "    </tr>\n",
       "  </tbody>\n",
       "</table>\n",
       "</div>"
      ],
      "text/plain": [
       "    age  gender  height  weight  systolic_bp  diastolic_bp  cholesterol  \\\n",
       "id                                                                        \n",
       "0    50       2     168    62.0          110            80            1   \n",
       "1    55       1     156    85.0          140            90            3   \n",
       "2    51       1     165    64.0          130            70            3   \n",
       "3    48       2     169    82.0          150           100            1   \n",
       "4    47       1     156    56.0          100            60            1   \n",
       "\n",
       "    glucose  smoke  alcohol  physical_activity  cvd_presence  \n",
       "id                                                            \n",
       "0         1      0        0                  1             0  \n",
       "1         1      0        0                  1             1  \n",
       "2         1      0        0                  0             1  \n",
       "3         1      0        0                  1             1  \n",
       "4         1      0        0                  0             0  "
      ]
     },
     "execution_count": 9,
     "metadata": {},
     "output_type": "execute_result"
    }
   ],
   "source": [
    "#Dataframe after data wrangling steps\n",
    "cvd_df.head()"
   ]
  },
  {
   "cell_type": "markdown",
   "id": "bda86c33-18bb-4d52-adab-e5168460087f",
   "metadata": {
    "jp-MarkdownHeadingCollapsed": true,
    "tags": []
   },
   "source": [
    "## EDA"
   ]
  },
  {
   "cell_type": "code",
   "execution_count": 10,
   "id": "766b835b-2b12-43cb-b12e-32d6ff7221be",
   "metadata": {},
   "outputs": [],
   "source": [
    "#Import visualization libraries\n",
    "import seaborn as sns\n",
    "import matplotlib.pyplot as plt\n",
    "\n",
    "#%matplotlib inline returns output plots without needing to write plt.show() code everytime after each plot\n",
    "%matplotlib inline"
   ]
  },
  {
   "cell_type": "code",
   "execution_count": 11,
   "id": "dedc8e18-288b-4277-af02-90e44a32370b",
   "metadata": {},
   "outputs": [
    {
     "data": {
      "image/png": "[encoded data removed]",
      "text/plain": [
       "<Figure size 1296x7920 with 12 Axes>"
      ]
     },
     "metadata": {
      "needs_background": "light"
     },
     "output_type": "display_data"
    }
   ],
   "source": [
    "#Code block to plot all 12 columns boxplots \n",
    "length = cvd_df.columns.values\n",
    "number_of_columns=12\n",
    "number_of_rows = int(len(length)-1/number_of_columns)\n",
    "plt.figure(figsize=(1.5*number_of_columns,10*number_of_rows))\n",
    "for i in range(0,len(length)):\n",
    "    plt.subplot(number_of_rows + 1,number_of_columns,i+1)\n",
    "    sns.set_style('whitegrid')\n",
    "    sns.boxplot(y=cvd_df[length[i]],color='green',orient='v')\n",
    "    plt.tight_layout()"
   ]
  },
  {
   "cell_type": "code",
   "execution_count": 12,
   "id": "704ca57a-2245-466a-a067-86073c6866f2",
   "metadata": {},
   "outputs": [
    {
     "name": "stderr",
     "output_type": "stream",
     "text": [
      "C:\\Users\\User\\anaconda3\\lib\\site-packages\\seaborn\\distributions.py:2557: FutureWarning: `distplot` is a deprecated function and will be removed in a future version. Please adapt your code to use either `displot` (a figure-level function with similar flexibility) or `histplot` (an axes-level function for histograms).\n",
      "  warnings.warn(msg, FutureWarning)\n",
      "C:\\Users\\User\\anaconda3\\lib\\site-packages\\seaborn\\distributions.py:2557: FutureWarning: `distplot` is a deprecated function and will be removed in a future version. Please adapt your code to use either `displot` (a figure-level function with similar flexibility) or `histplot` (an axes-level function for histograms).\n",
      "  warnings.warn(msg, FutureWarning)\n",
      "C:\\Users\\User\\anaconda3\\lib\\site-packages\\seaborn\\distributions.py:2557: FutureWarning: `distplot` is a deprecated function and will be removed in a future version. Please adapt your code to use either `displot` (a figure-level function with similar flexibility) or `histplot` (an axes-level function for histograms).\n",
      "  warnings.warn(msg, FutureWarning)\n",
      "C:\\Users\\User\\anaconda3\\lib\\site-packages\\seaborn\\distributions.py:2557: FutureWarning: `distplot` is a deprecated function and will be removed in a future version. Please adapt your code to use either `displot` (a figure-level function with similar flexibility) or `histplot` (an axes-level function for histograms).\n",
      "  warnings.warn(msg, FutureWarning)\n",
      "C:\\Users\\User\\anaconda3\\lib\\site-packages\\seaborn\\distributions.py:2557: FutureWarning: `distplot` is a deprecated function and will be removed in a future version. Please adapt your code to use either `displot` (a figure-level function with similar flexibility) or `histplot` (an axes-level function for histograms).\n",
      "  warnings.warn(msg, FutureWarning)\n",
      "C:\\Users\\User\\anaconda3\\lib\\site-packages\\seaborn\\distributions.py:2557: FutureWarning: `distplot` is a deprecated function and will be removed in a future version. Please adapt your code to use either `displot` (a figure-level function with similar flexibility) or `histplot` (an axes-level function for histograms).\n",
      "  warnings.warn(msg, FutureWarning)\n",
      "C:\\Users\\User\\anaconda3\\lib\\site-packages\\seaborn\\distributions.py:2557: FutureWarning: `distplot` is a deprecated function and will be removed in a future version. Please adapt your code to use either `displot` (a figure-level function with similar flexibility) or `histplot` (an axes-level function for histograms).\n",
      "  warnings.warn(msg, FutureWarning)\n",
      "C:\\Users\\User\\anaconda3\\lib\\site-packages\\seaborn\\distributions.py:2557: FutureWarning: `distplot` is a deprecated function and will be removed in a future version. Please adapt your code to use either `displot` (a figure-level function with similar flexibility) or `histplot` (an axes-level function for histograms).\n",
      "  warnings.warn(msg, FutureWarning)\n",
      "C:\\Users\\User\\anaconda3\\lib\\site-packages\\seaborn\\distributions.py:2557: FutureWarning: `distplot` is a deprecated function and will be removed in a future version. Please adapt your code to use either `displot` (a figure-level function with similar flexibility) or `histplot` (an axes-level function for histograms).\n",
      "  warnings.warn(msg, FutureWarning)\n",
      "C:\\Users\\User\\anaconda3\\lib\\site-packages\\seaborn\\distributions.py:2557: FutureWarning: `distplot` is a deprecated function and will be removed in a future version. Please adapt your code to use either `displot` (a figure-level function with similar flexibility) or `histplot` (an axes-level function for histograms).\n",
      "  warnings.warn(msg, FutureWarning)\n",
      "C:\\Users\\User\\anaconda3\\lib\\site-packages\\seaborn\\distributions.py:2557: FutureWarning: `distplot` is a deprecated function and will be removed in a future version. Please adapt your code to use either `displot` (a figure-level function with similar flexibility) or `histplot` (an axes-level function for histograms).\n",
      "  warnings.warn(msg, FutureWarning)\n",
      "C:\\Users\\User\\anaconda3\\lib\\site-packages\\seaborn\\distributions.py:2557: FutureWarning: `distplot` is a deprecated function and will be removed in a future version. Please adapt your code to use either `displot` (a figure-level function with similar flexibility) or `histplot` (an axes-level function for histograms).\n",
      "  warnings.warn(msg, FutureWarning)\n"
     ]
    },
    {
     "data": {
      "image/png": "[encoded data removed]",
      "text/plain": [
       "<Figure size 1296x6336 with 12 Axes>"
      ]
     },
     "metadata": {},
     "output_type": "display_data"
    }
   ],
   "source": [
    "#Code block to plot distribution plot\n",
    "plt.figure(figsize=(1.5*number_of_columns,8*number_of_rows))\n",
    "for i in range(0,len(length)):\n",
    "    plt.subplot(number_of_rows + 1,number_of_columns,i+1)\n",
    "    sns.distplot(cvd_df[length[i]],kde=True) \n",
    "    plt.tight_layout()"
   ]
  },
  {
   "cell_type": "code",
   "execution_count": 13,
   "id": "95806f2b-709d-4e30-95fe-67f1ab4bff11",
   "metadata": {},
   "outputs": [
    {
     "data": {
      "text/plain": [
       "<AxesSubplot:>"
      ]
     },
     "execution_count": 13,
     "metadata": {},
     "output_type": "execute_result"
    },
    {
     "data": {
      "image/png": "[encoded data removed]",
      "text/plain": [
       "<Figure size 792x432 with 2 Axes>"
      ]
     },
     "metadata": {},
     "output_type": "display_data"
    }
   ],
   "source": [
    "#Plot correlation matrix\n",
    "plt.figure(figsize=(11,6))\n",
    "sns.heatmap(cvd_df.corr(),cmap='Blues',annot=True) "
   ]
  },
  {
   "cell_type": "code",
   "execution_count": 14,
   "id": "454e57f2-0b2e-4339-9f2e-76ceba24c499",
   "metadata": {},
   "outputs": [
    {
     "data": {
      "text/plain": [
       "<AxesSubplot:>"
      ]
     },
     "execution_count": 14,
     "metadata": {},
     "output_type": "execute_result"
    },
    {
     "data": {
      "image/png": "[encoded data removed]",
      "text/plain": [
       "<Figure size 792x432 with 2 Axes>"
      ]
     },
     "metadata": {},
     "output_type": "display_data"
    }
   ],
   "source": [
    "#Plot features correlating with ‘cvd_presence’\n",
    "plt.figure(figsize=(11,6))\n",
    "sns.heatmap(cvd_df.corr()[['cvd_presence']].sort_values(by='cvd_presence', \n",
    "ascending=False), vmin=-1, vmax=1, annot=True, cmap='Blues')"
   ]
  },
  {
   "cell_type": "markdown",
   "id": "317c4758",
   "metadata": {},
   "source": [
    "## Data Aggregation and Grouping\n"
   ]
  },
  {
   "cell_type": "markdown",
   "id": "3d758d68",
   "metadata": {},
   "source": [
    "Data Aggregation is done based on the proposed research questions"
   ]
  },
  {
   "cell_type": "markdown",
   "id": "0f6b932a",
   "metadata": {},
   "source": [
    "### Research Questions"
   ]
  },
  {
   "cell_type": "markdown",
   "id": "667eedbc",
   "metadata": {},
   "source": [
    "1. What is the highest risk factor for cardiovascular disease?"
   ]
  },
  {
   "cell_type": "markdown",
   "id": "8d029a7f",
   "metadata": {},
   "source": [
    "a) Systolic Blood Pressure"
   ]
  },
  {
   "cell_type": "code",
   "execution_count": 15,
   "id": "f089c3c7",
   "metadata": {},
   "outputs": [
    {
     "name": "stdout",
     "output_type": "stream",
     "text": [
      "       age  gender  height  weight  systolic_bp  diastolic_bp  cholesterol  \\\n",
      "id                                                                           \n",
      "0       50       2     168    62.0          110            80            1   \n",
      "1       55       1     156    85.0          140            90            3   \n",
      "2       51       1     165    64.0          130            70            3   \n",
      "3       48       2     169    82.0          150           100            1   \n",
      "4       47       1     156    56.0          100            60            1   \n",
      "...    ...     ...     ...     ...          ...           ...          ...   \n",
      "69995   52       2     168    76.0          120            80            1   \n",
      "69996   61       1     158   126.0          140            90            2   \n",
      "69997   52       2     183   105.0          180            90            3   \n",
      "69998   61       1     163    72.0          135            80            1   \n",
      "69999   56       1     170    72.0          120            80            2   \n",
      "\n",
      "       glucose  smoke  alcohol  physical_activity  cvd_presence  \\\n",
      "id                                                                \n",
      "0            1      0        0                  1             0   \n",
      "1            1      0        0                  1             1   \n",
      "2            1      0        0                  0             1   \n",
      "3            1      0        0                  1             1   \n",
      "4            1      0        0                  0             0   \n",
      "...        ...    ...      ...                ...           ...   \n",
      "69995        1      1        0                  1             0   \n",
      "69996        2      0        0                  1             1   \n",
      "69997        1      0        1                  0             1   \n",
      "69998        2      0        0                  0             1   \n",
      "69999        1      0        0                  1             0   \n",
      "\n",
      "      systolic_bp_categorised  \n",
      "id                             \n",
      "0                           1  \n",
      "1                           3  \n",
      "2                           3  \n",
      "3                           3  \n",
      "4                           1  \n",
      "...                       ...  \n",
      "69995                       1  \n",
      "69996                       3  \n",
      "69997                       3  \n",
      "69998                       3  \n",
      "69999                       1  \n",
      "\n",
      "[68503 rows x 13 columns]\n"
     ]
    }
   ],
   "source": [
    "#1.What is the highest risk factor for cardiovascular disease?\n",
    "#Systolic:1=Normal,2=Above Normal,3=Well Above Normal\n",
    "\n",
    "def systolic(row):\n",
    "    if row[\"systolic_bp\"] <=120:\n",
    "        return \"1\"\n",
    "    elif 120< row[\"systolic_bp\"] <129:\n",
    "        return \"2\"\n",
    "    else:\n",
    "        return \"3\"\n",
    "\n",
    "cvd_df['systolic_bp_categorised']=cvd_df.apply(systolic,axis=1)\n",
    "print (cvd_df)\n"
   ]
  },
  {
   "cell_type": "code",
   "execution_count": 16,
   "id": "c8f606d8",
   "metadata": {
    "scrolled": false
   },
   "outputs": [
    {
     "data": {
      "text/plain": [
       "cvd_presence  systolic_bp_categorised\n",
       "0             1                          27466\n",
       "              2                            366\n",
       "              3                           6699\n",
       "1             1                          12805\n",
       "              2                            212\n",
       "              3                          20955\n",
       "Name: cvd_presence, dtype: int64"
      ]
     },
     "execution_count": 16,
     "metadata": {},
     "output_type": "execute_result"
    }
   ],
   "source": [
    "Count_systolic=cvd_df.groupby(['cvd_presence','systolic_bp_categorised'])['cvd_presence'].count()\n",
    "Count_systolic"
   ]
  },
  {
   "cell_type": "code",
   "execution_count": 17,
   "id": "9cb078d3",
   "metadata": {},
   "outputs": [],
   "source": [
    "#use this in visualization\n",
    "Count_Systolic_Visualization = Count_systolic"
   ]
  },
  {
   "cell_type": "markdown",
   "id": "60892dd0",
   "metadata": {},
   "source": [
    "b) Diastolic Blood Pressure"
   ]
  },
  {
   "cell_type": "code",
   "execution_count": 18,
   "id": "2a852ddb",
   "metadata": {},
   "outputs": [
    {
     "name": "stdout",
     "output_type": "stream",
     "text": [
      "       age  gender  height  weight  systolic_bp  diastolic_bp  cholesterol  \\\n",
      "id                                                                           \n",
      "0       50       2     168    62.0          110            80            1   \n",
      "1       55       1     156    85.0          140            90            3   \n",
      "2       51       1     165    64.0          130            70            3   \n",
      "3       48       2     169    82.0          150           100            1   \n",
      "4       47       1     156    56.0          100            60            1   \n",
      "...    ...     ...     ...     ...          ...           ...          ...   \n",
      "69995   52       2     168    76.0          120            80            1   \n",
      "69996   61       1     158   126.0          140            90            2   \n",
      "69997   52       2     183   105.0          180            90            3   \n",
      "69998   61       1     163    72.0          135            80            1   \n",
      "69999   56       1     170    72.0          120            80            2   \n",
      "\n",
      "       glucose  smoke  alcohol  physical_activity  cvd_presence  \\\n",
      "id                                                                \n",
      "0            1      0        0                  1             0   \n",
      "1            1      0        0                  1             1   \n",
      "2            1      0        0                  0             1   \n",
      "3            1      0        0                  1             1   \n",
      "4            1      0        0                  0             0   \n",
      "...        ...    ...      ...                ...           ...   \n",
      "69995        1      1        0                  1             0   \n",
      "69996        2      0        0                  1             1   \n",
      "69997        1      0        1                  0             1   \n",
      "69998        2      0        0                  0             1   \n",
      "69999        1      0        0                  1             0   \n",
      "\n",
      "      systolic_bp_categorised diastolic_bp_categorised  \n",
      "id                                                      \n",
      "0                           1                        1  \n",
      "1                           3                        3  \n",
      "2                           3                        1  \n",
      "3                           3                        3  \n",
      "4                           1                        1  \n",
      "...                       ...                      ...  \n",
      "69995                       1                        1  \n",
      "69996                       3                        3  \n",
      "69997                       3                        3  \n",
      "69998                       3                        1  \n",
      "69999                       1                        1  \n",
      "\n",
      "[68503 rows x 14 columns]\n"
     ]
    }
   ],
   "source": [
    "#Diastolic:1=Normal,2=Above Normal,3=Well Above Normal\n",
    "\n",
    "def diastolic(row):\n",
    "    if row[\"diastolic_bp\"] <=80:\n",
    "        return \"1\"\n",
    "    elif 80< row[\"diastolic_bp\"] <89:\n",
    "        return \"2\"\n",
    "    else:\n",
    "        return \"3\"\n",
    "\n",
    "cvd_df['diastolic_bp_categorised']=cvd_df.apply(diastolic,axis=1)\n",
    "print (cvd_df)"
   ]
  },
  {
   "cell_type": "code",
   "execution_count": 19,
   "id": "94bcc7c4",
   "metadata": {
    "scrolled": false
   },
   "outputs": [
    {
     "data": {
      "text/plain": [
       "cvd_presence  diastolic_bp_categorised\n",
       "0             1                           29829\n",
       "              2                             226\n",
       "              3                            4476\n",
       "1             1                           18692\n",
       "              2                             255\n",
       "              3                           15025\n",
       "Name: cvd_presence, dtype: int64"
      ]
     },
     "execution_count": 19,
     "metadata": {},
     "output_type": "execute_result"
    }
   ],
   "source": [
    "Count_diastolic=cvd_df.groupby(['cvd_presence','diastolic_bp_categorised'])['cvd_presence'].count()\n",
    "Count_diastolic"
   ]
  },
  {
   "cell_type": "code",
   "execution_count": 20,
   "id": "0a6eea7d",
   "metadata": {},
   "outputs": [],
   "source": [
    "#use this in visualization\n",
    "Count_Diastolic_Visualization = Count_diastolic"
   ]
  },
  {
   "cell_type": "markdown",
   "id": "d1465d84",
   "metadata": {},
   "source": [
    "c) Smoke"
   ]
  },
  {
   "cell_type": "code",
   "execution_count": 21,
   "id": "51c35b14",
   "metadata": {
    "scrolled": true
   },
   "outputs": [
    {
     "data": {
      "text/plain": [
       "cvd_presence  smoke\n",
       "0             0        31324\n",
       "              1         3207\n",
       "1             0        31137\n",
       "              1         2835\n",
       "Name: cvd_presence, dtype: int64"
      ]
     },
     "execution_count": 21,
     "metadata": {},
     "output_type": "execute_result"
    }
   ],
   "source": [
    "#Count of smoke \n",
    "Count_Smoke= cvd_df.groupby(['cvd_presence','smoke'])['cvd_presence'].count()\n",
    "Count_Smoke"
   ]
  },
  {
   "cell_type": "code",
   "execution_count": 22,
   "id": "82bcf893",
   "metadata": {},
   "outputs": [],
   "source": [
    "#use this in visualization\n",
    "Count_Smoke_Visualization = Count_Smoke"
   ]
  },
  {
   "cell_type": "markdown",
   "id": "aa51e388",
   "metadata": {},
   "source": [
    "d) Alcohol"
   ]
  },
  {
   "cell_type": "code",
   "execution_count": 23,
   "id": "3c311b0d",
   "metadata": {},
   "outputs": [
    {
     "data": {
      "text/plain": [
       "cvd_presence  alcohol\n",
       "0             0          32611\n",
       "              1           1920\n",
       "1             0          32212\n",
       "              1           1760\n",
       "Name: cvd_presence, dtype: int64"
      ]
     },
     "execution_count": 23,
     "metadata": {},
     "output_type": "execute_result"
    }
   ],
   "source": [
    "#Count of Alcohol\n",
    "Count_Alcohol=cvd_df.groupby(['cvd_presence','alcohol'])['cvd_presence'].count()\n",
    "Count_Alcohol"
   ]
  },
  {
   "cell_type": "code",
   "execution_count": 24,
   "id": "3b0e8295",
   "metadata": {},
   "outputs": [],
   "source": [
    "#use this in visualization\n",
    "Count_Alcohol_Visualization = Count_Alcohol"
   ]
  },
  {
   "cell_type": "markdown",
   "id": "3f4ef1e8",
   "metadata": {},
   "source": [
    "e) Physical Activity"
   ]
  },
  {
   "cell_type": "code",
   "execution_count": 25,
   "id": "7637dd3a",
   "metadata": {
    "scrolled": true
   },
   "outputs": [
    {
     "data": {
      "text/plain": [
       "cvd_presence  physical_activity\n",
       "0             0                     6292\n",
       "              1                    28239\n",
       "1             0                     7192\n",
       "              1                    26780\n",
       "Name: cvd_presence, dtype: int64"
      ]
     },
     "execution_count": 25,
     "metadata": {},
     "output_type": "execute_result"
    }
   ],
   "source": [
    "#Count of Physical_Activity\n",
    "Count_Active=cvd_df.groupby(['cvd_presence','physical_activity'])['cvd_presence'].count()\n",
    "Count_Active"
   ]
  },
  {
   "cell_type": "code",
   "execution_count": 26,
   "id": "e0006400",
   "metadata": {},
   "outputs": [],
   "source": [
    "#use this in visualization\n",
    "Count_Active_Visualization = Count_Active"
   ]
  },
  {
   "cell_type": "markdown",
   "id": "8daef999",
   "metadata": {},
   "source": [
    "f) Cholesterol"
   ]
  },
  {
   "cell_type": "code",
   "execution_count": 27,
   "id": "02bfff86",
   "metadata": {
    "scrolled": true
   },
   "outputs": [
    {
     "data": {
      "text/plain": [
       "cvd_presence  cholesterol\n",
       "0             1              28936\n",
       "              2               3730\n",
       "              3               1865\n",
       "1             1              22426\n",
       "              2               5542\n",
       "              3               6004\n",
       "Name: cvd_presence, dtype: int64"
      ]
     },
     "execution_count": 27,
     "metadata": {},
     "output_type": "execute_result"
    }
   ],
   "source": [
    "#Count of cholesterol \n",
    "Count_Cholesterol=cvd_df.groupby(['cvd_presence','cholesterol'])['cvd_presence'].count()\n",
    "Count_Cholesterol"
   ]
  },
  {
   "cell_type": "code",
   "execution_count": 28,
   "id": "b9447527",
   "metadata": {},
   "outputs": [],
   "source": [
    "#use this in visualization\n",
    "Count_Cholesterol_Visualization = Count_Cholesterol"
   ]
  },
  {
   "cell_type": "markdown",
   "id": "b42a7636",
   "metadata": {},
   "source": [
    "g) Glucose"
   ]
  },
  {
   "cell_type": "code",
   "execution_count": 29,
   "id": "6c20914c",
   "metadata": {
    "scrolled": true
   },
   "outputs": [
    {
     "data": {
      "text/plain": [
       "cvd_presence  glucose\n",
       "0             1          30468\n",
       "              2           2074\n",
       "              3           1989\n",
       "1             1          27757\n",
       "              2           2984\n",
       "              3           3231\n",
       "Name: cvd_presence, dtype: int64"
      ]
     },
     "execution_count": 29,
     "metadata": {},
     "output_type": "execute_result"
    }
   ],
   "source": [
    "#Count of glucose\n",
    "Count_Glucose=cvd_df.groupby(['cvd_presence','glucose'])['cvd_presence'].count()\n",
    "Count_Glucose"
   ]
  },
  {
   "cell_type": "code",
   "execution_count": 30,
   "id": "6b01e18b",
   "metadata": {},
   "outputs": [],
   "source": [
    "#use this in visualization\n",
    "Count_Glucose_Visualization = Count_Glucose"
   ]
  },
  {
   "cell_type": "markdown",
   "id": "b42c92f0",
   "metadata": {},
   "source": [
    "2.Are gender plays an important role of the risk of getting cardiovascular disease?"
   ]
  },
  {
   "cell_type": "code",
   "execution_count": 31,
   "id": "5a4ddb64",
   "metadata": {
    "scrolled": true
   },
   "outputs": [
    {
     "data": {
      "text/plain": [
       "gender  cvd_presence\n",
       "1       0               22547\n",
       "        1               21984\n",
       "2       0               11984\n",
       "        1               11988\n",
       "Name: cvd_presence, dtype: int64"
      ]
     },
     "execution_count": 31,
     "metadata": {},
     "output_type": "execute_result"
    }
   ],
   "source": [
    "Gender_Count=cvd_df.groupby(['gender','cvd_presence'])['cvd_presence'].count()\n",
    "Gender_Count"
   ]
  },
  {
   "cell_type": "markdown",
   "id": "ab83923f",
   "metadata": {},
   "source": [
    "3. What is the percentage of woman to get cardiovascular disease compared to man?"
   ]
  },
  {
   "cell_type": "code",
   "execution_count": 32,
   "id": "8d3c7f0a",
   "metadata": {
    "scrolled": true
   },
   "outputs": [
    {
     "data": {
      "text/html": [
       "<div>\n",
       "<style scoped>\n",
       "    .dataframe tbody tr th:only-of-type {\n",
       "        vertical-align: middle;\n",
       "    }\n",
       "\n",
       "    .dataframe tbody tr th {\n",
       "        vertical-align: top;\n",
       "    }\n",
       "\n",
       "    .dataframe thead th {\n",
       "        text-align: right;\n",
       "    }\n",
       "</style>\n",
       "<table border=\"1\" class=\"dataframe\">\n",
       "  <thead>\n",
       "    <tr style=\"text-align: right;\">\n",
       "      <th></th>\n",
       "      <th>gender</th>\n",
       "      <th>cvd_presence</th>\n",
       "      <th>count</th>\n",
       "    </tr>\n",
       "  </thead>\n",
       "  <tbody>\n",
       "    <tr>\n",
       "      <th>0</th>\n",
       "      <td>1</td>\n",
       "      <td>0</td>\n",
       "      <td>22547</td>\n",
       "    </tr>\n",
       "    <tr>\n",
       "      <th>1</th>\n",
       "      <td>1</td>\n",
       "      <td>1</td>\n",
       "      <td>21984</td>\n",
       "    </tr>\n",
       "    <tr>\n",
       "      <th>2</th>\n",
       "      <td>2</td>\n",
       "      <td>0</td>\n",
       "      <td>11984</td>\n",
       "    </tr>\n",
       "    <tr>\n",
       "      <th>3</th>\n",
       "      <td>2</td>\n",
       "      <td>1</td>\n",
       "      <td>11988</td>\n",
       "    </tr>\n",
       "  </tbody>\n",
       "</table>\n",
       "</div>"
      ],
      "text/plain": [
       "   gender  cvd_presence  count\n",
       "0       1             0  22547\n",
       "1       1             1  21984\n",
       "2       2             0  11984\n",
       "3       2             1  11988"
      ]
     },
     "execution_count": 32,
     "metadata": {},
     "output_type": "execute_result"
    }
   ],
   "source": [
    "Gender_Count2=cvd_df.groupby(['gender','cvd_presence'])['cvd_presence'].count().reset_index(name='count')\n",
    "Gender_Count2"
   ]
  },
  {
   "cell_type": "code",
   "execution_count": 33,
   "id": "b8e7452b",
   "metadata": {},
   "outputs": [
    {
     "data": {
      "text/html": [
       "<style  type=\"text/css\" >\n",
       "</style><table id=\"T_c1a47_\" ><thead>    <tr>        <th class=\"blank level0\" ></th>        <th class=\"col_heading level0 col0\" >gender</th>        <th class=\"col_heading level0 col1\" >cvd_presence</th>        <th class=\"col_heading level0 col2\" >count</th>        <th class=\"col_heading level0 col3\" >percentage</th>    </tr></thead><tbody>\n",
       "                <tr>\n",
       "                        <th id=\"T_c1a47_level0_row0\" class=\"row_heading level0 row0\" >0</th>\n",
       "                        <td id=\"T_c1a47_row0_col0\" class=\"data row0 col0\" >1</td>\n",
       "                        <td id=\"T_c1a47_row0_col1\" class=\"data row0 col1\" >0</td>\n",
       "                        <td id=\"T_c1a47_row0_col2\" class=\"data row0 col2\" >22547</td>\n",
       "                        <td id=\"T_c1a47_row0_col3\" class=\"data row0 col3\" >32.91</td>\n",
       "            </tr>\n",
       "            <tr>\n",
       "                        <th id=\"T_c1a47_level0_row1\" class=\"row_heading level0 row1\" >1</th>\n",
       "                        <td id=\"T_c1a47_row1_col0\" class=\"data row1 col0\" >1</td>\n",
       "                        <td id=\"T_c1a47_row1_col1\" class=\"data row1 col1\" >1</td>\n",
       "                        <td id=\"T_c1a47_row1_col2\" class=\"data row1 col2\" >21984</td>\n",
       "                        <td id=\"T_c1a47_row1_col3\" class=\"data row1 col3\" >32.09</td>\n",
       "            </tr>\n",
       "            <tr>\n",
       "                        <th id=\"T_c1a47_level0_row2\" class=\"row_heading level0 row2\" >2</th>\n",
       "                        <td id=\"T_c1a47_row2_col0\" class=\"data row2 col0\" >2</td>\n",
       "                        <td id=\"T_c1a47_row2_col1\" class=\"data row2 col1\" >0</td>\n",
       "                        <td id=\"T_c1a47_row2_col2\" class=\"data row2 col2\" >11984</td>\n",
       "                        <td id=\"T_c1a47_row2_col3\" class=\"data row2 col3\" >17.49</td>\n",
       "            </tr>\n",
       "            <tr>\n",
       "                        <th id=\"T_c1a47_level0_row3\" class=\"row_heading level0 row3\" >3</th>\n",
       "                        <td id=\"T_c1a47_row3_col0\" class=\"data row3 col0\" >2</td>\n",
       "                        <td id=\"T_c1a47_row3_col1\" class=\"data row3 col1\" >1</td>\n",
       "                        <td id=\"T_c1a47_row3_col2\" class=\"data row3 col2\" >11988</td>\n",
       "                        <td id=\"T_c1a47_row3_col3\" class=\"data row3 col3\" >17.50</td>\n",
       "            </tr>\n",
       "    </tbody></table>"
      ],
      "text/plain": [
       "<pandas.io.formats.style.Styler at 0x21eed3dfa30>"
      ]
     },
     "execution_count": 33,
     "metadata": {},
     "output_type": "execute_result"
    }
   ],
   "source": [
    "Gender_Count2['percentage']=((Gender_Count2['count']/Gender_Count2['count'].sum())*100)\n",
    "Gender_Count2.style.format({'percentage':\"{:.2f}\"})"
   ]
  },
  {
   "cell_type": "code",
   "execution_count": 34,
   "id": "9782f916",
   "metadata": {
    "scrolled": true
   },
   "outputs": [
    {
     "data": {
      "text/plain": [
       "32.09202516678102"
      ]
     },
     "execution_count": 34,
     "metadata": {},
     "output_type": "execute_result"
    }
   ],
   "source": [
    "Gender_Count2['percentage'].iloc[1]"
   ]
  },
  {
   "cell_type": "markdown",
   "id": "85623637",
   "metadata": {},
   "source": [
    "4.Can physical activities (exercise) help in reducing the risk of getting cardiovascular disease?"
   ]
  },
  {
   "cell_type": "code",
   "execution_count": 35,
   "id": "cd94d038",
   "metadata": {
    "scrolled": true
   },
   "outputs": [
    {
     "data": {
      "text/plain": [
       "physical_activity  cvd_presence\n",
       "0                  0                6292\n",
       "                   1                7192\n",
       "1                  0               28239\n",
       "                   1               26780\n",
       "Name: cvd_presence, dtype: int64"
      ]
     },
     "execution_count": 35,
     "metadata": {},
     "output_type": "execute_result"
    }
   ],
   "source": [
    "#exercise= Count_Active\n",
    "#exercise\n",
    "\n",
    "#correction\n",
    "Count_Active2=cvd_df.groupby(['physical_activity','cvd_presence'])['cvd_presence'].count()\n",
    "Count_Active2"
   ]
  },
  {
   "cell_type": "code",
   "execution_count": 36,
   "id": "79639f4a",
   "metadata": {
    "scrolled": true
   },
   "outputs": [
    {
     "data": {
      "text/html": [
       "<div>\n",
       "<style scoped>\n",
       "    .dataframe tbody tr th:only-of-type {\n",
       "        vertical-align: middle;\n",
       "    }\n",
       "\n",
       "    .dataframe tbody tr th {\n",
       "        vertical-align: top;\n",
       "    }\n",
       "\n",
       "    .dataframe thead th {\n",
       "        text-align: right;\n",
       "    }\n",
       "</style>\n",
       "<table border=\"1\" class=\"dataframe\">\n",
       "  <thead>\n",
       "    <tr style=\"text-align: right;\">\n",
       "      <th></th>\n",
       "      <th>cvd_presence</th>\n",
       "      <th>physical_activity</th>\n",
       "    </tr>\n",
       "  </thead>\n",
       "  <tbody>\n",
       "    <tr>\n",
       "      <th>cvd_presence</th>\n",
       "      <td>1.000000</td>\n",
       "      <td>-0.037084</td>\n",
       "    </tr>\n",
       "    <tr>\n",
       "      <th>physical_activity</th>\n",
       "      <td>-0.037084</td>\n",
       "      <td>1.000000</td>\n",
       "    </tr>\n",
       "  </tbody>\n",
       "</table>\n",
       "</div>"
      ],
      "text/plain": [
       "                   cvd_presence  physical_activity\n",
       "cvd_presence           1.000000          -0.037084\n",
       "physical_activity     -0.037084           1.000000"
      ]
     },
     "execution_count": 36,
     "metadata": {},
     "output_type": "execute_result"
    }
   ],
   "source": [
    "exercises= cvd_df[['cvd_presence','physical_activity']].corr()\n",
    "exercises"
   ]
  },
  {
   "cell_type": "markdown",
   "id": "99a02ea6",
   "metadata": {},
   "source": [
    "5. Are physical activities affects the systolic blood pressure and diastolic blood pressure?"
   ]
  },
  {
   "cell_type": "markdown",
   "id": "32117490",
   "metadata": {},
   "source": [
    "a) Systolic Blood Pressure"
   ]
  },
  {
   "cell_type": "code",
   "execution_count": 37,
   "id": "9c10af8a",
   "metadata": {},
   "outputs": [
    {
     "data": {
      "text/html": [
       "<div>\n",
       "<style scoped>\n",
       "    .dataframe tbody tr th:only-of-type {\n",
       "        vertical-align: middle;\n",
       "    }\n",
       "\n",
       "    .dataframe tbody tr th {\n",
       "        vertical-align: top;\n",
       "    }\n",
       "\n",
       "    .dataframe thead th {\n",
       "        text-align: right;\n",
       "    }\n",
       "</style>\n",
       "<table border=\"1\" class=\"dataframe\">\n",
       "  <thead>\n",
       "    <tr style=\"text-align: right;\">\n",
       "      <th></th>\n",
       "      <th>physical_activity</th>\n",
       "      <th>systolic_bp</th>\n",
       "    </tr>\n",
       "  </thead>\n",
       "  <tbody>\n",
       "    <tr>\n",
       "      <th>physical_activity</th>\n",
       "      <td>1.000000</td>\n",
       "      <td>-0.000762</td>\n",
       "    </tr>\n",
       "    <tr>\n",
       "      <th>systolic_bp</th>\n",
       "      <td>-0.000762</td>\n",
       "      <td>1.000000</td>\n",
       "    </tr>\n",
       "  </tbody>\n",
       "</table>\n",
       "</div>"
      ],
      "text/plain": [
       "                   physical_activity  systolic_bp\n",
       "physical_activity           1.000000    -0.000762\n",
       "systolic_bp                -0.000762     1.000000"
      ]
     },
     "execution_count": 37,
     "metadata": {},
     "output_type": "execute_result"
    }
   ],
   "source": [
    "systolic_corr = cvd_df[['physical_activity','systolic_bp']].corr()\n",
    "systolic_corr"
   ]
  },
  {
   "cell_type": "markdown",
   "id": "60d8ae2f",
   "metadata": {},
   "source": [
    "b) Diastolic Blood Pressure"
   ]
  },
  {
   "cell_type": "code",
   "execution_count": 38,
   "id": "a0dcef87",
   "metadata": {
    "scrolled": true
   },
   "outputs": [
    {
     "data": {
      "text/html": [
       "<div>\n",
       "<style scoped>\n",
       "    .dataframe tbody tr th:only-of-type {\n",
       "        vertical-align: middle;\n",
       "    }\n",
       "\n",
       "    .dataframe tbody tr th {\n",
       "        vertical-align: top;\n",
       "    }\n",
       "\n",
       "    .dataframe thead th {\n",
       "        text-align: right;\n",
       "    }\n",
       "</style>\n",
       "<table border=\"1\" class=\"dataframe\">\n",
       "  <thead>\n",
       "    <tr style=\"text-align: right;\">\n",
       "      <th></th>\n",
       "      <th>physical_activity</th>\n",
       "      <th>diastolic_bp</th>\n",
       "    </tr>\n",
       "  </thead>\n",
       "  <tbody>\n",
       "    <tr>\n",
       "      <th>physical_activity</th>\n",
       "      <td>1.000000</td>\n",
       "      <td>0.000082</td>\n",
       "    </tr>\n",
       "    <tr>\n",
       "      <th>diastolic_bp</th>\n",
       "      <td>0.000082</td>\n",
       "      <td>1.000000</td>\n",
       "    </tr>\n",
       "  </tbody>\n",
       "</table>\n",
       "</div>"
      ],
      "text/plain": [
       "                   physical_activity  diastolic_bp\n",
       "physical_activity           1.000000      0.000082\n",
       "diastolic_bp                0.000082      1.000000"
      ]
     },
     "execution_count": 38,
     "metadata": {},
     "output_type": "execute_result"
    }
   ],
   "source": [
    "diastolic_corr = cvd_df[['physical_activity','diastolic_bp']].corr()\n",
    "diastolic_corr"
   ]
  },
  {
   "cell_type": "markdown",
   "id": "f4f451c4",
   "metadata": {},
   "source": [
    "6. Can diabetes be one of the factors that lead to cardiovascular disease?"
   ]
  },
  {
   "cell_type": "code",
   "execution_count": 39,
   "id": "6da6b3a7",
   "metadata": {},
   "outputs": [
    {
     "data": {
      "text/plain": [
       "glucose  cvd_presence\n",
       "1        0               30468\n",
       "         1               27757\n",
       "2        0                2074\n",
       "         1                2984\n",
       "3        0                1989\n",
       "         1                3231\n",
       "Name: age, dtype: int64"
      ]
     },
     "execution_count": 39,
     "metadata": {},
     "output_type": "execute_result"
    }
   ],
   "source": [
    "diabetes= cvd_df.groupby(['glucose','cvd_presence'])['age'].count()\n",
    "diabetes"
   ]
  },
  {
   "cell_type": "code",
   "execution_count": 40,
   "id": "5f51a6d9",
   "metadata": {
    "scrolled": false
   },
   "outputs": [
    {
     "data": {
      "text/html": [
       "<div>\n",
       "<style scoped>\n",
       "    .dataframe tbody tr th:only-of-type {\n",
       "        vertical-align: middle;\n",
       "    }\n",
       "\n",
       "    .dataframe tbody tr th {\n",
       "        vertical-align: top;\n",
       "    }\n",
       "\n",
       "    .dataframe thead th {\n",
       "        text-align: right;\n",
       "    }\n",
       "</style>\n",
       "<table border=\"1\" class=\"dataframe\">\n",
       "  <thead>\n",
       "    <tr style=\"text-align: right;\">\n",
       "      <th></th>\n",
       "      <th>cvd_presence</th>\n",
       "      <th>glucose</th>\n",
       "    </tr>\n",
       "  </thead>\n",
       "  <tbody>\n",
       "    <tr>\n",
       "      <th>cvd_presence</th>\n",
       "      <td>1.000000</td>\n",
       "      <td>0.089811</td>\n",
       "    </tr>\n",
       "    <tr>\n",
       "      <th>glucose</th>\n",
       "      <td>0.089811</td>\n",
       "      <td>1.000000</td>\n",
       "    </tr>\n",
       "  </tbody>\n",
       "</table>\n",
       "</div>"
      ],
      "text/plain": [
       "              cvd_presence   glucose\n",
       "cvd_presence      1.000000  0.089811\n",
       "glucose           0.089811  1.000000"
      ]
     },
     "execution_count": 40,
     "metadata": {},
     "output_type": "execute_result"
    }
   ],
   "source": [
    "diabetes_corr = cvd_df[['cvd_presence','glucose']].corr()\n",
    "diabetes_corr"
   ]
  },
  {
   "cell_type": "markdown",
   "id": "6012d70e",
   "metadata": {},
   "source": [
    "7. Are BMIs playing an importance role of the risk of getting cardiovascular disease?"
   ]
  },
  {
   "cell_type": "code",
   "execution_count": 41,
   "id": "4aa07821",
   "metadata": {
    "scrolled": true
   },
   "outputs": [
    {
     "data": {
      "text/html": [
       "<div>\n",
       "<style scoped>\n",
       "    .dataframe tbody tr th:only-of-type {\n",
       "        vertical-align: middle;\n",
       "    }\n",
       "\n",
       "    .dataframe tbody tr th {\n",
       "        vertical-align: top;\n",
       "    }\n",
       "\n",
       "    .dataframe thead th {\n",
       "        text-align: right;\n",
       "    }\n",
       "</style>\n",
       "<table border=\"1\" class=\"dataframe\">\n",
       "  <thead>\n",
       "    <tr style=\"text-align: right;\">\n",
       "      <th></th>\n",
       "      <th>age</th>\n",
       "      <th>gender</th>\n",
       "      <th>height</th>\n",
       "      <th>weight</th>\n",
       "      <th>systolic_bp</th>\n",
       "      <th>diastolic_bp</th>\n",
       "      <th>cholesterol</th>\n",
       "      <th>glucose</th>\n",
       "      <th>smoke</th>\n",
       "      <th>alcohol</th>\n",
       "      <th>physical_activity</th>\n",
       "      <th>cvd_presence</th>\n",
       "      <th>systolic_bp_categorised</th>\n",
       "      <th>diastolic_bp_categorised</th>\n",
       "      <th>bmi</th>\n",
       "    </tr>\n",
       "    <tr>\n",
       "      <th>id</th>\n",
       "      <th></th>\n",
       "      <th></th>\n",
       "      <th></th>\n",
       "      <th></th>\n",
       "      <th></th>\n",
       "      <th></th>\n",
       "      <th></th>\n",
       "      <th></th>\n",
       "      <th></th>\n",
       "      <th></th>\n",
       "      <th></th>\n",
       "      <th></th>\n",
       "      <th></th>\n",
       "      <th></th>\n",
       "      <th></th>\n",
       "    </tr>\n",
       "  </thead>\n",
       "  <tbody>\n",
       "    <tr>\n",
       "      <th>0</th>\n",
       "      <td>50</td>\n",
       "      <td>2</td>\n",
       "      <td>168</td>\n",
       "      <td>62.0</td>\n",
       "      <td>110</td>\n",
       "      <td>80</td>\n",
       "      <td>1</td>\n",
       "      <td>1</td>\n",
       "      <td>0</td>\n",
       "      <td>0</td>\n",
       "      <td>1</td>\n",
       "      <td>0</td>\n",
       "      <td>1</td>\n",
       "      <td>1</td>\n",
       "      <td>22.0</td>\n",
       "    </tr>\n",
       "    <tr>\n",
       "      <th>1</th>\n",
       "      <td>55</td>\n",
       "      <td>1</td>\n",
       "      <td>156</td>\n",
       "      <td>85.0</td>\n",
       "      <td>140</td>\n",
       "      <td>90</td>\n",
       "      <td>3</td>\n",
       "      <td>1</td>\n",
       "      <td>0</td>\n",
       "      <td>0</td>\n",
       "      <td>1</td>\n",
       "      <td>1</td>\n",
       "      <td>3</td>\n",
       "      <td>3</td>\n",
       "      <td>34.9</td>\n",
       "    </tr>\n",
       "    <tr>\n",
       "      <th>2</th>\n",
       "      <td>51</td>\n",
       "      <td>1</td>\n",
       "      <td>165</td>\n",
       "      <td>64.0</td>\n",
       "      <td>130</td>\n",
       "      <td>70</td>\n",
       "      <td>3</td>\n",
       "      <td>1</td>\n",
       "      <td>0</td>\n",
       "      <td>0</td>\n",
       "      <td>0</td>\n",
       "      <td>1</td>\n",
       "      <td>3</td>\n",
       "      <td>1</td>\n",
       "      <td>23.5</td>\n",
       "    </tr>\n",
       "    <tr>\n",
       "      <th>3</th>\n",
       "      <td>48</td>\n",
       "      <td>2</td>\n",
       "      <td>169</td>\n",
       "      <td>82.0</td>\n",
       "      <td>150</td>\n",
       "      <td>100</td>\n",
       "      <td>1</td>\n",
       "      <td>1</td>\n",
       "      <td>0</td>\n",
       "      <td>0</td>\n",
       "      <td>1</td>\n",
       "      <td>1</td>\n",
       "      <td>3</td>\n",
       "      <td>3</td>\n",
       "      <td>28.7</td>\n",
       "    </tr>\n",
       "    <tr>\n",
       "      <th>4</th>\n",
       "      <td>47</td>\n",
       "      <td>1</td>\n",
       "      <td>156</td>\n",
       "      <td>56.0</td>\n",
       "      <td>100</td>\n",
       "      <td>60</td>\n",
       "      <td>1</td>\n",
       "      <td>1</td>\n",
       "      <td>0</td>\n",
       "      <td>0</td>\n",
       "      <td>0</td>\n",
       "      <td>0</td>\n",
       "      <td>1</td>\n",
       "      <td>1</td>\n",
       "      <td>23.0</td>\n",
       "    </tr>\n",
       "    <tr>\n",
       "      <th>...</th>\n",
       "      <td>...</td>\n",
       "      <td>...</td>\n",
       "      <td>...</td>\n",
       "      <td>...</td>\n",
       "      <td>...</td>\n",
       "      <td>...</td>\n",
       "      <td>...</td>\n",
       "      <td>...</td>\n",
       "      <td>...</td>\n",
       "      <td>...</td>\n",
       "      <td>...</td>\n",
       "      <td>...</td>\n",
       "      <td>...</td>\n",
       "      <td>...</td>\n",
       "      <td>...</td>\n",
       "    </tr>\n",
       "    <tr>\n",
       "      <th>69995</th>\n",
       "      <td>52</td>\n",
       "      <td>2</td>\n",
       "      <td>168</td>\n",
       "      <td>76.0</td>\n",
       "      <td>120</td>\n",
       "      <td>80</td>\n",
       "      <td>1</td>\n",
       "      <td>1</td>\n",
       "      <td>1</td>\n",
       "      <td>0</td>\n",
       "      <td>1</td>\n",
       "      <td>0</td>\n",
       "      <td>1</td>\n",
       "      <td>1</td>\n",
       "      <td>26.9</td>\n",
       "    </tr>\n",
       "    <tr>\n",
       "      <th>69996</th>\n",
       "      <td>61</td>\n",
       "      <td>1</td>\n",
       "      <td>158</td>\n",
       "      <td>126.0</td>\n",
       "      <td>140</td>\n",
       "      <td>90</td>\n",
       "      <td>2</td>\n",
       "      <td>2</td>\n",
       "      <td>0</td>\n",
       "      <td>0</td>\n",
       "      <td>1</td>\n",
       "      <td>1</td>\n",
       "      <td>3</td>\n",
       "      <td>3</td>\n",
       "      <td>50.5</td>\n",
       "    </tr>\n",
       "    <tr>\n",
       "      <th>69997</th>\n",
       "      <td>52</td>\n",
       "      <td>2</td>\n",
       "      <td>183</td>\n",
       "      <td>105.0</td>\n",
       "      <td>180</td>\n",
       "      <td>90</td>\n",
       "      <td>3</td>\n",
       "      <td>1</td>\n",
       "      <td>0</td>\n",
       "      <td>1</td>\n",
       "      <td>0</td>\n",
       "      <td>1</td>\n",
       "      <td>3</td>\n",
       "      <td>3</td>\n",
       "      <td>31.4</td>\n",
       "    </tr>\n",
       "    <tr>\n",
       "      <th>69998</th>\n",
       "      <td>61</td>\n",
       "      <td>1</td>\n",
       "      <td>163</td>\n",
       "      <td>72.0</td>\n",
       "      <td>135</td>\n",
       "      <td>80</td>\n",
       "      <td>1</td>\n",
       "      <td>2</td>\n",
       "      <td>0</td>\n",
       "      <td>0</td>\n",
       "      <td>0</td>\n",
       "      <td>1</td>\n",
       "      <td>3</td>\n",
       "      <td>1</td>\n",
       "      <td>27.1</td>\n",
       "    </tr>\n",
       "    <tr>\n",
       "      <th>69999</th>\n",
       "      <td>56</td>\n",
       "      <td>1</td>\n",
       "      <td>170</td>\n",
       "      <td>72.0</td>\n",
       "      <td>120</td>\n",
       "      <td>80</td>\n",
       "      <td>2</td>\n",
       "      <td>1</td>\n",
       "      <td>0</td>\n",
       "      <td>0</td>\n",
       "      <td>1</td>\n",
       "      <td>0</td>\n",
       "      <td>1</td>\n",
       "      <td>1</td>\n",
       "      <td>24.9</td>\n",
       "    </tr>\n",
       "  </tbody>\n",
       "</table>\n",
       "<p>68503 rows × 15 columns</p>\n",
       "</div>"
      ],
      "text/plain": [
       "       age  gender  height  weight  systolic_bp  diastolic_bp  cholesterol  \\\n",
       "id                                                                           \n",
       "0       50       2     168    62.0          110            80            1   \n",
       "1       55       1     156    85.0          140            90            3   \n",
       "2       51       1     165    64.0          130            70            3   \n",
       "3       48       2     169    82.0          150           100            1   \n",
       "4       47       1     156    56.0          100            60            1   \n",
       "...    ...     ...     ...     ...          ...           ...          ...   \n",
       "69995   52       2     168    76.0          120            80            1   \n",
       "69996   61       1     158   126.0          140            90            2   \n",
       "69997   52       2     183   105.0          180            90            3   \n",
       "69998   61       1     163    72.0          135            80            1   \n",
       "69999   56       1     170    72.0          120            80            2   \n",
       "\n",
       "       glucose  smoke  alcohol  physical_activity  cvd_presence  \\\n",
       "id                                                                \n",
       "0            1      0        0                  1             0   \n",
       "1            1      0        0                  1             1   \n",
       "2            1      0        0                  0             1   \n",
       "3            1      0        0                  1             1   \n",
       "4            1      0        0                  0             0   \n",
       "...        ...    ...      ...                ...           ...   \n",
       "69995        1      1        0                  1             0   \n",
       "69996        2      0        0                  1             1   \n",
       "69997        1      0        1                  0             1   \n",
       "69998        2      0        0                  0             1   \n",
       "69999        1      0        0                  1             0   \n",
       "\n",
       "      systolic_bp_categorised diastolic_bp_categorised   bmi  \n",
       "id                                                            \n",
       "0                           1                        1  22.0  \n",
       "1                           3                        3  34.9  \n",
       "2                           3                        1  23.5  \n",
       "3                           3                        3  28.7  \n",
       "4                           1                        1  23.0  \n",
       "...                       ...                      ...   ...  \n",
       "69995                       1                        1  26.9  \n",
       "69996                       3                        3  50.5  \n",
       "69997                       3                        3  31.4  \n",
       "69998                       3                        1  27.1  \n",
       "69999                       1                        1  24.9  \n",
       "\n",
       "[68503 rows x 15 columns]"
      ]
     },
     "execution_count": 41,
     "metadata": {},
     "output_type": "execute_result"
    }
   ],
   "source": [
    "cvd_df['bmi']= (cvd_df['weight']/(cvd_df['height']/100)**2).round(1)\n",
    "cvd_df"
   ]
  },
  {
   "cell_type": "code",
   "execution_count": 42,
   "id": "dfd3bd11",
   "metadata": {
    "scrolled": true
   },
   "outputs": [
    {
     "data": {
      "text/html": [
       "<div>\n",
       "<style scoped>\n",
       "    .dataframe tbody tr th:only-of-type {\n",
       "        vertical-align: middle;\n",
       "    }\n",
       "\n",
       "    .dataframe tbody tr th {\n",
       "        vertical-align: top;\n",
       "    }\n",
       "\n",
       "    .dataframe thead th {\n",
       "        text-align: right;\n",
       "    }\n",
       "</style>\n",
       "<table border=\"1\" class=\"dataframe\">\n",
       "  <thead>\n",
       "    <tr style=\"text-align: right;\">\n",
       "      <th></th>\n",
       "      <th>cvd_presence</th>\n",
       "      <th>bmi</th>\n",
       "    </tr>\n",
       "  </thead>\n",
       "  <tbody>\n",
       "    <tr>\n",
       "      <th>cvd_presence</th>\n",
       "      <td>1.000000</td>\n",
       "      <td>0.162549</td>\n",
       "    </tr>\n",
       "    <tr>\n",
       "      <th>bmi</th>\n",
       "      <td>0.162549</td>\n",
       "      <td>1.000000</td>\n",
       "    </tr>\n",
       "  </tbody>\n",
       "</table>\n",
       "</div>"
      ],
      "text/plain": [
       "              cvd_presence       bmi\n",
       "cvd_presence      1.000000  0.162549\n",
       "bmi               0.162549  1.000000"
      ]
     },
     "execution_count": 42,
     "metadata": {},
     "output_type": "execute_result"
    }
   ],
   "source": [
    "bmi_corr=cvd_df[['cvd_presence','bmi']].corr()\n",
    "bmi_corr"
   ]
  },
  {
   "cell_type": "code",
   "execution_count": 43,
   "id": "0bdd8b81",
   "metadata": {
    "scrolled": true
   },
   "outputs": [
    {
     "name": "stdout",
     "output_type": "stream",
     "text": [
      "       age  gender  height  weight  systolic_bp  diastolic_bp  cholesterol  \\\n",
      "id                                                                           \n",
      "0       50       2     168    62.0          110            80            1   \n",
      "1       55       1     156    85.0          140            90            3   \n",
      "2       51       1     165    64.0          130            70            3   \n",
      "3       48       2     169    82.0          150           100            1   \n",
      "4       47       1     156    56.0          100            60            1   \n",
      "...    ...     ...     ...     ...          ...           ...          ...   \n",
      "69995   52       2     168    76.0          120            80            1   \n",
      "69996   61       1     158   126.0          140            90            2   \n",
      "69997   52       2     183   105.0          180            90            3   \n",
      "69998   61       1     163    72.0          135            80            1   \n",
      "69999   56       1     170    72.0          120            80            2   \n",
      "\n",
      "       glucose  smoke  alcohol  physical_activity  cvd_presence  \\\n",
      "id                                                                \n",
      "0            1      0        0                  1             0   \n",
      "1            1      0        0                  1             1   \n",
      "2            1      0        0                  0             1   \n",
      "3            1      0        0                  1             1   \n",
      "4            1      0        0                  0             0   \n",
      "...        ...    ...      ...                ...           ...   \n",
      "69995        1      1        0                  1             0   \n",
      "69996        2      0        0                  1             1   \n",
      "69997        1      0        1                  0             1   \n",
      "69998        2      0        0                  0             1   \n",
      "69999        1      0        0                  1             0   \n",
      "\n",
      "      systolic_bp_categorised diastolic_bp_categorised         bmi  \n",
      "id                                                                  \n",
      "0                           1                        1      normal  \n",
      "1                           3                        3       obese  \n",
      "2                           3                        1      normal  \n",
      "3                           3                        3  overweight  \n",
      "4                           1                        1      normal  \n",
      "...                       ...                      ...         ...  \n",
      "69995                       1                        1  overweight  \n",
      "69996                       3                        3       obese  \n",
      "69997                       3                        3       obese  \n",
      "69998                       3                        1  overweight  \n",
      "69999                       1                        1      normal  \n",
      "\n",
      "[68503 rows x 15 columns]\n"
     ]
    }
   ],
   "source": [
    "#Correction\n",
    "def bmi_cat(row):\n",
    "    \n",
    "    if (row['bmi'] < 18.5):\n",
    "        return 'underweight'\n",
    "    elif (row['bmi'] >= 18.5) and (row['bmi'] < 25):\n",
    "        return 'normal'\n",
    "    elif (row['bmi'] >= 25) and (row['bmi'] < 30):\n",
    "        return 'overweight'\n",
    "    else:\n",
    "        return 'obese'\n",
    "\n",
    "cvd_df['bmi']=cvd_df.apply(bmi_cat,axis=1)\n",
    "print (cvd_df)"
   ]
  },
  {
   "cell_type": "code",
   "execution_count": 44,
   "id": "d9b5f4c6",
   "metadata": {},
   "outputs": [
    {
     "data": {
      "text/plain": [
       "bmi          cvd_presence\n",
       "normal       0               14946\n",
       "             1                9852\n",
       "obese        0                6822\n",
       "             1               11323\n",
       "overweight   0               12454\n",
       "             1               12674\n",
       "underweight  0                 309\n",
       "             1                 123\n",
       "Name: cvd_presence, dtype: int64"
      ]
     },
     "execution_count": 44,
     "metadata": {},
     "output_type": "execute_result"
    }
   ],
   "source": [
    "BMI_Count=cvd_df.groupby(['bmi','cvd_presence'])['cvd_presence'].count()\n",
    "BMI_Count"
   ]
  },
  {
   "cell_type": "markdown",
   "id": "b3555b7e",
   "metadata": {},
   "source": [
    "8. Are lifestyles affecting the risk of getting cardiovascular disease?"
   ]
  },
  {
   "cell_type": "markdown",
   "id": "b18650b6",
   "metadata": {},
   "source": [
    "a) Smoke"
   ]
  },
  {
   "cell_type": "code",
   "execution_count": 45,
   "id": "66e0a7d4",
   "metadata": {
    "scrolled": true
   },
   "outputs": [
    {
     "data": {
      "text/html": [
       "<div>\n",
       "<style scoped>\n",
       "    .dataframe tbody tr th:only-of-type {\n",
       "        vertical-align: middle;\n",
       "    }\n",
       "\n",
       "    .dataframe tbody tr th {\n",
       "        vertical-align: top;\n",
       "    }\n",
       "\n",
       "    .dataframe thead th {\n",
       "        text-align: right;\n",
       "    }\n",
       "</style>\n",
       "<table border=\"1\" class=\"dataframe\">\n",
       "  <thead>\n",
       "    <tr style=\"text-align: right;\">\n",
       "      <th></th>\n",
       "      <th>cvd_presence</th>\n",
       "      <th>smoke</th>\n",
       "    </tr>\n",
       "  </thead>\n",
       "  <tbody>\n",
       "    <tr>\n",
       "      <th>cvd_presence</th>\n",
       "      <td>1.000000</td>\n",
       "      <td>-0.016612</td>\n",
       "    </tr>\n",
       "    <tr>\n",
       "      <th>smoke</th>\n",
       "      <td>-0.016612</td>\n",
       "      <td>1.000000</td>\n",
       "    </tr>\n",
       "  </tbody>\n",
       "</table>\n",
       "</div>"
      ],
      "text/plain": [
       "              cvd_presence     smoke\n",
       "cvd_presence      1.000000 -0.016612\n",
       "smoke            -0.016612  1.000000"
      ]
     },
     "execution_count": 45,
     "metadata": {},
     "output_type": "execute_result"
    }
   ],
   "source": [
    "smoke_corr = cvd_df[['cvd_presence','smoke']].corr()\n",
    "smoke_corr"
   ]
  },
  {
   "cell_type": "markdown",
   "id": "067f02a2",
   "metadata": {},
   "source": [
    "b) Alcohol"
   ]
  },
  {
   "cell_type": "code",
   "execution_count": 46,
   "id": "943b799a",
   "metadata": {
    "scrolled": true
   },
   "outputs": [
    {
     "data": {
      "text/html": [
       "<div>\n",
       "<style scoped>\n",
       "    .dataframe tbody tr th:only-of-type {\n",
       "        vertical-align: middle;\n",
       "    }\n",
       "\n",
       "    .dataframe tbody tr th {\n",
       "        vertical-align: top;\n",
       "    }\n",
       "\n",
       "    .dataframe thead th {\n",
       "        text-align: right;\n",
       "    }\n",
       "</style>\n",
       "<table border=\"1\" class=\"dataframe\">\n",
       "  <thead>\n",
       "    <tr style=\"text-align: right;\">\n",
       "      <th></th>\n",
       "      <th>cvd_presence</th>\n",
       "      <th>alcohol</th>\n",
       "    </tr>\n",
       "  </thead>\n",
       "  <tbody>\n",
       "    <tr>\n",
       "      <th>cvd_presence</th>\n",
       "      <td>1.000000</td>\n",
       "      <td>-0.008415</td>\n",
       "    </tr>\n",
       "    <tr>\n",
       "      <th>alcohol</th>\n",
       "      <td>-0.008415</td>\n",
       "      <td>1.000000</td>\n",
       "    </tr>\n",
       "  </tbody>\n",
       "</table>\n",
       "</div>"
      ],
      "text/plain": [
       "              cvd_presence   alcohol\n",
       "cvd_presence      1.000000 -0.008415\n",
       "alcohol          -0.008415  1.000000"
      ]
     },
     "execution_count": 46,
     "metadata": {},
     "output_type": "execute_result"
    }
   ],
   "source": [
    "alcohol_corr=cvd_df[['cvd_presence','alcohol']].corr()\n",
    "alcohol_corr"
   ]
  },
  {
   "cell_type": "markdown",
   "id": "fc13d202",
   "metadata": {},
   "source": [
    "c) Physical Activity"
   ]
  },
  {
   "cell_type": "code",
   "execution_count": 47,
   "id": "039a379a",
   "metadata": {
    "scrolled": true
   },
   "outputs": [
    {
     "data": {
      "text/html": [
       "<div>\n",
       "<style scoped>\n",
       "    .dataframe tbody tr th:only-of-type {\n",
       "        vertical-align: middle;\n",
       "    }\n",
       "\n",
       "    .dataframe tbody tr th {\n",
       "        vertical-align: top;\n",
       "    }\n",
       "\n",
       "    .dataframe thead th {\n",
       "        text-align: right;\n",
       "    }\n",
       "</style>\n",
       "<table border=\"1\" class=\"dataframe\">\n",
       "  <thead>\n",
       "    <tr style=\"text-align: right;\">\n",
       "      <th></th>\n",
       "      <th>cvd_presence</th>\n",
       "      <th>physical_activity</th>\n",
       "    </tr>\n",
       "  </thead>\n",
       "  <tbody>\n",
       "    <tr>\n",
       "      <th>cvd_presence</th>\n",
       "      <td>1.000000</td>\n",
       "      <td>-0.037084</td>\n",
       "    </tr>\n",
       "    <tr>\n",
       "      <th>physical_activity</th>\n",
       "      <td>-0.037084</td>\n",
       "      <td>1.000000</td>\n",
       "    </tr>\n",
       "  </tbody>\n",
       "</table>\n",
       "</div>"
      ],
      "text/plain": [
       "                   cvd_presence  physical_activity\n",
       "cvd_presence           1.000000          -0.037084\n",
       "physical_activity     -0.037084           1.000000"
      ]
     },
     "execution_count": 47,
     "metadata": {},
     "output_type": "execute_result"
    }
   ],
   "source": [
    "physicalActivity_corr=cvd_df[['cvd_presence','physical_activity']].corr()\n",
    "physicalActivity_corr"
   ]
  },
  {
   "cell_type": "markdown",
   "id": "1f558b85",
   "metadata": {},
   "source": [
    "9. How can we do to prevent, control and manage the cardiovascular disease?"
   ]
  },
  {
   "cell_type": "code",
   "execution_count": 48,
   "id": "75f00855",
   "metadata": {
    "scrolled": true
   },
   "outputs": [
    {
     "data": {
      "text/plain": [
       "20955"
      ]
     },
     "execution_count": 48,
     "metadata": {},
     "output_type": "execute_result"
    }
   ],
   "source": [
    "#i) Worst Case of Systolic BP\n",
    "Count_systolic.iloc[5]"
   ]
  },
  {
   "cell_type": "code",
   "execution_count": 49,
   "id": "22ac4b36",
   "metadata": {
    "scrolled": true
   },
   "outputs": [
    {
     "data": {
      "text/plain": [
       "15025"
      ]
     },
     "execution_count": 49,
     "metadata": {},
     "output_type": "execute_result"
    }
   ],
   "source": [
    "#ii) Worst Case of Diastolic BP\n",
    "Count_diastolic.iloc[5]"
   ]
  },
  {
   "cell_type": "code",
   "execution_count": 50,
   "id": "675ce52a",
   "metadata": {},
   "outputs": [
    {
     "data": {
      "text/plain": [
       "2835"
      ]
     },
     "execution_count": 50,
     "metadata": {},
     "output_type": "execute_result"
    }
   ],
   "source": [
    "#iii) Worst Case of Smoke\n",
    "Count_Smoke.iloc[3]"
   ]
  },
  {
   "cell_type": "code",
   "execution_count": 51,
   "id": "f3573b91",
   "metadata": {
    "scrolled": true
   },
   "outputs": [
    {
     "data": {
      "text/plain": [
       "1760"
      ]
     },
     "execution_count": 51,
     "metadata": {},
     "output_type": "execute_result"
    }
   ],
   "source": [
    "#iv) Worst Case of Alcohol\n",
    "Count_Alcohol.iloc[3]"
   ]
  },
  {
   "cell_type": "code",
   "execution_count": 52,
   "id": "8b474e7a",
   "metadata": {
    "scrolled": true
   },
   "outputs": [
    {
     "data": {
      "text/plain": [
       "7192"
      ]
     },
     "execution_count": 52,
     "metadata": {},
     "output_type": "execute_result"
    }
   ],
   "source": [
    "#v) Worst Case of Physical Activity\n",
    "Count_Active.iloc[2]"
   ]
  },
  {
   "cell_type": "code",
   "execution_count": 53,
   "id": "45ca69f0",
   "metadata": {},
   "outputs": [
    {
     "data": {
      "text/plain": [
       "6004"
      ]
     },
     "execution_count": 53,
     "metadata": {},
     "output_type": "execute_result"
    }
   ],
   "source": [
    "#vi) Worst Case of Cholesterol\n",
    "Count_Cholesterol.iloc[5]"
   ]
  },
  {
   "cell_type": "code",
   "execution_count": 54,
   "id": "887ea88b",
   "metadata": {},
   "outputs": [
    {
     "data": {
      "text/plain": [
       "3231"
      ]
     },
     "execution_count": 54,
     "metadata": {},
     "output_type": "execute_result"
    }
   ],
   "source": [
    "#vii) Worst Case of Glucose\n",
    "Count_Glucose.iloc[5]"
   ]
  },
  {
   "cell_type": "code",
   "execution_count": 55,
   "id": "c4fc5636",
   "metadata": {},
   "outputs": [
    {
     "data": {
      "text/html": [
       "<div>\n",
       "<style scoped>\n",
       "    .dataframe tbody tr th:only-of-type {\n",
       "        vertical-align: middle;\n",
       "    }\n",
       "\n",
       "    .dataframe tbody tr th {\n",
       "        vertical-align: top;\n",
       "    }\n",
       "\n",
       "    .dataframe thead th {\n",
       "        text-align: right;\n",
       "    }\n",
       "</style>\n",
       "<table border=\"1\" class=\"dataframe\">\n",
       "  <thead>\n",
       "    <tr style=\"text-align: right;\">\n",
       "      <th></th>\n",
       "      <th>systolic_cardio</th>\n",
       "      <th>diastolic_cardio</th>\n",
       "      <th>smoke_cardio</th>\n",
       "      <th>alcohol_cardio</th>\n",
       "      <th>active_cardio</th>\n",
       "      <th>cholesterol_cardio</th>\n",
       "      <th>glucose_cardio</th>\n",
       "    </tr>\n",
       "  </thead>\n",
       "  <tbody>\n",
       "    <tr>\n",
       "      <th>0</th>\n",
       "      <td>20955</td>\n",
       "      <td>15025</td>\n",
       "      <td>2835</td>\n",
       "      <td>1760</td>\n",
       "      <td>7192</td>\n",
       "      <td>6004</td>\n",
       "      <td>3231</td>\n",
       "    </tr>\n",
       "  </tbody>\n",
       "</table>\n",
       "</div>"
      ],
      "text/plain": [
       "  systolic_cardio diastolic_cardio smoke_cardio alcohol_cardio active_cardio  \\\n",
       "0           20955            15025         2835           1760          7192   \n",
       "\n",
       "  cholesterol_cardio glucose_cardio  \n",
       "0               6004           3231  "
      ]
     },
     "execution_count": 55,
     "metadata": {},
     "output_type": "execute_result"
    }
   ],
   "source": [
    "data={'systolic_cardio':['20955'],\n",
    "     'diastolic_cardio':['15025'],\n",
    "     'smoke_cardio':['2835'],\n",
    "     'alcohol_cardio':['1760'],\n",
    "     'active_cardio':['7192'],\n",
    "     'cholesterol_cardio':['6004'],\n",
    "     'glucose_cardio':['3231']}\n",
    "\n",
    "cvd_df2=pd.DataFrame(data,columns=['systolic_cardio','diastolic_cardio','smoke_cardio','alcohol_cardio','active_cardio','cholesterol_cardio','glucose_cardio'])\n",
    "cvd_df2"
   ]
  },
  {
   "cell_type": "markdown",
   "id": "bd56cee9",
   "metadata": {},
   "source": [
    "10.What is the percentage of lifestyles affecting the risk of getting cardiovascular disease?"
   ]
  },
  {
   "cell_type": "markdown",
   "id": "cb4f8f02",
   "metadata": {},
   "source": [
    "a) smoke"
   ]
  },
  {
   "cell_type": "code",
   "execution_count": 56,
   "id": "c2613558",
   "metadata": {},
   "outputs": [
    {
     "data": {
      "text/html": [
       "<div>\n",
       "<style scoped>\n",
       "    .dataframe tbody tr th:only-of-type {\n",
       "        vertical-align: middle;\n",
       "    }\n",
       "\n",
       "    .dataframe tbody tr th {\n",
       "        vertical-align: top;\n",
       "    }\n",
       "\n",
       "    .dataframe thead th {\n",
       "        text-align: right;\n",
       "    }\n",
       "</style>\n",
       "<table border=\"1\" class=\"dataframe\">\n",
       "  <thead>\n",
       "    <tr style=\"text-align: right;\">\n",
       "      <th></th>\n",
       "      <th>cvd_presence</th>\n",
       "      <th>smoke</th>\n",
       "      <th>countofsmoke</th>\n",
       "    </tr>\n",
       "  </thead>\n",
       "  <tbody>\n",
       "    <tr>\n",
       "      <th>0</th>\n",
       "      <td>0</td>\n",
       "      <td>0</td>\n",
       "      <td>31324</td>\n",
       "    </tr>\n",
       "    <tr>\n",
       "      <th>1</th>\n",
       "      <td>0</td>\n",
       "      <td>1</td>\n",
       "      <td>3207</td>\n",
       "    </tr>\n",
       "    <tr>\n",
       "      <th>2</th>\n",
       "      <td>1</td>\n",
       "      <td>0</td>\n",
       "      <td>31137</td>\n",
       "    </tr>\n",
       "    <tr>\n",
       "      <th>3</th>\n",
       "      <td>1</td>\n",
       "      <td>1</td>\n",
       "      <td>2835</td>\n",
       "    </tr>\n",
       "  </tbody>\n",
       "</table>\n",
       "</div>"
      ],
      "text/plain": [
       "   cvd_presence  smoke  countofsmoke\n",
       "0             0      0         31324\n",
       "1             0      1          3207\n",
       "2             1      0         31137\n",
       "3             1      1          2835"
      ]
     },
     "execution_count": 56,
     "metadata": {},
     "output_type": "execute_result"
    }
   ],
   "source": [
    "Count_Smoke= cvd_df.groupby(['cvd_presence','smoke'])['cvd_presence'].count().reset_index(name='countofsmoke')\n",
    "Count_Smoke"
   ]
  },
  {
   "cell_type": "code",
   "execution_count": 57,
   "id": "395a3d03",
   "metadata": {},
   "outputs": [
    {
     "data": {
      "text/html": [
       "<style  type=\"text/css\" >\n",
       "</style><table id=\"T_6b4dd_\" ><thead>    <tr>        <th class=\"blank level0\" ></th>        <th class=\"col_heading level0 col0\" >cvd_presence</th>        <th class=\"col_heading level0 col1\" >smoke</th>        <th class=\"col_heading level0 col2\" >countofsmoke</th>        <th class=\"col_heading level0 col3\" >percentage</th>    </tr></thead><tbody>\n",
       "                <tr>\n",
       "                        <th id=\"T_6b4dd_level0_row0\" class=\"row_heading level0 row0\" >0</th>\n",
       "                        <td id=\"T_6b4dd_row0_col0\" class=\"data row0 col0\" >0</td>\n",
       "                        <td id=\"T_6b4dd_row0_col1\" class=\"data row0 col1\" >0</td>\n",
       "                        <td id=\"T_6b4dd_row0_col2\" class=\"data row0 col2\" >31324</td>\n",
       "                        <td id=\"T_6b4dd_row0_col3\" class=\"data row0 col3\" >45.73</td>\n",
       "            </tr>\n",
       "            <tr>\n",
       "                        <th id=\"T_6b4dd_level0_row1\" class=\"row_heading level0 row1\" >1</th>\n",
       "                        <td id=\"T_6b4dd_row1_col0\" class=\"data row1 col0\" >0</td>\n",
       "                        <td id=\"T_6b4dd_row1_col1\" class=\"data row1 col1\" >1</td>\n",
       "                        <td id=\"T_6b4dd_row1_col2\" class=\"data row1 col2\" >3207</td>\n",
       "                        <td id=\"T_6b4dd_row1_col3\" class=\"data row1 col3\" >4.68</td>\n",
       "            </tr>\n",
       "            <tr>\n",
       "                        <th id=\"T_6b4dd_level0_row2\" class=\"row_heading level0 row2\" >2</th>\n",
       "                        <td id=\"T_6b4dd_row2_col0\" class=\"data row2 col0\" >1</td>\n",
       "                        <td id=\"T_6b4dd_row2_col1\" class=\"data row2 col1\" >0</td>\n",
       "                        <td id=\"T_6b4dd_row2_col2\" class=\"data row2 col2\" >31137</td>\n",
       "                        <td id=\"T_6b4dd_row2_col3\" class=\"data row2 col3\" >45.45</td>\n",
       "            </tr>\n",
       "            <tr>\n",
       "                        <th id=\"T_6b4dd_level0_row3\" class=\"row_heading level0 row3\" >3</th>\n",
       "                        <td id=\"T_6b4dd_row3_col0\" class=\"data row3 col0\" >1</td>\n",
       "                        <td id=\"T_6b4dd_row3_col1\" class=\"data row3 col1\" >1</td>\n",
       "                        <td id=\"T_6b4dd_row3_col2\" class=\"data row3 col2\" >2835</td>\n",
       "                        <td id=\"T_6b4dd_row3_col3\" class=\"data row3 col3\" >4.14</td>\n",
       "            </tr>\n",
       "    </tbody></table>"
      ],
      "text/plain": [
       "<pandas.io.formats.style.Styler at 0x21eefdc3dc0>"
      ]
     },
     "execution_count": 57,
     "metadata": {},
     "output_type": "execute_result"
    }
   ],
   "source": [
    "Count_Smoke['percentage']=((Count_Smoke['countofsmoke']/Count_Smoke['countofsmoke'].sum())*100)\n",
    "Count_Smoke.style.format({'percentage':\"{:.2f}\"})"
   ]
  },
  {
   "cell_type": "code",
   "execution_count": 58,
   "id": "a5719835",
   "metadata": {
    "scrolled": true
   },
   "outputs": [
    {
     "data": {
      "text/plain": [
       "4.138504882997824"
      ]
     },
     "execution_count": 58,
     "metadata": {},
     "output_type": "execute_result"
    }
   ],
   "source": [
    "Count_Smoke['percentage'].iloc[3]"
   ]
  },
  {
   "cell_type": "markdown",
   "id": "7d53e6c8",
   "metadata": {},
   "source": [
    "b) Alcohol"
   ]
  },
  {
   "cell_type": "code",
   "execution_count": 59,
   "id": "e847439c",
   "metadata": {},
   "outputs": [
    {
     "data": {
      "text/html": [
       "<div>\n",
       "<style scoped>\n",
       "    .dataframe tbody tr th:only-of-type {\n",
       "        vertical-align: middle;\n",
       "    }\n",
       "\n",
       "    .dataframe tbody tr th {\n",
       "        vertical-align: top;\n",
       "    }\n",
       "\n",
       "    .dataframe thead th {\n",
       "        text-align: right;\n",
       "    }\n",
       "</style>\n",
       "<table border=\"1\" class=\"dataframe\">\n",
       "  <thead>\n",
       "    <tr style=\"text-align: right;\">\n",
       "      <th></th>\n",
       "      <th>cvd_presence</th>\n",
       "      <th>alcohol</th>\n",
       "      <th>countofalcohol</th>\n",
       "    </tr>\n",
       "  </thead>\n",
       "  <tbody>\n",
       "    <tr>\n",
       "      <th>0</th>\n",
       "      <td>0</td>\n",
       "      <td>0</td>\n",
       "      <td>32611</td>\n",
       "    </tr>\n",
       "    <tr>\n",
       "      <th>1</th>\n",
       "      <td>0</td>\n",
       "      <td>1</td>\n",
       "      <td>1920</td>\n",
       "    </tr>\n",
       "    <tr>\n",
       "      <th>2</th>\n",
       "      <td>1</td>\n",
       "      <td>0</td>\n",
       "      <td>32212</td>\n",
       "    </tr>\n",
       "    <tr>\n",
       "      <th>3</th>\n",
       "      <td>1</td>\n",
       "      <td>1</td>\n",
       "      <td>1760</td>\n",
       "    </tr>\n",
       "  </tbody>\n",
       "</table>\n",
       "</div>"
      ],
      "text/plain": [
       "   cvd_presence  alcohol  countofalcohol\n",
       "0             0        0           32611\n",
       "1             0        1            1920\n",
       "2             1        0           32212\n",
       "3             1        1            1760"
      ]
     },
     "execution_count": 59,
     "metadata": {},
     "output_type": "execute_result"
    }
   ],
   "source": [
    "Count_Alcohol=cvd_df.groupby(['cvd_presence','alcohol'])['cvd_presence'].count().reset_index(name='countofalcohol')\n",
    "Count_Alcohol"
   ]
  },
  {
   "cell_type": "code",
   "execution_count": 60,
   "id": "c8b2d1e0",
   "metadata": {},
   "outputs": [
    {
     "data": {
      "text/html": [
       "<style  type=\"text/css\" >\n",
       "</style><table id=\"T_143cf_\" ><thead>    <tr>        <th class=\"blank level0\" ></th>        <th class=\"col_heading level0 col0\" >cvd_presence</th>        <th class=\"col_heading level0 col1\" >alcohol</th>        <th class=\"col_heading level0 col2\" >countofalcohol</th>        <th class=\"col_heading level0 col3\" >percentage</th>    </tr></thead><tbody>\n",
       "                <tr>\n",
       "                        <th id=\"T_143cf_level0_row0\" class=\"row_heading level0 row0\" >0</th>\n",
       "                        <td id=\"T_143cf_row0_col0\" class=\"data row0 col0\" >0</td>\n",
       "                        <td id=\"T_143cf_row0_col1\" class=\"data row0 col1\" >0</td>\n",
       "                        <td id=\"T_143cf_row0_col2\" class=\"data row0 col2\" >32611</td>\n",
       "                        <td id=\"T_143cf_row0_col3\" class=\"data row0 col3\" >47.61</td>\n",
       "            </tr>\n",
       "            <tr>\n",
       "                        <th id=\"T_143cf_level0_row1\" class=\"row_heading level0 row1\" >1</th>\n",
       "                        <td id=\"T_143cf_row1_col0\" class=\"data row1 col0\" >0</td>\n",
       "                        <td id=\"T_143cf_row1_col1\" class=\"data row1 col1\" >1</td>\n",
       "                        <td id=\"T_143cf_row1_col2\" class=\"data row1 col2\" >1920</td>\n",
       "                        <td id=\"T_143cf_row1_col3\" class=\"data row1 col3\" >2.80</td>\n",
       "            </tr>\n",
       "            <tr>\n",
       "                        <th id=\"T_143cf_level0_row2\" class=\"row_heading level0 row2\" >2</th>\n",
       "                        <td id=\"T_143cf_row2_col0\" class=\"data row2 col0\" >1</td>\n",
       "                        <td id=\"T_143cf_row2_col1\" class=\"data row2 col1\" >0</td>\n",
       "                        <td id=\"T_143cf_row2_col2\" class=\"data row2 col2\" >32212</td>\n",
       "                        <td id=\"T_143cf_row2_col3\" class=\"data row2 col3\" >47.02</td>\n",
       "            </tr>\n",
       "            <tr>\n",
       "                        <th id=\"T_143cf_level0_row3\" class=\"row_heading level0 row3\" >3</th>\n",
       "                        <td id=\"T_143cf_row3_col0\" class=\"data row3 col0\" >1</td>\n",
       "                        <td id=\"T_143cf_row3_col1\" class=\"data row3 col1\" >1</td>\n",
       "                        <td id=\"T_143cf_row3_col2\" class=\"data row3 col2\" >1760</td>\n",
       "                        <td id=\"T_143cf_row3_col3\" class=\"data row3 col3\" >2.57</td>\n",
       "            </tr>\n",
       "    </tbody></table>"
      ],
      "text/plain": [
       "<pandas.io.formats.style.Styler at 0x21eed3b4cd0>"
      ]
     },
     "execution_count": 60,
     "metadata": {},
     "output_type": "execute_result"
    }
   ],
   "source": [
    "Count_Alcohol['percentage']=((Count_Alcohol['countofalcohol']/Count_Alcohol['countofalcohol'].sum())*100)\n",
    "Count_Alcohol.style.format({'percentage':\"{:.2f}\"})"
   ]
  },
  {
   "cell_type": "code",
   "execution_count": 61,
   "id": "5ec0ef86",
   "metadata": {},
   "outputs": [
    {
     "data": {
      "text/plain": [
       "2.5692305446476795"
      ]
     },
     "execution_count": 61,
     "metadata": {},
     "output_type": "execute_result"
    }
   ],
   "source": [
    "Count_Alcohol['percentage'].iloc[3]"
   ]
  },
  {
   "cell_type": "markdown",
   "id": "34c7815e",
   "metadata": {},
   "source": [
    "c) Physical Activity"
   ]
  },
  {
   "cell_type": "code",
   "execution_count": 62,
   "id": "f968782c",
   "metadata": {
    "scrolled": true
   },
   "outputs": [
    {
     "data": {
      "text/html": [
       "<div>\n",
       "<style scoped>\n",
       "    .dataframe tbody tr th:only-of-type {\n",
       "        vertical-align: middle;\n",
       "    }\n",
       "\n",
       "    .dataframe tbody tr th {\n",
       "        vertical-align: top;\n",
       "    }\n",
       "\n",
       "    .dataframe thead th {\n",
       "        text-align: right;\n",
       "    }\n",
       "</style>\n",
       "<table border=\"1\" class=\"dataframe\">\n",
       "  <thead>\n",
       "    <tr style=\"text-align: right;\">\n",
       "      <th></th>\n",
       "      <th>cvd_presence</th>\n",
       "      <th>physical_activity</th>\n",
       "      <th>countofactive</th>\n",
       "    </tr>\n",
       "  </thead>\n",
       "  <tbody>\n",
       "    <tr>\n",
       "      <th>0</th>\n",
       "      <td>0</td>\n",
       "      <td>0</td>\n",
       "      <td>6292</td>\n",
       "    </tr>\n",
       "    <tr>\n",
       "      <th>1</th>\n",
       "      <td>0</td>\n",
       "      <td>1</td>\n",
       "      <td>28239</td>\n",
       "    </tr>\n",
       "    <tr>\n",
       "      <th>2</th>\n",
       "      <td>1</td>\n",
       "      <td>0</td>\n",
       "      <td>7192</td>\n",
       "    </tr>\n",
       "    <tr>\n",
       "      <th>3</th>\n",
       "      <td>1</td>\n",
       "      <td>1</td>\n",
       "      <td>26780</td>\n",
       "    </tr>\n",
       "  </tbody>\n",
       "</table>\n",
       "</div>"
      ],
      "text/plain": [
       "   cvd_presence  physical_activity  countofactive\n",
       "0             0                  0           6292\n",
       "1             0                  1          28239\n",
       "2             1                  0           7192\n",
       "3             1                  1          26780"
      ]
     },
     "execution_count": 62,
     "metadata": {},
     "output_type": "execute_result"
    }
   ],
   "source": [
    "Count_Active=cvd_df.groupby(['cvd_presence','physical_activity'])['cvd_presence'].count().reset_index(name='countofactive')\n",
    "Count_Active"
   ]
  },
  {
   "cell_type": "code",
   "execution_count": 63,
   "id": "b7701763",
   "metadata": {},
   "outputs": [
    {
     "data": {
      "text/html": [
       "<style  type=\"text/css\" >\n",
       "</style><table id=\"T_752e7_\" ><thead>    <tr>        <th class=\"blank level0\" ></th>        <th class=\"col_heading level0 col0\" >cvd_presence</th>        <th class=\"col_heading level0 col1\" >physical_activity</th>        <th class=\"col_heading level0 col2\" >countofactive</th>        <th class=\"col_heading level0 col3\" >percentage</th>    </tr></thead><tbody>\n",
       "                <tr>\n",
       "                        <th id=\"T_752e7_level0_row0\" class=\"row_heading level0 row0\" >0</th>\n",
       "                        <td id=\"T_752e7_row0_col0\" class=\"data row0 col0\" >0</td>\n",
       "                        <td id=\"T_752e7_row0_col1\" class=\"data row0 col1\" >0</td>\n",
       "                        <td id=\"T_752e7_row0_col2\" class=\"data row0 col2\" >6292</td>\n",
       "                        <td id=\"T_752e7_row0_col3\" class=\"data row0 col3\" >9.18</td>\n",
       "            </tr>\n",
       "            <tr>\n",
       "                        <th id=\"T_752e7_level0_row1\" class=\"row_heading level0 row1\" >1</th>\n",
       "                        <td id=\"T_752e7_row1_col0\" class=\"data row1 col0\" >0</td>\n",
       "                        <td id=\"T_752e7_row1_col1\" class=\"data row1 col1\" >1</td>\n",
       "                        <td id=\"T_752e7_row1_col2\" class=\"data row1 col2\" >28239</td>\n",
       "                        <td id=\"T_752e7_row1_col3\" class=\"data row1 col3\" >41.22</td>\n",
       "            </tr>\n",
       "            <tr>\n",
       "                        <th id=\"T_752e7_level0_row2\" class=\"row_heading level0 row2\" >2</th>\n",
       "                        <td id=\"T_752e7_row2_col0\" class=\"data row2 col0\" >1</td>\n",
       "                        <td id=\"T_752e7_row2_col1\" class=\"data row2 col1\" >0</td>\n",
       "                        <td id=\"T_752e7_row2_col2\" class=\"data row2 col2\" >7192</td>\n",
       "                        <td id=\"T_752e7_row2_col3\" class=\"data row2 col3\" >10.50</td>\n",
       "            </tr>\n",
       "            <tr>\n",
       "                        <th id=\"T_752e7_level0_row3\" class=\"row_heading level0 row3\" >3</th>\n",
       "                        <td id=\"T_752e7_row3_col0\" class=\"data row3 col0\" >1</td>\n",
       "                        <td id=\"T_752e7_row3_col1\" class=\"data row3 col1\" >1</td>\n",
       "                        <td id=\"T_752e7_row3_col2\" class=\"data row3 col2\" >26780</td>\n",
       "                        <td id=\"T_752e7_row3_col3\" class=\"data row3 col3\" >39.09</td>\n",
       "            </tr>\n",
       "    </tbody></table>"
      ],
      "text/plain": [
       "<pandas.io.formats.style.Styler at 0x21eefdc3850>"
      ]
     },
     "execution_count": 63,
     "metadata": {},
     "output_type": "execute_result"
    }
   ],
   "source": [
    "Count_Active['percentage']=((Count_Active['countofactive']/Count_Active['countofactive'].sum())*100)\n",
    "Count_Active.style.format({'percentage':\"{:.2f}\"})"
   ]
  },
  {
   "cell_type": "code",
   "execution_count": 64,
   "id": "89294792",
   "metadata": {
    "scrolled": true
   },
   "outputs": [
    {
     "data": {
      "text/plain": [
       "39.093178400945945"
      ]
     },
     "execution_count": 64,
     "metadata": {},
     "output_type": "execute_result"
    }
   ],
   "source": [
    "Count_Active['percentage'].iloc[3]"
   ]
  },
  {
   "cell_type": "markdown",
   "id": "6bb29cca",
   "metadata": {},
   "source": [
    "11. Can healthy diet prevent and control the risk of getting cardiovascular disease?"
   ]
  },
  {
   "cell_type": "markdown",
   "id": "8bef2c84",
   "metadata": {},
   "source": [
    "a) Cholesterol"
   ]
  },
  {
   "cell_type": "code",
   "execution_count": 65,
   "id": "cbebdbed",
   "metadata": {},
   "outputs": [
    {
     "data": {
      "text/html": [
       "<div>\n",
       "<style scoped>\n",
       "    .dataframe tbody tr th:only-of-type {\n",
       "        vertical-align: middle;\n",
       "    }\n",
       "\n",
       "    .dataframe tbody tr th {\n",
       "        vertical-align: top;\n",
       "    }\n",
       "\n",
       "    .dataframe thead th {\n",
       "        text-align: right;\n",
       "    }\n",
       "</style>\n",
       "<table border=\"1\" class=\"dataframe\">\n",
       "  <thead>\n",
       "    <tr style=\"text-align: right;\">\n",
       "      <th></th>\n",
       "      <th>cvd_presence</th>\n",
       "      <th>cholesterol</th>\n",
       "      <th>countofcholesterol</th>\n",
       "    </tr>\n",
       "  </thead>\n",
       "  <tbody>\n",
       "    <tr>\n",
       "      <th>0</th>\n",
       "      <td>0</td>\n",
       "      <td>1</td>\n",
       "      <td>28936</td>\n",
       "    </tr>\n",
       "    <tr>\n",
       "      <th>1</th>\n",
       "      <td>0</td>\n",
       "      <td>2</td>\n",
       "      <td>3730</td>\n",
       "    </tr>\n",
       "    <tr>\n",
       "      <th>2</th>\n",
       "      <td>0</td>\n",
       "      <td>3</td>\n",
       "      <td>1865</td>\n",
       "    </tr>\n",
       "    <tr>\n",
       "      <th>3</th>\n",
       "      <td>1</td>\n",
       "      <td>1</td>\n",
       "      <td>22426</td>\n",
       "    </tr>\n",
       "    <tr>\n",
       "      <th>4</th>\n",
       "      <td>1</td>\n",
       "      <td>2</td>\n",
       "      <td>5542</td>\n",
       "    </tr>\n",
       "    <tr>\n",
       "      <th>5</th>\n",
       "      <td>1</td>\n",
       "      <td>3</td>\n",
       "      <td>6004</td>\n",
       "    </tr>\n",
       "  </tbody>\n",
       "</table>\n",
       "</div>"
      ],
      "text/plain": [
       "   cvd_presence  cholesterol  countofcholesterol\n",
       "0             0            1               28936\n",
       "1             0            2                3730\n",
       "2             0            3                1865\n",
       "3             1            1               22426\n",
       "4             1            2                5542\n",
       "5             1            3                6004"
      ]
     },
     "execution_count": 65,
     "metadata": {},
     "output_type": "execute_result"
    }
   ],
   "source": [
    "Count_Cholesterol=cvd_df.groupby(['cvd_presence','cholesterol'])['cvd_presence'].count().reset_index(name='countofcholesterol')\n",
    "Count_Cholesterol"
   ]
  },
  {
   "cell_type": "code",
   "execution_count": 66,
   "id": "53e192f7",
   "metadata": {},
   "outputs": [
    {
     "data": {
      "text/html": [
       "<style  type=\"text/css\" >\n",
       "</style><table id=\"T_777dc_\" ><thead>    <tr>        <th class=\"blank level0\" ></th>        <th class=\"col_heading level0 col0\" >cvd_presence</th>        <th class=\"col_heading level0 col1\" >cholesterol</th>        <th class=\"col_heading level0 col2\" >countofcholesterol</th>        <th class=\"col_heading level0 col3\" >percentage</th>    </tr></thead><tbody>\n",
       "                <tr>\n",
       "                        <th id=\"T_777dc_level0_row0\" class=\"row_heading level0 row0\" >0</th>\n",
       "                        <td id=\"T_777dc_row0_col0\" class=\"data row0 col0\" >0</td>\n",
       "                        <td id=\"T_777dc_row0_col1\" class=\"data row0 col1\" >1</td>\n",
       "                        <td id=\"T_777dc_row0_col2\" class=\"data row0 col2\" >28936</td>\n",
       "                        <td id=\"T_777dc_row0_col3\" class=\"data row0 col3\" >42.24</td>\n",
       "            </tr>\n",
       "            <tr>\n",
       "                        <th id=\"T_777dc_level0_row1\" class=\"row_heading level0 row1\" >1</th>\n",
       "                        <td id=\"T_777dc_row1_col0\" class=\"data row1 col0\" >0</td>\n",
       "                        <td id=\"T_777dc_row1_col1\" class=\"data row1 col1\" >2</td>\n",
       "                        <td id=\"T_777dc_row1_col2\" class=\"data row1 col2\" >3730</td>\n",
       "                        <td id=\"T_777dc_row1_col3\" class=\"data row1 col3\" >5.45</td>\n",
       "            </tr>\n",
       "            <tr>\n",
       "                        <th id=\"T_777dc_level0_row2\" class=\"row_heading level0 row2\" >2</th>\n",
       "                        <td id=\"T_777dc_row2_col0\" class=\"data row2 col0\" >0</td>\n",
       "                        <td id=\"T_777dc_row2_col1\" class=\"data row2 col1\" >3</td>\n",
       "                        <td id=\"T_777dc_row2_col2\" class=\"data row2 col2\" >1865</td>\n",
       "                        <td id=\"T_777dc_row2_col3\" class=\"data row2 col3\" >2.72</td>\n",
       "            </tr>\n",
       "            <tr>\n",
       "                        <th id=\"T_777dc_level0_row3\" class=\"row_heading level0 row3\" >3</th>\n",
       "                        <td id=\"T_777dc_row3_col0\" class=\"data row3 col0\" >1</td>\n",
       "                        <td id=\"T_777dc_row3_col1\" class=\"data row3 col1\" >1</td>\n",
       "                        <td id=\"T_777dc_row3_col2\" class=\"data row3 col2\" >22426</td>\n",
       "                        <td id=\"T_777dc_row3_col3\" class=\"data row3 col3\" >32.74</td>\n",
       "            </tr>\n",
       "            <tr>\n",
       "                        <th id=\"T_777dc_level0_row4\" class=\"row_heading level0 row4\" >4</th>\n",
       "                        <td id=\"T_777dc_row4_col0\" class=\"data row4 col0\" >1</td>\n",
       "                        <td id=\"T_777dc_row4_col1\" class=\"data row4 col1\" >2</td>\n",
       "                        <td id=\"T_777dc_row4_col2\" class=\"data row4 col2\" >5542</td>\n",
       "                        <td id=\"T_777dc_row4_col3\" class=\"data row4 col3\" >8.09</td>\n",
       "            </tr>\n",
       "            <tr>\n",
       "                        <th id=\"T_777dc_level0_row5\" class=\"row_heading level0 row5\" >5</th>\n",
       "                        <td id=\"T_777dc_row5_col0\" class=\"data row5 col0\" >1</td>\n",
       "                        <td id=\"T_777dc_row5_col1\" class=\"data row5 col1\" >3</td>\n",
       "                        <td id=\"T_777dc_row5_col2\" class=\"data row5 col2\" >6004</td>\n",
       "                        <td id=\"T_777dc_row5_col3\" class=\"data row5 col3\" >8.76</td>\n",
       "            </tr>\n",
       "    </tbody></table>"
      ],
      "text/plain": [
       "<pandas.io.formats.style.Styler at 0x21eef5c9eb0>"
      ]
     },
     "execution_count": 66,
     "metadata": {},
     "output_type": "execute_result"
    }
   ],
   "source": [
    "Count_Cholesterol['percentage']=((Count_Cholesterol['countofcholesterol']/Count_Cholesterol['countofcholesterol'].sum())*100)\n",
    "Count_Cholesterol.style.format({'percentage':\"{:.2f}\"})"
   ]
  },
  {
   "cell_type": "code",
   "execution_count": 67,
   "id": "60b7e68d",
   "metadata": {},
   "outputs": [
    {
     "data": {
      "text/plain": [
       "42.24048581813935"
      ]
     },
     "execution_count": 67,
     "metadata": {},
     "output_type": "execute_result"
    }
   ],
   "source": [
    "Count_Cholesterol['percentage'].iloc[0]"
   ]
  },
  {
   "cell_type": "markdown",
   "id": "e9369457",
   "metadata": {},
   "source": [
    "b) Glucose"
   ]
  },
  {
   "cell_type": "code",
   "execution_count": 68,
   "id": "c44f6840",
   "metadata": {},
   "outputs": [
    {
     "data": {
      "text/html": [
       "<div>\n",
       "<style scoped>\n",
       "    .dataframe tbody tr th:only-of-type {\n",
       "        vertical-align: middle;\n",
       "    }\n",
       "\n",
       "    .dataframe tbody tr th {\n",
       "        vertical-align: top;\n",
       "    }\n",
       "\n",
       "    .dataframe thead th {\n",
       "        text-align: right;\n",
       "    }\n",
       "</style>\n",
       "<table border=\"1\" class=\"dataframe\">\n",
       "  <thead>\n",
       "    <tr style=\"text-align: right;\">\n",
       "      <th></th>\n",
       "      <th>cvd_presence</th>\n",
       "      <th>glucose</th>\n",
       "      <th>countofglucose</th>\n",
       "    </tr>\n",
       "  </thead>\n",
       "  <tbody>\n",
       "    <tr>\n",
       "      <th>0</th>\n",
       "      <td>0</td>\n",
       "      <td>1</td>\n",
       "      <td>30468</td>\n",
       "    </tr>\n",
       "    <tr>\n",
       "      <th>1</th>\n",
       "      <td>0</td>\n",
       "      <td>2</td>\n",
       "      <td>2074</td>\n",
       "    </tr>\n",
       "    <tr>\n",
       "      <th>2</th>\n",
       "      <td>0</td>\n",
       "      <td>3</td>\n",
       "      <td>1989</td>\n",
       "    </tr>\n",
       "    <tr>\n",
       "      <th>3</th>\n",
       "      <td>1</td>\n",
       "      <td>1</td>\n",
       "      <td>27757</td>\n",
       "    </tr>\n",
       "    <tr>\n",
       "      <th>4</th>\n",
       "      <td>1</td>\n",
       "      <td>2</td>\n",
       "      <td>2984</td>\n",
       "    </tr>\n",
       "    <tr>\n",
       "      <th>5</th>\n",
       "      <td>1</td>\n",
       "      <td>3</td>\n",
       "      <td>3231</td>\n",
       "    </tr>\n",
       "  </tbody>\n",
       "</table>\n",
       "</div>"
      ],
      "text/plain": [
       "   cvd_presence  glucose  countofglucose\n",
       "0             0        1           30468\n",
       "1             0        2            2074\n",
       "2             0        3            1989\n",
       "3             1        1           27757\n",
       "4             1        2            2984\n",
       "5             1        3            3231"
      ]
     },
     "execution_count": 68,
     "metadata": {},
     "output_type": "execute_result"
    }
   ],
   "source": [
    "Count_Glucose=cvd_df.groupby(['cvd_presence','glucose'])['cvd_presence'].count().reset_index(name='countofglucose')\n",
    "Count_Glucose"
   ]
  },
  {
   "cell_type": "code",
   "execution_count": 69,
   "id": "8e74c225",
   "metadata": {},
   "outputs": [
    {
     "data": {
      "text/html": [
       "<style  type=\"text/css\" >\n",
       "</style><table id=\"T_ce88e_\" ><thead>    <tr>        <th class=\"blank level0\" ></th>        <th class=\"col_heading level0 col0\" >cvd_presence</th>        <th class=\"col_heading level0 col1\" >glucose</th>        <th class=\"col_heading level0 col2\" >countofglucose</th>        <th class=\"col_heading level0 col3\" >percentage</th>    </tr></thead><tbody>\n",
       "                <tr>\n",
       "                        <th id=\"T_ce88e_level0_row0\" class=\"row_heading level0 row0\" >0</th>\n",
       "                        <td id=\"T_ce88e_row0_col0\" class=\"data row0 col0\" >0</td>\n",
       "                        <td id=\"T_ce88e_row0_col1\" class=\"data row0 col1\" >1</td>\n",
       "                        <td id=\"T_ce88e_row0_col2\" class=\"data row0 col2\" >30468</td>\n",
       "                        <td id=\"T_ce88e_row0_col3\" class=\"data row0 col3\" >44.48</td>\n",
       "            </tr>\n",
       "            <tr>\n",
       "                        <th id=\"T_ce88e_level0_row1\" class=\"row_heading level0 row1\" >1</th>\n",
       "                        <td id=\"T_ce88e_row1_col0\" class=\"data row1 col0\" >0</td>\n",
       "                        <td id=\"T_ce88e_row1_col1\" class=\"data row1 col1\" >2</td>\n",
       "                        <td id=\"T_ce88e_row1_col2\" class=\"data row1 col2\" >2074</td>\n",
       "                        <td id=\"T_ce88e_row1_col3\" class=\"data row1 col3\" >3.03</td>\n",
       "            </tr>\n",
       "            <tr>\n",
       "                        <th id=\"T_ce88e_level0_row2\" class=\"row_heading level0 row2\" >2</th>\n",
       "                        <td id=\"T_ce88e_row2_col0\" class=\"data row2 col0\" >0</td>\n",
       "                        <td id=\"T_ce88e_row2_col1\" class=\"data row2 col1\" >3</td>\n",
       "                        <td id=\"T_ce88e_row2_col2\" class=\"data row2 col2\" >1989</td>\n",
       "                        <td id=\"T_ce88e_row2_col3\" class=\"data row2 col3\" >2.90</td>\n",
       "            </tr>\n",
       "            <tr>\n",
       "                        <th id=\"T_ce88e_level0_row3\" class=\"row_heading level0 row3\" >3</th>\n",
       "                        <td id=\"T_ce88e_row3_col0\" class=\"data row3 col0\" >1</td>\n",
       "                        <td id=\"T_ce88e_row3_col1\" class=\"data row3 col1\" >1</td>\n",
       "                        <td id=\"T_ce88e_row3_col2\" class=\"data row3 col2\" >27757</td>\n",
       "                        <td id=\"T_ce88e_row3_col3\" class=\"data row3 col3\" >40.52</td>\n",
       "            </tr>\n",
       "            <tr>\n",
       "                        <th id=\"T_ce88e_level0_row4\" class=\"row_heading level0 row4\" >4</th>\n",
       "                        <td id=\"T_ce88e_row4_col0\" class=\"data row4 col0\" >1</td>\n",
       "                        <td id=\"T_ce88e_row4_col1\" class=\"data row4 col1\" >2</td>\n",
       "                        <td id=\"T_ce88e_row4_col2\" class=\"data row4 col2\" >2984</td>\n",
       "                        <td id=\"T_ce88e_row4_col3\" class=\"data row4 col3\" >4.36</td>\n",
       "            </tr>\n",
       "            <tr>\n",
       "                        <th id=\"T_ce88e_level0_row5\" class=\"row_heading level0 row5\" >5</th>\n",
       "                        <td id=\"T_ce88e_row5_col0\" class=\"data row5 col0\" >1</td>\n",
       "                        <td id=\"T_ce88e_row5_col1\" class=\"data row5 col1\" >3</td>\n",
       "                        <td id=\"T_ce88e_row5_col2\" class=\"data row5 col2\" >3231</td>\n",
       "                        <td id=\"T_ce88e_row5_col3\" class=\"data row5 col3\" >4.72</td>\n",
       "            </tr>\n",
       "    </tbody></table>"
      ],
      "text/plain": [
       "<pandas.io.formats.style.Styler at 0x21eef5c9e80>"
      ]
     },
     "execution_count": 69,
     "metadata": {},
     "output_type": "execute_result"
    }
   ],
   "source": [
    "Count_Glucose['percentage']=((Count_Glucose['countofglucose']/Count_Glucose['countofglucose'].sum())*100)\n",
    "Count_Glucose.style.format({'percentage':\"{:.2f}\"})"
   ]
  },
  {
   "cell_type": "code",
   "execution_count": 70,
   "id": "6ddaa4e0",
   "metadata": {
    "scrolled": false
   },
   "outputs": [
    {
     "data": {
      "text/plain": [
       "44.47688422404858"
      ]
     },
     "execution_count": 70,
     "metadata": {},
     "output_type": "execute_result"
    }
   ],
   "source": [
    "Count_Glucose['percentage'].iloc[0]"
   ]
  },
  {
   "cell_type": "code",
   "execution_count": 71,
   "id": "a1c17dd3",
   "metadata": {},
   "outputs": [
    {
     "data": {
      "text/html": [
       "<div>\n",
       "<style scoped>\n",
       "    .dataframe tbody tr th:only-of-type {\n",
       "        vertical-align: middle;\n",
       "    }\n",
       "\n",
       "    .dataframe tbody tr th {\n",
       "        vertical-align: top;\n",
       "    }\n",
       "\n",
       "    .dataframe thead th {\n",
       "        text-align: right;\n",
       "    }\n",
       "</style>\n",
       "<table border=\"1\" class=\"dataframe\">\n",
       "  <thead>\n",
       "    <tr style=\"text-align: right;\">\n",
       "      <th></th>\n",
       "      <th>percentage_normal_glucose</th>\n",
       "      <th>percentage_normal_cholesterol</th>\n",
       "    </tr>\n",
       "  </thead>\n",
       "  <tbody>\n",
       "    <tr>\n",
       "      <th>0</th>\n",
       "      <td>40.52</td>\n",
       "      <td>32.74</td>\n",
       "    </tr>\n",
       "  </tbody>\n",
       "</table>\n",
       "</div>"
      ],
      "text/plain": [
       "  percentage_normal_glucose percentage_normal_cholesterol\n",
       "0                     40.52                         32.74"
      ]
     },
     "execution_count": 71,
     "metadata": {},
     "output_type": "execute_result"
    }
   ],
   "source": [
    "data2={'percentage_normal_glucose':['40.52'],\n",
    "      'percentage_normal_cholesterol':['32.74']}\n",
    "\n",
    "cvd_df3=pd.DataFrame(data2)\n",
    "cvd_df3"
   ]
  },
  {
   "cell_type": "code",
   "execution_count": 72,
   "id": "eead029c",
   "metadata": {},
   "outputs": [
    {
     "data": {
      "text/html": [
       "<div>\n",
       "<style scoped>\n",
       "    .dataframe tbody tr th:only-of-type {\n",
       "        vertical-align: middle;\n",
       "    }\n",
       "\n",
       "    .dataframe tbody tr th {\n",
       "        vertical-align: top;\n",
       "    }\n",
       "\n",
       "    .dataframe thead th {\n",
       "        text-align: right;\n",
       "    }\n",
       "</style>\n",
       "<table border=\"1\" class=\"dataframe\">\n",
       "  <thead>\n",
       "    <tr style=\"text-align: right;\">\n",
       "      <th></th>\n",
       "      <th>age</th>\n",
       "      <th>gender</th>\n",
       "      <th>height</th>\n",
       "      <th>weight</th>\n",
       "      <th>systolic_bp</th>\n",
       "      <th>diastolic_bp</th>\n",
       "      <th>cholesterol</th>\n",
       "      <th>glucose</th>\n",
       "      <th>smoke</th>\n",
       "      <th>alcohol</th>\n",
       "      <th>physical_activity</th>\n",
       "      <th>cvd_presence</th>\n",
       "      <th>systolic_bp_categorised</th>\n",
       "      <th>diastolic_bp_categorised</th>\n",
       "      <th>bmi</th>\n",
       "    </tr>\n",
       "    <tr>\n",
       "      <th>id</th>\n",
       "      <th></th>\n",
       "      <th></th>\n",
       "      <th></th>\n",
       "      <th></th>\n",
       "      <th></th>\n",
       "      <th></th>\n",
       "      <th></th>\n",
       "      <th></th>\n",
       "      <th></th>\n",
       "      <th></th>\n",
       "      <th></th>\n",
       "      <th></th>\n",
       "      <th></th>\n",
       "      <th></th>\n",
       "      <th></th>\n",
       "    </tr>\n",
       "  </thead>\n",
       "  <tbody>\n",
       "    <tr>\n",
       "      <th>0</th>\n",
       "      <td>50</td>\n",
       "      <td>2</td>\n",
       "      <td>168</td>\n",
       "      <td>62.0</td>\n",
       "      <td>110</td>\n",
       "      <td>80</td>\n",
       "      <td>1</td>\n",
       "      <td>1</td>\n",
       "      <td>0</td>\n",
       "      <td>0</td>\n",
       "      <td>1</td>\n",
       "      <td>0</td>\n",
       "      <td>1</td>\n",
       "      <td>1</td>\n",
       "      <td>normal</td>\n",
       "    </tr>\n",
       "    <tr>\n",
       "      <th>1</th>\n",
       "      <td>55</td>\n",
       "      <td>1</td>\n",
       "      <td>156</td>\n",
       "      <td>85.0</td>\n",
       "      <td>140</td>\n",
       "      <td>90</td>\n",
       "      <td>3</td>\n",
       "      <td>1</td>\n",
       "      <td>0</td>\n",
       "      <td>0</td>\n",
       "      <td>1</td>\n",
       "      <td>1</td>\n",
       "      <td>3</td>\n",
       "      <td>3</td>\n",
       "      <td>obese</td>\n",
       "    </tr>\n",
       "    <tr>\n",
       "      <th>2</th>\n",
       "      <td>51</td>\n",
       "      <td>1</td>\n",
       "      <td>165</td>\n",
       "      <td>64.0</td>\n",
       "      <td>130</td>\n",
       "      <td>70</td>\n",
       "      <td>3</td>\n",
       "      <td>1</td>\n",
       "      <td>0</td>\n",
       "      <td>0</td>\n",
       "      <td>0</td>\n",
       "      <td>1</td>\n",
       "      <td>3</td>\n",
       "      <td>1</td>\n",
       "      <td>normal</td>\n",
       "    </tr>\n",
       "    <tr>\n",
       "      <th>3</th>\n",
       "      <td>48</td>\n",
       "      <td>2</td>\n",
       "      <td>169</td>\n",
       "      <td>82.0</td>\n",
       "      <td>150</td>\n",
       "      <td>100</td>\n",
       "      <td>1</td>\n",
       "      <td>1</td>\n",
       "      <td>0</td>\n",
       "      <td>0</td>\n",
       "      <td>1</td>\n",
       "      <td>1</td>\n",
       "      <td>3</td>\n",
       "      <td>3</td>\n",
       "      <td>overweight</td>\n",
       "    </tr>\n",
       "    <tr>\n",
       "      <th>4</th>\n",
       "      <td>47</td>\n",
       "      <td>1</td>\n",
       "      <td>156</td>\n",
       "      <td>56.0</td>\n",
       "      <td>100</td>\n",
       "      <td>60</td>\n",
       "      <td>1</td>\n",
       "      <td>1</td>\n",
       "      <td>0</td>\n",
       "      <td>0</td>\n",
       "      <td>0</td>\n",
       "      <td>0</td>\n",
       "      <td>1</td>\n",
       "      <td>1</td>\n",
       "      <td>normal</td>\n",
       "    </tr>\n",
       "  </tbody>\n",
       "</table>\n",
       "</div>"
      ],
      "text/plain": [
       "    age  gender  height  weight  systolic_bp  diastolic_bp  cholesterol  \\\n",
       "id                                                                        \n",
       "0    50       2     168    62.0          110            80            1   \n",
       "1    55       1     156    85.0          140            90            3   \n",
       "2    51       1     165    64.0          130            70            3   \n",
       "3    48       2     169    82.0          150           100            1   \n",
       "4    47       1     156    56.0          100            60            1   \n",
       "\n",
       "    glucose  smoke  alcohol  physical_activity  cvd_presence  \\\n",
       "id                                                             \n",
       "0         1      0        0                  1             0   \n",
       "1         1      0        0                  1             1   \n",
       "2         1      0        0                  0             1   \n",
       "3         1      0        0                  1             1   \n",
       "4         1      0        0                  0             0   \n",
       "\n",
       "   systolic_bp_categorised diastolic_bp_categorised         bmi  \n",
       "id                                                               \n",
       "0                        1                        1      normal  \n",
       "1                        3                        3       obese  \n",
       "2                        3                        1      normal  \n",
       "3                        3                        3  overweight  \n",
       "4                        1                        1      normal  "
      ]
     },
     "execution_count": 72,
     "metadata": {},
     "output_type": "execute_result"
    }
   ],
   "source": [
    "cvd_df.head()"
   ]
  },
  {
   "cell_type": "markdown",
   "id": "632e3b51",
   "metadata": {},
   "source": [
    "## Visualization"
   ]
  },
  {
   "cell_type": "markdown",
   "id": "20507e7f",
   "metadata": {},
   "source": [
    "1.What is the highest risk factor for cardiovascular disease?"
   ]
  },
  {
   "cell_type": "markdown",
   "id": "a0e8eafd",
   "metadata": {},
   "source": [
    "a) systolic_bp_categorised"
   ]
  },
  {
   "cell_type": "code",
   "execution_count": 73,
   "id": "6425479a",
   "metadata": {
    "scrolled": false
   },
   "outputs": [
    {
     "data": {
      "text/plain": [
       "<AxesSubplot:title={'center':'Cardiovascular Disease on Systolic Blood Pressure'}, xlabel='(cvd_presence, systolic_bp_categorised)', ylabel='Count'>"
      ]
     },
     "execution_count": 73,
     "metadata": {},
     "output_type": "execute_result"
    },
    {
     "data": {
      "image/png": "[encoded data removed]",
      "text/plain": [
       "<Figure size 432x288 with 1 Axes>"
      ]
     },
     "metadata": {},
     "output_type": "display_data"
    }
   ],
   "source": [
    "Count_Systolic_Visualization.plot.bar(xlabel=\"(cvd_presence, systolic_bp_categorised)\",ylabel=\"Count\",\n",
    "                                      title= \"Cardiovascular Disease on Systolic Blood Pressure\",\n",
    "                                      color=['red','red','red','blue','blue','blue'],label=True)"
   ]
  },
  {
   "cell_type": "markdown",
   "id": "8ac8e30f",
   "metadata": {},
   "source": [
    "b) Diastolic Blood Pressure"
   ]
  },
  {
   "cell_type": "code",
   "execution_count": 74,
   "id": "297ca45e",
   "metadata": {
    "scrolled": true
   },
   "outputs": [
    {
     "data": {
      "text/plain": [
       "<AxesSubplot:title={'center':'Cardiovascular Disease on Diastolic Blood Pressure'}, xlabel='(cvd_presence, diastolic_bp_categorised)', ylabel='Count'>"
      ]
     },
     "execution_count": 74,
     "metadata": {},
     "output_type": "execute_result"
    },
    {
     "data": {
      "image/png": "[encoded data removed]",
      "text/plain": [
       "<Figure size 432x288 with 1 Axes>"
      ]
     },
     "metadata": {},
     "output_type": "display_data"
    }
   ],
   "source": [
    "Count_Diastolic_Visualization.plot.bar(xlabel=\"(cvd_presence, diastolic_bp_categorised)\",ylabel=\"Count\",\n",
    "                                       title= \"Cardiovascular Disease on Diastolic Blood Pressure\",\n",
    "                                       color=['red','red','red','blue','blue','blue'],label=True)"
   ]
  },
  {
   "cell_type": "markdown",
   "id": "6faee189",
   "metadata": {},
   "source": [
    "c) Smoke"
   ]
  },
  {
   "cell_type": "code",
   "execution_count": 75,
   "id": "436e9f75",
   "metadata": {
    "scrolled": false
   },
   "outputs": [
    {
     "data": {
      "text/plain": [
       "<AxesSubplot:title={'center':'Cardiovascular Disease on Smoking'}, xlabel='(cvd_presence, smoke)', ylabel='Count'>"
      ]
     },
     "execution_count": 75,
     "metadata": {},
     "output_type": "execute_result"
    },
    {
     "data": {
      "image/png": "[encoded data removed]",
      "text/plain": [
       "<Figure size 432x288 with 1 Axes>"
      ]
     },
     "metadata": {},
     "output_type": "display_data"
    }
   ],
   "source": [
    "Count_Smoke_Visualization.plot.bar(xlabel=\"(cvd_presence, smoke)\", ylabel=\"Count\",\n",
    "                                   title= \"Cardiovascular Disease on Smoking\",\n",
    "                                   color=['red','red','blue','blue'],label=True)"
   ]
  },
  {
   "cell_type": "markdown",
   "id": "e392ff0f",
   "metadata": {},
   "source": [
    "d) Alcohol"
   ]
  },
  {
   "cell_type": "code",
   "execution_count": 76,
   "id": "2f5eef75",
   "metadata": {},
   "outputs": [
    {
     "data": {
      "text/plain": [
       "<AxesSubplot:title={'center':'Cardiovascular Disease on Alcohol'}, xlabel='(cvd_presence, alcohol)', ylabel='Count'>"
      ]
     },
     "execution_count": 76,
     "metadata": {},
     "output_type": "execute_result"
    },
    {
     "data": {
      "image/png": "[encoded data removed]",
      "text/plain": [
       "<Figure size 432x288 with 1 Axes>"
      ]
     },
     "metadata": {},
     "output_type": "display_data"
    }
   ],
   "source": [
    "Count_Alcohol_Visualization.plot.bar(xlabel=\"(cvd_presence, alcohol)\", ylabel=\"Count\",\n",
    "                                     title= \"Cardiovascular Disease on Alcohol\",\n",
    "                                     color=['red','red','blue','blue'],label=True)"
   ]
  },
  {
   "cell_type": "markdown",
   "id": "70856b7c",
   "metadata": {},
   "source": [
    "e) Physical Activity"
   ]
  },
  {
   "cell_type": "code",
   "execution_count": 77,
   "id": "33ff5a8e",
   "metadata": {
    "scrolled": true
   },
   "outputs": [
    {
     "data": {
      "text/plain": [
       "<AxesSubplot:title={'center':'Cardiovascular Disease on Physical Activity'}, xlabel='(cvd_presence, physical_activity)', ylabel='Count'>"
      ]
     },
     "execution_count": 77,
     "metadata": {},
     "output_type": "execute_result"
    },
    {
     "data": {
      "image/png": "[encoded data removed]",
      "text/plain": [
       "<Figure size 432x288 with 1 Axes>"
      ]
     },
     "metadata": {},
     "output_type": "display_data"
    }
   ],
   "source": [
    "Count_Active_Visualization.plot.bar(xlabel=\"(cvd_presence, physical_activity)\", ylabel=\"Count\",\n",
    "                                    title= \"Cardiovascular Disease on Physical Activity\",\n",
    "                                    color=['red','red','blue','blue'],label=True)"
   ]
  },
  {
   "cell_type": "markdown",
   "id": "940ce2cf",
   "metadata": {},
   "source": [
    "f) Cholesterol"
   ]
  },
  {
   "cell_type": "code",
   "execution_count": 78,
   "id": "fd33a2e3",
   "metadata": {},
   "outputs": [
    {
     "data": {
      "text/plain": [
       "<AxesSubplot:title={'center':'Cardiovascular Disease on Cholesterol'}, xlabel='(cvd_presence, cholesterol)', ylabel='Count'>"
      ]
     },
     "execution_count": 78,
     "metadata": {},
     "output_type": "execute_result"
    },
    {
     "data": {
      "image/png": "[encoded data removed]",
      "text/plain": [
       "<Figure size 432x288 with 1 Axes>"
      ]
     },
     "metadata": {},
     "output_type": "display_data"
    }
   ],
   "source": [
    "Count_Cholesterol_Visualization.plot.bar(xlabel=\"(cvd_presence, cholesterol)\", ylabel=\"Count\",\n",
    "                                         title= \"Cardiovascular Disease on Cholesterol\",\n",
    "                                         color=['red','red','red','blue','blue','blue'],label=True)"
   ]
  },
  {
   "cell_type": "markdown",
   "id": "8daa9f1a",
   "metadata": {},
   "source": [
    "g) Glucose"
   ]
  },
  {
   "cell_type": "code",
   "execution_count": 79,
   "id": "ee8b34c5",
   "metadata": {
    "scrolled": true
   },
   "outputs": [
    {
     "data": {
      "text/plain": [
       "<AxesSubplot:title={'center':'Cardiovascular Disease on Glucose'}, xlabel='(cvd_presence, glucose)', ylabel='Count'>"
      ]
     },
     "execution_count": 79,
     "metadata": {},
     "output_type": "execute_result"
    },
    {
     "data": {
      "image/png": "[encoded data removed]",
      "text/plain": [
       "<Figure size 432x288 with 1 Axes>"
      ]
     },
     "metadata": {},
     "output_type": "display_data"
    }
   ],
   "source": [
    "Count_Glucose_Visualization.plot.bar(xlabel=\"(cvd_presence, glucose)\", ylabel=\"Count\",\n",
    "                                     title= \"Cardiovascular Disease on Glucose\",\n",
    "                                     color=['red','red','red','blue','blue','blue'],label=True)"
   ]
  },
  {
   "cell_type": "markdown",
   "id": "68ede195",
   "metadata": {},
   "source": [
    "2. Are gender plays an important role of the risk of getting cardiovascular disease?"
   ]
  },
  {
   "cell_type": "code",
   "execution_count": 80,
   "id": "bdfb2640",
   "metadata": {
    "scrolled": true
   },
   "outputs": [
    {
     "data": {
      "text/plain": [
       "<AxesSubplot:title={'center':'Cardiovascular Disease on Gender'}, xlabel='(gender, cvd_presence)', ylabel='Count'>"
      ]
     },
     "execution_count": 80,
     "metadata": {},
     "output_type": "execute_result"
    },
    {
     "data": {
      "image/png": "[encoded data removed]",
      "text/plain": [
       "<Figure size 432x288 with 1 Axes>"
      ]
     },
     "metadata": {},
     "output_type": "display_data"
    }
   ],
   "source": [
    "Gender_Count.plot.bar(xlabel=\"(gender, cvd_presence)\",ylabel=\"Count\",\n",
    "                      title= \"Cardiovascular Disease on Gender\",\n",
    "                      color=['red','red','blue','blue'],label=True)"
   ]
  },
  {
   "cell_type": "markdown",
   "id": "63f13a8a",
   "metadata": {},
   "source": [
    "3. What is the percentage of woman to get cardiovascular disease compared to man?"
   ]
  },
  {
   "cell_type": "code",
   "execution_count": 81,
   "id": "d1982573",
   "metadata": {},
   "outputs": [
    {
     "data": {
      "text/plain": [
       "Text(0.5, 1.0, 'Percentage of Cardiovascular Disease on Gender')"
      ]
     },
     "execution_count": 81,
     "metadata": {},
     "output_type": "execute_result"
    },
    {
     "data": {
      "image/png": "[encoded data removed]",
      "text/plain": [
       "<Figure size 432x288 with 1 Axes>"
      ]
     },
     "metadata": {},
     "output_type": "display_data"
    }
   ],
   "source": [
    "Gender_Count2.insert(2, \"(gender, cvd_presence)\", [\"(1,0)\",\"(1,1)\",\"(2,0)\",\"(2,1)\"], True)\n",
    "\n",
    "gender = Gender_Count2[\"(gender, cvd_presence)\"]\n",
    "percentage = Gender_Count2[\"percentage\"]\n",
    "myexplode = [0.2, 0, 0, 0]\n",
    "plt.pie(percentage, labels=gender, explode=myexplode,\n",
    "autopct='%1.2f%%', shadow=True, startangle=140)\n",
    "plt.title(\"Percentage of Cardiovascular Disease on Gender\")"
   ]
  },
  {
   "cell_type": "markdown",
   "id": "206cb102",
   "metadata": {},
   "source": [
    "4.Can physical activities (exercise) help in reducing the risk of getting cardiovascular disease?"
   ]
  },
  {
   "cell_type": "code",
   "execution_count": 82,
   "id": "06d2e3a1",
   "metadata": {
    "scrolled": false
   },
   "outputs": [
    {
     "data": {
      "text/plain": [
       "<AxesSubplot:title={'center':'Cardiovascular Disease on Physical Activity'}, xlabel='(physical_activity, cvd_presence)', ylabel='Count'>"
      ]
     },
     "execution_count": 82,
     "metadata": {},
     "output_type": "execute_result"
    },
    {
     "data": {
      "image/png": "[encoded data removed]",
      "text/plain": [
       "<Figure size 432x288 with 1 Axes>"
      ]
     },
     "metadata": {},
     "output_type": "display_data"
    }
   ],
   "source": [
    "Count_Active2.plot.bar(xlabel=\"(physical_activity, cvd_presence)\", ylabel=\"Count\",\n",
    "                      title= \"Cardiovascular Disease on Physical Activity\",\n",
    "                      color=['red','red','blue','blue'],label=True)"
   ]
  },
  {
   "cell_type": "code",
   "execution_count": 83,
   "id": "66412df3",
   "metadata": {},
   "outputs": [
    {
     "data": {
      "text/plain": [
       "<AxesSubplot:xlabel='physical_activity', ylabel='cvd_presence'>"
      ]
     },
     "execution_count": 83,
     "metadata": {},
     "output_type": "execute_result"
    },
    {
     "data": {
      "image/png": "[encoded data removed]",
      "text/plain": [
       "<Figure size 432x288 with 2 Axes>"
      ]
     },
     "metadata": {},
     "output_type": "display_data"
    }
   ],
   "source": [
    "e1 = pd.crosstab(exercises.cvd_presence, exercises.physical_activity)\n",
    "sns.heatmap(e1, annot=True,cmap=sns.cubehelix_palette())"
   ]
  },
  {
   "cell_type": "markdown",
   "id": "703e673f",
   "metadata": {},
   "source": [
    "5. Are physical activities affects the systolic blood pressure and diastolic blood pressure?"
   ]
  },
  {
   "cell_type": "markdown",
   "id": "a324176f",
   "metadata": {},
   "source": [
    "a) Systolic Blood Pressure"
   ]
  },
  {
   "cell_type": "code",
   "execution_count": 84,
   "id": "730995df",
   "metadata": {
    "scrolled": true
   },
   "outputs": [
    {
     "data": {
      "text/plain": [
       "<AxesSubplot:xlabel='physical_activity', ylabel='systolic_bp'>"
      ]
     },
     "execution_count": 84,
     "metadata": {},
     "output_type": "execute_result"
    },
    {
     "data": {
      "image/png": "[encoded data removed]",
      "text/plain": [
       "<Figure size 432x288 with 2 Axes>"
      ]
     },
     "metadata": {},
     "output_type": "display_data"
    }
   ],
   "source": [
    "s = pd.crosstab(systolic_corr.systolic_bp, systolic_corr.physical_activity)\n",
    "sns.heatmap(s, annot=True,cmap=sns.cubehelix_palette())"
   ]
  },
  {
   "cell_type": "markdown",
   "id": "ca7f8ba5",
   "metadata": {},
   "source": [
    "b) Diastolic Blood Pressure"
   ]
  },
  {
   "cell_type": "code",
   "execution_count": 85,
   "id": "ca72030c",
   "metadata": {},
   "outputs": [
    {
     "data": {
      "text/plain": [
       "<AxesSubplot:xlabel='physical_activity', ylabel='diastolic_bp'>"
      ]
     },
     "execution_count": 85,
     "metadata": {},
     "output_type": "execute_result"
    },
    {
     "data": {
      "image/png": "[encoded data removed]",
      "text/plain": [
       "<Figure size 432x288 with 2 Axes>"
      ]
     },
     "metadata": {},
     "output_type": "display_data"
    }
   ],
   "source": [
    "d = pd.crosstab(diastolic_corr.diastolic_bp, diastolic_corr.physical_activity)\n",
    "sns.heatmap(d, annot=True,cmap=sns.cubehelix_palette())"
   ]
  },
  {
   "cell_type": "markdown",
   "id": "60f30362",
   "metadata": {},
   "source": [
    "6. Can diabetes be one of the factors that lead to cardiovascular disease?"
   ]
  },
  {
   "cell_type": "code",
   "execution_count": 86,
   "id": "edb58dee",
   "metadata": {
    "scrolled": true
   },
   "outputs": [
    {
     "data": {
      "text/plain": [
       "<AxesSubplot:title={'center':'Cardiovascular Disease on Glucose'}, xlabel='(Diabetes, CVD_Presence)', ylabel='Count'>"
      ]
     },
     "execution_count": 86,
     "metadata": {},
     "output_type": "execute_result"
    },
    {
     "data": {
      "image/png": "[encoded data removed]",
      "text/plain": [
       "<Figure size 432x288 with 1 Axes>"
      ]
     },
     "metadata": {},
     "output_type": "display_data"
    }
   ],
   "source": [
    "diabetes.plot.bar(xlabel='(Diabetes, CVD_Presence)',ylabel=\"Count\",\n",
    "                  title= 'Cardiovascular Disease on Glucose',\n",
    "                  color=['red','red','blue','blue','green','green'])"
   ]
  },
  {
   "cell_type": "code",
   "execution_count": 87,
   "id": "b305858c",
   "metadata": {},
   "outputs": [
    {
     "data": {
      "text/plain": [
       "<AxesSubplot:xlabel='glucose', ylabel='cvd_presence'>"
      ]
     },
     "execution_count": 87,
     "metadata": {},
     "output_type": "execute_result"
    },
    {
     "data": {
      "image/png": "[encoded data removed]",
      "text/plain": [
       "<Figure size 432x288 with 2 Axes>"
      ]
     },
     "metadata": {},
     "output_type": "display_data"
    }
   ],
   "source": [
    "d1 = pd.crosstab(diabetes_corr.cvd_presence, diabetes_corr.glucose)\n",
    "sns.heatmap(d1, annot=True,cmap=sns.cubehelix_palette())"
   ]
  },
  {
   "cell_type": "markdown",
   "id": "a11cdbd3",
   "metadata": {},
   "source": [
    "7. Are BMIs playing an importance role of the risk of getting cardiovascular disease?"
   ]
  },
  {
   "cell_type": "code",
   "execution_count": 88,
   "id": "f29c07dd",
   "metadata": {
    "scrolled": true
   },
   "outputs": [
    {
     "data": {
      "text/plain": [
       "<AxesSubplot:title={'center':'Cardiovascular Disease on BMI'}, xlabel='(bmi, CVD_Presence)', ylabel='Count'>"
      ]
     },
     "execution_count": 88,
     "metadata": {},
     "output_type": "execute_result"
    },
    {
     "data": {
      "image/png": "[encoded data removed]",
      "text/plain": [
       "<Figure size 432x288 with 1 Axes>"
      ]
     },
     "metadata": {},
     "output_type": "display_data"
    }
   ],
   "source": [
    "BMI_Count.plot.bar(xlabel='(bmi, CVD_Presence)',ylabel=\"Count\",\n",
    "                  title= 'Cardiovascular Disease on BMI',\n",
    "                  color=['red','red','blue','blue','green','green','yellow','yellow'])"
   ]
  },
  {
   "cell_type": "markdown",
   "id": "c8894f56",
   "metadata": {},
   "source": [
    "8. Are lifestyles affecting the risk of getting cardiovascular disease?"
   ]
  },
  {
   "cell_type": "markdown",
   "id": "bb8e39c8",
   "metadata": {},
   "source": [
    "a) Smoke"
   ]
  },
  {
   "cell_type": "code",
   "execution_count": 89,
   "id": "5724f2d9",
   "metadata": {
    "scrolled": true
   },
   "outputs": [
    {
     "data": {
      "text/plain": [
       "<AxesSubplot:xlabel='smoke', ylabel='cvd_presence'>"
      ]
     },
     "execution_count": 89,
     "metadata": {},
     "output_type": "execute_result"
    },
    {
     "data": {
      "image/png": "[encoded data removed]",
      "text/plain": [
       "<Figure size 432x288 with 2 Axes>"
      ]
     },
     "metadata": {},
     "output_type": "display_data"
    }
   ],
   "source": [
    "s1 = pd.crosstab(smoke_corr.cvd_presence, smoke_corr.smoke)\n",
    "sns.heatmap(s1, annot=True,cmap=sns.cubehelix_palette())"
   ]
  },
  {
   "cell_type": "markdown",
   "id": "566a40bc",
   "metadata": {},
   "source": [
    "b) Alcohol"
   ]
  },
  {
   "cell_type": "code",
   "execution_count": 90,
   "id": "1d81b5d7",
   "metadata": {},
   "outputs": [
    {
     "data": {
      "text/plain": [
       "<AxesSubplot:xlabel='alcohol', ylabel='cvd_presence'>"
      ]
     },
     "execution_count": 90,
     "metadata": {},
     "output_type": "execute_result"
    },
    {
     "data": {
      "image/png": "[encoded data removed]",
      "text/plain": [
       "<Figure size 432x288 with 2 Axes>"
      ]
     },
     "metadata": {},
     "output_type": "display_data"
    }
   ],
   "source": [
    "a1 = pd.crosstab(alcohol_corr.cvd_presence, alcohol_corr.alcohol)\n",
    "sns.heatmap(a1, annot=True,cmap=sns.cubehelix_palette())"
   ]
  },
  {
   "cell_type": "markdown",
   "id": "d322be93",
   "metadata": {},
   "source": [
    "c) Physical Activity"
   ]
  },
  {
   "cell_type": "code",
   "execution_count": 91,
   "id": "97f5b29f",
   "metadata": {},
   "outputs": [
    {
     "data": {
      "text/plain": [
       "<AxesSubplot:xlabel='physical_activity', ylabel='cvd_presence'>"
      ]
     },
     "execution_count": 91,
     "metadata": {},
     "output_type": "execute_result"
    },
    {
     "data": {
      "image/png": "[encoded data removed]",
      "text/plain": [
       "<Figure size 432x288 with 2 Axes>"
      ]
     },
     "metadata": {},
     "output_type": "display_data"
    }
   ],
   "source": [
    "p1 = pd.crosstab(physicalActivity_corr.cvd_presence, physicalActivity_corr.physical_activity)\n",
    "sns.heatmap(p1, annot=True,cmap=sns.cubehelix_palette())"
   ]
  },
  {
   "cell_type": "markdown",
   "id": "3ca0b9d3",
   "metadata": {
    "scrolled": true
   },
   "source": [
    "9.How can we do to prevent, control and manage the cardiovascular disease?"
   ]
  },
  {
   "cell_type": "code",
   "execution_count": null,
   "id": "aead94aa",
   "metadata": {},
   "outputs": [],
   "source": []
  },
  {
   "cell_type": "markdown",
   "id": "4f74dd09",
   "metadata": {},
   "source": [
    "10. What is the percentage of lifestyles affecting the risk of getting cardiovascular disease?"
   ]
  },
  {
   "cell_type": "markdown",
   "id": "2ee5ba89",
   "metadata": {},
   "source": [
    "a) Smoke"
   ]
  },
  {
   "cell_type": "code",
   "execution_count": 92,
   "id": "670a1fb7",
   "metadata": {
    "scrolled": true
   },
   "outputs": [
    {
     "data": {
      "text/plain": [
       "Text(0.5, 1.0, 'Percentage of Cardiovascular Disease on Smoke')"
      ]
     },
     "execution_count": 92,
     "metadata": {},
     "output_type": "execute_result"
    },
    {
     "data": {
      "image/png": "[encoded data removed]",
      "text/plain": [
       "<Figure size 432x288 with 1 Axes>"
      ]
     },
     "metadata": {},
     "output_type": "display_data"
    }
   ],
   "source": [
    "Count_Smoke.insert(2, \"(cvd_presence, smoke)\", [\"(0,0)\",\"(0,1)\",\"(1,0)\",\"(1,1)\"], True)\n",
    "\n",
    "smoke = Count_Smoke[\"(cvd_presence, smoke)\"]\n",
    "percentage = Count_Smoke[\"percentage\"]\n",
    "myexplode = [0, 0, 0, 0.5]\n",
    "plt.pie(percentage, labels=smoke, explode=myexplode,\n",
    "autopct='%1.2f%%', shadow=True, startangle=140)\n",
    "plt.title(\"Percentage of Cardiovascular Disease on Smoke\")"
   ]
  },
  {
   "cell_type": "markdown",
   "id": "8d050fc0",
   "metadata": {},
   "source": [
    "b) Alcohol"
   ]
  },
  {
   "cell_type": "code",
   "execution_count": 93,
   "id": "48d312e2",
   "metadata": {},
   "outputs": [
    {
     "data": {
      "text/plain": [
       "Text(0.5, 1.0, 'Percentage of Cardiovascular Disease on Alcohol')"
      ]
     },
     "execution_count": 93,
     "metadata": {},
     "output_type": "execute_result"
    },
    {
     "data": {
      "image/png": "[encoded data removed]",
      "text/plain": [
       "<Figure size 432x288 with 1 Axes>"
      ]
     },
     "metadata": {},
     "output_type": "display_data"
    }
   ],
   "source": [
    "Count_Alcohol.insert(2, \"(cvd_presence, alcohol)\", [\"(0,0)\",\"(0,1)\",\"(1,0)\",\"(1,1)\"], True)\n",
    "\n",
    "alcohol = Count_Alcohol[\"(cvd_presence, alcohol)\"]\n",
    "percentage = Count_Alcohol[\"percentage\"]\n",
    "myexplode = [0, 0, 0, 0.5]\n",
    "plt.pie(percentage, labels=alcohol, explode=myexplode,\n",
    "autopct='%1.2f%%', shadow=True, startangle=140)\n",
    "plt.title(\"Percentage of Cardiovascular Disease on Alcohol\")"
   ]
  },
  {
   "cell_type": "markdown",
   "id": "98541949",
   "metadata": {},
   "source": [
    "c) Percentage of physical_activity"
   ]
  },
  {
   "cell_type": "code",
   "execution_count": 94,
   "id": "aee868b9",
   "metadata": {},
   "outputs": [
    {
     "data": {
      "text/plain": [
       "Text(0.5, 1.0, 'Percentage of Cardiovascular Disease on Physical Activity')"
      ]
     },
     "execution_count": 94,
     "metadata": {},
     "output_type": "execute_result"
    },
    {
     "data": {
      "image/png": "[encoded data removed]",
      "text/plain": [
       "<Figure size 432x288 with 1 Axes>"
      ]
     },
     "metadata": {},
     "output_type": "display_data"
    }
   ],
   "source": [
    "Count_Active.insert(2, \"(cvd_presence, active)\", [\"(0,0)\",\"(0,1)\",\"(1,0)\",\"(1,1)\"], True)\n",
    "\n",
    "active = Count_Active[\"(cvd_presence, active)\"]\n",
    "percentage = Count_Active[\"percentage\"]\n",
    "myexplode = [0, 0, 0, 0.2]\n",
    "plt.pie(percentage, labels=active, explode=myexplode,\n",
    "autopct='%1.2f%%', shadow=True, startangle=140)\n",
    "plt.title(\"Percentage of Cardiovascular Disease on Physical Activity\")"
   ]
  },
  {
   "cell_type": "markdown",
   "id": "ad196335",
   "metadata": {},
   "source": [
    "11. Can healthy diet prevent and control the risk of getting cardiovascular disease?"
   ]
  },
  {
   "cell_type": "markdown",
   "id": "3d2343eb",
   "metadata": {},
   "source": [
    "a) Cholesterol"
   ]
  },
  {
   "cell_type": "code",
   "execution_count": 95,
   "id": "ab6536b9",
   "metadata": {},
   "outputs": [
    {
     "data": {
      "text/plain": [
       "Text(0.5, 1.0, 'Percentage of Cardiovascular Disease on Cholesterol')"
      ]
     },
     "execution_count": 95,
     "metadata": {},
     "output_type": "execute_result"
    },
    {
     "data": {
      "image/png": "[encoded data removed]",
      "text/plain": [
       "<Figure size 432x288 with 1 Axes>"
      ]
     },
     "metadata": {},
     "output_type": "display_data"
    }
   ],
   "source": [
    "Count_Cholesterol.insert(2, \"(cholesterol, cvd_presence)\", [\"(0,1)\",\"(0,2)\",\"(0,3)\",\"(1,1)\",\"(1,2)\",\"(1,3)\"], True)\n",
    "\n",
    "cholesterol = Count_Cholesterol[\"(cholesterol, cvd_presence)\"]\n",
    "percentage = Count_Cholesterol[\"percentage\"]\n",
    "myexplode = [0.2, 0, 0, 0, 0, 0]\n",
    "plt.pie(percentage, labels=cholesterol, explode=myexplode,\n",
    "autopct='%1.2f%%', shadow=True, startangle=140)\n",
    "plt.title(\"Percentage of Cardiovascular Disease on Cholesterol\")"
   ]
  },
  {
   "cell_type": "markdown",
   "id": "17ce8c1f",
   "metadata": {},
   "source": [
    "b) Glucose"
   ]
  },
  {
   "cell_type": "code",
   "execution_count": 96,
   "id": "7143a5b3",
   "metadata": {},
   "outputs": [
    {
     "data": {
      "text/plain": [
       "Text(0.5, 1.0, 'Percentage of Cardiovascular Disease on Glucose')"
      ]
     },
     "execution_count": 96,
     "metadata": {},
     "output_type": "execute_result"
    },
    {
     "data": {
      "image/png": "[encoded data removed]",
      "text/plain": [
       "<Figure size 432x288 with 1 Axes>"
      ]
     },
     "metadata": {},
     "output_type": "display_data"
    }
   ],
   "source": [
    "Count_Glucose.insert(2, \"(glucose, cvd_presence)\", [\"(0,1)\",\"(0,2)\",\"(0,3)\",\"(1,1)\",\"(1,2)\",\"(1,3)\"], True)\n",
    "\n",
    "cholesterol = Count_Glucose[\"(glucose, cvd_presence)\"]\n",
    "percentage = Count_Glucose[\"percentage\"]\n",
    "myexplode = [0.2, 0, 0, 0, 0, 0]\n",
    "plt.pie(percentage, labels=cholesterol, explode=myexplode,\n",
    "autopct='%1.2f%%', shadow=True, startangle=140)\n",
    "plt.title(\"Percentage of Cardiovascular Disease on Glucose\")"
   ]
  },
  {
   "cell_type": "code",
   "execution_count": null,
   "id": "1754a761",
   "metadata": {},
   "outputs": [],
   "source": [
    "#12.Prediction of the numbers of people getting cardiovascular disease if they are not taking care of their diet and lifestyle?\n",
    "\n",
    "x=cvd_df.iloc[:,7:10].values\n",
    "y=cvd_df.iloc[:,11].values"
   ]
  },
  {
   "cell_type": "code",
   "execution_count": null,
   "id": "5f36184b",
   "metadata": {},
   "outputs": [],
   "source": [
    "from sklearn.model_selection import train_test_split\n",
    "x_train,x_test,y_train,y_test = train_test_split(x,y,test_size=0.20)"
   ]
  },
  {
   "cell_type": "code",
   "execution_count": null,
   "id": "6de23b2d",
   "metadata": {},
   "outputs": [],
   "source": [
    "from sklearn.preprocessing import StandardScaler\n",
    "scaler =StandardScaler()\n",
    "scaler.fit(x_train)\n",
    "x_train = scaler.transform(x_train)\n",
    "x_test = scaler.transform(x_test)"
   ]
  },
  {
   "cell_type": "code",
   "execution_count": null,
   "id": "88c26846",
   "metadata": {},
   "outputs": [],
   "source": [
    "from sklearn.neighbors import KNeighborsClassifier\n",
    "classifier = KNeighborsClassifier(n_neighbors=5)\n",
    "classifier.fit(x_train,y_train)"
   ]
  },
  {
   "cell_type": "code",
   "execution_count": null,
   "id": "c089afd3",
   "metadata": {},
   "outputs": [],
   "source": [
    "y_pred = classifier.predict(x_test)\n"
   ]
  },
  {
   "cell_type": "code",
   "execution_count": null,
   "id": "51780f13",
   "metadata": {},
   "outputs": [],
   "source": [
    "from sklearn.metrics import classification_report,confusion_matrix\n",
    "print(classification_report(y_test,y_pred))\n",
    "print(confusion_matrix(y_test,y_pred))"
   ]
  },
  {
   "cell_type": "markdown",
   "id": "2e6842b5",
   "metadata": {},
   "source": [
    "## Machine Learning"
   ]
  },
  {
   "cell_type": "code",
   "execution_count": 97,
   "id": "04c6786b",
   "metadata": {},
   "outputs": [],
   "source": [
    "#Import all required libraries\n",
    "from sklearn import preprocessing\n",
    "from sklearn.model_selection import train_test_split\n",
    "from sklearn.linear_model import LogisticRegression\n",
    "from sklearn.metrics import (confusion_matrix, jaccard_score, classification_report, \n",
    "                            log_loss, roc_auc_score, roc_curve)"
   ]
  },
  {
   "cell_type": "code",
   "execution_count": 98,
   "id": "95a49cc9",
   "metadata": {},
   "outputs": [],
   "source": [
    "#Data selection and set target feature as integer\n",
    "cvd_df['cvd_presence'] = cvd_df['cvd_presence'].astype('int')"
   ]
  },
  {
   "cell_type": "code",
   "execution_count": 99,
   "id": "21fb4849",
   "metadata": {},
   "outputs": [
    {
     "data": {
      "text/plain": [
       "array([[ 50.,   2., 168.,  62., 110.,  80.,   1.,   1.,   0.,   0.,   1.],\n",
       "       [ 55.,   1., 156.,  85., 140.,  90.,   3.,   1.,   0.,   0.,   1.],\n",
       "       [ 51.,   1., 165.,  64., 130.,  70.,   3.,   1.,   0.,   0.,   0.],\n",
       "       [ 48.,   2., 169.,  82., 150., 100.,   1.,   1.,   0.,   0.,   1.],\n",
       "       [ 47.,   1., 156.,  56., 100.,  60.,   1.,   1.,   0.,   0.,   0.]])"
      ]
     },
     "execution_count": 99,
     "metadata": {},
     "output_type": "execute_result"
    }
   ],
   "source": [
    "#Define X and Y arrays for the dataset\n",
    "X = np.asarray(cvd_df[['age','gender','height','weight','systolic_bp','diastolic_bp','cholesterol',\n",
    "                       'glucose','smoke','alcohol','physical_activity']])\n",
    "Y = np.asarray(cvd_df['cvd_presence'])\n",
    "X[0:5]"
   ]
  },
  {
   "cell_type": "code",
   "execution_count": 100,
   "id": "fd9e4b7f",
   "metadata": {},
   "outputs": [
    {
     "data": {
      "text/plain": [
       "array([[-0.41869041,  1.36294738,  0.44014764, -0.86423037, -0.99596744,\n",
       "        -0.14249002, -0.53740102, -0.39535678, -0.31101826, -0.2382645 ,\n",
       "         0.49505451],\n",
       "       [ 0.32046382, -0.73370404, -1.03187471,  0.75641491,  0.79641235,\n",
       "         0.88618491,  2.40650799, -0.39535678, -0.31101826, -0.2382645 ,\n",
       "         0.49505451],\n",
       "       [-0.27085957, -0.73370404,  0.07214205, -0.72330469,  0.19895242,\n",
       "        -1.17116494,  2.40650799, -0.39535678, -0.31101826, -0.2382645 ,\n",
       "        -2.01997956],\n",
       "       [-0.71435211,  1.36294738,  0.56281617,  0.5450264 ,  1.39387228,\n",
       "         1.91485984, -0.53740102, -0.39535678, -0.31101826, -0.2382645 ,\n",
       "         0.49505451],\n",
       "       [-0.86218295, -0.73370404, -1.03187471, -1.28700739, -1.59342737,\n",
       "        -2.19983987, -0.53740102, -0.39535678, -0.31101826, -0.2382645 ,\n",
       "        -2.01997956]])"
      ]
     },
     "execution_count": 100,
     "metadata": {},
     "output_type": "execute_result"
    }
   ],
   "source": [
    "#Normalize the dataset\n",
    "X = preprocessing.StandardScaler().fit(X).transform(X)\n",
    "X[0:5]"
   ]
  },
  {
   "cell_type": "code",
   "execution_count": 101,
   "id": "18cb61ae",
   "metadata": {},
   "outputs": [
    {
     "name": "stdout",
     "output_type": "stream",
     "text": [
      "Train set: (45897, 11) (45897,)\n",
      "Test set: (22606, 11) (22606,)\n"
     ]
    }
   ],
   "source": [
    "#Split dataset into train and test set\n",
    "X_train, X_test, Y_train, Y_test = train_test_split( X, Y, test_size=0.33, random_state=1)\n",
    "print ('Train set:', X_train.shape,  Y_train.shape)\n",
    "print ('Test set:', X_test.shape,  Y_test.shape)"
   ]
  },
  {
   "cell_type": "code",
   "execution_count": 102,
   "id": "2f42998e",
   "metadata": {},
   "outputs": [],
   "source": [
    "#Fitting the model with train set\n",
    "LR_model = LogisticRegression(C=0.01, solver='liblinear').fit(X_train,Y_train)"
   ]
  },
  {
   "cell_type": "code",
   "execution_count": 103,
   "id": "a47fd563",
   "metadata": {},
   "outputs": [
    {
     "name": "stdout",
     "output_type": "stream",
     "text": [
      "[1 0 0 ... 0 0 1]\n",
      "[[0.23269504 0.76730496]\n",
      " [0.58703377 0.41296623]\n",
      " [0.61233351 0.38766649]\n",
      " ...\n",
      " [0.697886   0.302114  ]\n",
      " [0.76768856 0.23231144]\n",
      " [0.31351129 0.68648871]]\n"
     ]
    }
   ],
   "source": [
    "#Prediction using the model\n",
    "Y_predict = LR_model.predict(X_test)\n",
    "Y_predict_prob = LR_model.predict_proba(X_test)\n",
    "\n",
    "print(Y_predict)\n",
    "print(Y_predict_prob)"
   ]
  },
  {
   "cell_type": "code",
   "execution_count": 104,
   "id": "7c42456b",
   "metadata": {},
   "outputs": [
    {
     "data": {
      "text/plain": [
       "Text(0.5, 34.0, 'Predicted Values')"
      ]
     },
     "execution_count": 104,
     "metadata": {},
     "output_type": "execute_result"
    },
    {
     "data": {
      "image/png": "[encoded data removed]",
      "text/plain": [
       "<Figure size 864x432 with 2 Axes>"
      ]
     },
     "metadata": {},
     "output_type": "display_data"
    }
   ],
   "source": [
    "#Visualizing Prediction using Confusion Matrix\n",
    "CM = confusion_matrix(Y_test,Y_predict)\n",
    "plt.figure(figsize=(12,6))\n",
    "plt.title(\"Confusion Matrix\")\n",
    "sns.heatmap(CM, annot=True,fmt='d', cmap='Blues')\n",
    "plt.ylabel(\"Actual Values\")\n",
    "plt.xlabel(\"Predicted Values\")"
   ]
  },
  {
   "cell_type": "code",
   "execution_count": 105,
   "id": "4b88a974",
   "metadata": {},
   "outputs": [
    {
     "data": {
      "text/plain": [
       "0.5874385871730182"
      ]
     },
     "execution_count": 105,
     "metadata": {},
     "output_type": "execute_result"
    }
   ],
   "source": [
    "#Evaluate Jaccard Index\n",
    "jaccard_score(Y_test, Y_predict, pos_label=0)"
   ]
  },
  {
   "cell_type": "code",
   "execution_count": 106,
   "id": "92bdf155",
   "metadata": {},
   "outputs": [
    {
     "name": "stdout",
     "output_type": "stream",
     "text": [
      "              precision    recall  f1-score   support\n",
      "\n",
      "           0       0.70      0.79      0.74     11211\n",
      "           1       0.76      0.66      0.71     11395\n",
      "\n",
      "    accuracy                           0.73     22606\n",
      "   macro avg       0.73      0.73      0.72     22606\n",
      "weighted avg       0.73      0.73      0.72     22606\n",
      "\n"
     ]
    }
   ],
   "source": [
    "#Evaluate Precision, Recall and F1 Score\n",
    "print (classification_report(Y_test, Y_predict))"
   ]
  },
  {
   "cell_type": "code",
   "execution_count": 107,
   "id": "b5f6c687",
   "metadata": {},
   "outputs": [
    {
     "data": {
      "text/plain": [
       "0.5670037043524809"
      ]
     },
     "execution_count": 107,
     "metadata": {},
     "output_type": "execute_result"
    }
   ],
   "source": [
    "#Evaluate log loss\n",
    "log_loss(Y_test, Y_predict_prob)"
   ]
  },
  {
   "cell_type": "code",
   "execution_count": 108,
   "id": "f97460a2",
   "metadata": {},
   "outputs": [
    {
     "data": {
      "text/plain": [
       "<matplotlib.legend.Legend at 0x21eefdc31c0>"
      ]
     },
     "execution_count": 108,
     "metadata": {},
     "output_type": "execute_result"
    },
    {
     "data": {
      "image/png": "[encoded data removed]",
      "text/plain": [
       "<Figure size 432x288 with 1 Axes>"
      ]
     },
     "metadata": {},
     "output_type": "display_data"
    }
   ],
   "source": [
    "#Evaluate AUC score\n",
    "\n",
    "#define metrics\n",
    "Y_predict_proba = LR_model.predict_proba(X_test)[::,1]\n",
    "false_positive_rate, true_positive_rate, _ = roc_curve(Y_test,  Y_predict_proba)\n",
    "auc = roc_auc_score(Y_test, Y_predict_proba)\n",
    "\n",
    "#create ROC curve\n",
    "plt.plot(false_positive_rate,true_positive_rate,label=\"AUC=\"+str(auc))\n",
    "plt.ylabel('True Positive Rate')\n",
    "plt.xlabel('False Positive Rate')\n",
    "plt.legend(loc=4)"
   ]
  }
 ],
 "metadata": {
  "kernelspec": {
   "display_name": "Python 3 (ipykernel)",
   "language": "python",
   "name": "python3"
  },
  "language_info": {
   "codemirror_mode": {
    "name": "ipython",
    "version": 3
   },
   "file_extension": ".py",
   "mimetype": "text/x-python",
   "name": "python",
   "nbconvert_exporter": "python",
   "pygments_lexer": "ipython3",
   "version": "3.8.8"
  }
 },
 "nbformat": 4,
 "nbformat_minor": 5
}
